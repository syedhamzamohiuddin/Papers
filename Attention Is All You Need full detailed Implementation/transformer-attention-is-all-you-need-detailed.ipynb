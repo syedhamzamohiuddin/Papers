{
 "cells": [
  {
   "cell_type": "markdown",
   "id": "28bb19e3",
   "metadata": {
    "papermill": {
     "duration": 0.02917,
     "end_time": "2024-08-07T14:00:59.026936",
     "exception": false,
     "start_time": "2024-08-07T14:00:58.997766",
     "status": "completed"
    },
    "tags": []
   },
   "source": [
    "# Attention Is All You Need"
   ]
  },
  {
   "cell_type": "markdown",
   "id": "fdc3e1bf",
   "metadata": {
    "papermill": {
     "duration": 0.027848,
     "end_time": "2024-08-07T14:00:59.083179",
     "exception": false,
     "start_time": "2024-08-07T14:00:59.055331",
     "status": "completed"
    },
    "tags": []
   },
   "source": [
    "## Introduction\n",
    "In This notebook, we will implement the english to german model from the paper titled, \"Attention Is All You Need\" from scratch in TensorFlow. The structure is as follows:\n",
    "- Training Data\n",
    "- Validation Data\n",
    "- Test Data\n",
    "- Transformer Model\n",
    "- Loss\n",
    "- Learning rate schedule\n",
    "- Training\n",
    "- Metrics plot\n",
    "- Prediction example\n",
    "- Test Loss\n",
    "\n",
    "__Note__: Keep the paper, [\"Attention Is All you Need\"](https://arxiv.org/abs/1706.03762) open for referencing. I will be referencing it throughout the notebook.\n",
    "- Some important concepts covered: Three-way weight tying, Transformer Architecture, shared Byte-Pair BPE vocabulary."
   ]
  },
  {
   "cell_type": "code",
   "execution_count": 1,
   "id": "26eec226",
   "metadata": {
    "execution": {
     "iopub.execute_input": "2024-08-07T14:00:59.143296Z",
     "iopub.status.busy": "2024-08-07T14:00:59.142889Z",
     "iopub.status.idle": "2024-08-07T14:01:14.534221Z",
     "shell.execute_reply": "2024-08-07T14:01:14.532268Z"
    },
    "papermill": {
     "duration": 15.42544,
     "end_time": "2024-08-07T14:01:14.538407",
     "exception": false,
     "start_time": "2024-08-07T14:00:59.112967",
     "status": "completed"
    },
    "tags": []
   },
   "outputs": [
    {
     "name": "stderr",
     "output_type": "stream",
     "text": [
      "2024-08-07 14:01:01.234250: E external/local_xla/xla/stream_executor/cuda/cuda_dnn.cc:9261] Unable to register cuDNN factory: Attempting to register factory for plugin cuDNN when one has already been registered\n",
      "2024-08-07 14:01:01.234380: E external/local_xla/xla/stream_executor/cuda/cuda_fft.cc:607] Unable to register cuFFT factory: Attempting to register factory for plugin cuFFT when one has already been registered\n",
      "2024-08-07 14:01:01.399975: E external/local_xla/xla/stream_executor/cuda/cuda_blas.cc:1515] Unable to register cuBLAS factory: Attempting to register factory for plugin cuBLAS when one has already been registered\n"
     ]
    }
   ],
   "source": [
    "from tensorflow.keras.layers import Layer, Dense, LayerNormalization, Embedding, Dropout, Softmax, Masking\n",
    "from tensorflow.keras.models import Model, Sequential\n",
    "import tensorflow as tf\n",
    "import numpy as np\n",
    "import re\n",
    "from tensorflow.keras.callbacks import Callback,ModelCheckpoint,CSVLogger,History\n",
    "import time\n",
    "import os\n",
    "import matplotlib.pyplot as plt\n",
    "import numpy as np"
   ]
  },
  {
   "cell_type": "code",
   "execution_count": 2,
   "id": "fcaf286b",
   "metadata": {
    "execution": {
     "iopub.execute_input": "2024-08-07T14:01:14.623615Z",
     "iopub.status.busy": "2024-08-07T14:01:14.617522Z",
     "iopub.status.idle": "2024-08-07T14:01:14.637630Z",
     "shell.execute_reply": "2024-08-07T14:01:14.636055Z"
    },
    "papermill": {
     "duration": 0.067332,
     "end_time": "2024-08-07T14:01:14.641389",
     "exception": false,
     "start_time": "2024-08-07T14:01:14.574057",
     "status": "completed"
    },
    "tags": []
   },
   "outputs": [
    {
     "data": {
      "text/plain": [
       "[]"
      ]
     },
     "execution_count": 2,
     "metadata": {},
     "output_type": "execute_result"
    }
   ],
   "source": [
    "tf.config.list_physical_devices('GPU')"
   ]
  },
  {
   "cell_type": "markdown",
   "id": "3d4811d5",
   "metadata": {
    "papermill": {
     "duration": 0.031358,
     "end_time": "2024-08-07T14:01:14.704930",
     "exception": false,
     "start_time": "2024-08-07T14:01:14.673572",
     "status": "completed"
    },
    "tags": []
   },
   "source": [
    "## Training Data \n",
    "### Background:\n",
    "- We are interested in WMT 2014 English-German NMT task.\n",
    "- In the section 5 (Training) of the paper, it mentions:\n",
    "- - ~ 4.5 million sentence pairs\n",
    "- - Sentence were encoded using byte-pair encoding.\n",
    "- - Has shared source-target vocabulary.\n",
    "- - The vocabulary size is approx 37000.\n",
    "- - Sentence pairs were batched together by approximate sequence length. Each training\n",
    "batch contained a set of sentence pairs containing approximately 25000 source tokens and 25000\n",
    "target tokens.\n",
    "\n",
    "### Additional details (Not needed to continue this notebook)\n",
    "- I have already provided the prepared training, validation, test data, as well as the vocabulary beforehand. So skip this, if not interested.\n",
    "- The following steps were done to get the exact data as in the paper.\n",
    "- I will just briefly mention the details for generating the dataset and the vocabulary. If someone needs more detail, then please comment.\n",
    "- Firstly, download the data from [wmt14](https://www.statmt.org/wmt14/translation-task.html) under the section 'Download', and the subsection 'parallel-data'. *Europarl v7*, *Common Crawl corpus*, and *News Commentry* options are chosen, and from those zip folders, the corresponding english and german files are used.\n",
    "- The dev and test set are also present below.\n",
    "- Next, just adapt the the [script](https://github.com/google/seq2seq/blob/master/bin/data/wmt16_en_de.sh) to wmt2014. Very briefly, this script does the following:\n",
    "- - Dowloads the zipped training, validation, test data, extracts it, concatenate training data.\n",
    "- - Clones moses repo for data preprocessing. Convert between data formats.\n",
    "- - Tokenise data using moses script.\n",
    "- - Clean data using moses script.\n",
    "- - Create BPE vocab using the git [rsennrich/subword-nmt](https://github.com/rsennrich/subword-nmt.git).\n",
    "\n",
    "__Note:__ The above steps were to obtain exact data as in the paper. Like there are certain implementation details, like preprocessing, the exact way the BPE is generated (BPE algo is ran on the concatentation of english and german training files), etc. For an excellent comprehensive guide, refer to Andrej Karpathy's [excellent video on youtube](https://youtu.be/zduSFxRajkE?si=l5hKj74BB9Zby5gf). "
   ]
  },
  {
   "cell_type": "markdown",
   "id": "c414c50f",
   "metadata": {
    "papermill": {
     "duration": 0.029633,
     "end_time": "2024-08-07T14:01:14.767638",
     "exception": false,
     "start_time": "2024-08-07T14:01:14.738005",
     "status": "completed"
    },
    "tags": []
   },
   "source": [
    "#### Load Vocabulary"
   ]
  },
  {
   "cell_type": "code",
   "execution_count": 3,
   "id": "657ef5e0",
   "metadata": {
    "execution": {
     "iopub.execute_input": "2024-08-07T14:01:14.832272Z",
     "iopub.status.busy": "2024-08-07T14:01:14.831777Z",
     "iopub.status.idle": "2024-08-07T14:01:14.950571Z",
     "shell.execute_reply": "2024-08-07T14:01:14.948931Z"
    },
    "papermill": {
     "duration": 0.155018,
     "end_time": "2024-08-07T14:01:14.953718",
     "exception": false,
     "start_time": "2024-08-07T14:01:14.798700",
     "status": "completed"
    },
    "tags": []
   },
   "outputs": [
    {
     "data": {
      "text/plain": [
       "36711"
      ]
     },
     "execution_count": 3,
     "metadata": {},
     "output_type": "execute_result"
    }
   ],
   "source": [
    "vocabulary = None\n",
    "pattern = r'\\n$'\n",
    "root = \"/kaggle/input/transformer-en-de-nmt-wmt14-bpe/\"\n",
    "with open(root+\"vocab.bpe.32000\", encoding='utf8') as h:\n",
    "    vocabulary = h.readlines()\n",
    "    vocabulary = list(map(lambda word:re.sub(pattern,'', word), vocabulary))\n",
    "len(vocabulary)\n",
    "\n",
    "special_tokens = ['<UNK>','<StartOfSequence>','<EndOfSequence>']\n",
    "total_vocab = vocabulary + special_tokens\n",
    "len(total_vocab)"
   ]
  },
  {
   "cell_type": "markdown",
   "id": "9df5fa5f",
   "metadata": {
    "papermill": {
     "duration": 0.038243,
     "end_time": "2024-08-07T14:01:15.025180",
     "exception": false,
     "start_time": "2024-08-07T14:01:14.986937",
     "status": "completed"
    },
    "tags": []
   },
   "source": [
    "#### Create a Dictionary Mapping for the vocabulary"
   ]
  },
  {
   "cell_type": "code",
   "execution_count": 4,
   "id": "966aa9cf",
   "metadata": {
    "execution": {
     "iopub.execute_input": "2024-08-07T14:01:15.094257Z",
     "iopub.status.busy": "2024-08-07T14:01:15.093546Z",
     "iopub.status.idle": "2024-08-07T14:01:15.161506Z",
     "shell.execute_reply": "2024-08-07T14:01:15.159807Z"
    },
    "papermill": {
     "duration": 0.106069,
     "end_time": "2024-08-07T14:01:15.165368",
     "exception": false,
     "start_time": "2024-08-07T14:01:15.059299",
     "status": "completed"
    },
    "tags": []
   },
   "outputs": [],
   "source": [
    "idx   = tf.range(1,len(total_vocab)+1) # start with 1, as 0 is for padding. Has total size of total_vocab\n",
    "words = total_vocab\n",
    "\n",
    "idx   = tf.constant(idx)\n",
    "words = tf.constant(words)\n",
    "\n",
    "words_idx_init = tf.lookup.KeyValueTensorInitializer(words, idx)\n",
    "words_idx = tf.lookup.StaticHashTable(words_idx_init,-1)\n",
    "\n",
    "idx_words_init = tf.lookup.KeyValueTensorInitializer(idx, words)\n",
    "idx_words = tf.lookup.StaticHashTable(idx_words_init,'<UNK>')"
   ]
  },
  {
   "cell_type": "code",
   "execution_count": 5,
   "id": "067216c4",
   "metadata": {
    "execution": {
     "iopub.execute_input": "2024-08-07T14:01:15.234190Z",
     "iopub.status.busy": "2024-08-07T14:01:15.233735Z",
     "iopub.status.idle": "2024-08-07T14:01:15.239741Z",
     "shell.execute_reply": "2024-08-07T14:01:15.238548Z"
    },
    "papermill": {
     "duration": 0.041666,
     "end_time": "2024-08-07T14:01:15.242763",
     "exception": false,
     "start_time": "2024-08-07T14:01:15.201097",
     "status": "completed"
    },
    "tags": []
   },
   "outputs": [],
   "source": [
    "max_seq_len = 64\n",
    "vocab_size = len(total_vocab)\n",
    "batch_size=128"
   ]
  },
  {
   "cell_type": "markdown",
   "id": "10eb47ab",
   "metadata": {
    "papermill": {
     "duration": 0.030195,
     "end_time": "2024-08-07T14:01:15.303430",
     "exception": false,
     "start_time": "2024-08-07T14:01:15.273235",
     "status": "completed"
    },
    "tags": []
   },
   "source": [
    "#### Data generator"
   ]
  },
  {
   "cell_type": "code",
   "execution_count": 6,
   "id": "e349fe2d",
   "metadata": {
    "execution": {
     "iopub.execute_input": "2024-08-07T14:01:15.372078Z",
     "iopub.status.busy": "2024-08-07T14:01:15.371601Z",
     "iopub.status.idle": "2024-08-07T14:01:15.387128Z",
     "shell.execute_reply": "2024-08-07T14:01:15.385357Z"
    },
    "papermill": {
     "duration": 0.053024,
     "end_time": "2024-08-07T14:01:15.390262",
     "exception": false,
     "start_time": "2024-08-07T14:01:15.337238",
     "status": "completed"
    },
    "tags": []
   },
   "outputs": [],
   "source": [
    "# Training data preprocessing\n",
    "def preprocess_data(x,y):\n",
    "   \n",
    "    \n",
    "    # Preprocess features\n",
    "    \n",
    "    e,d=x\n",
    "    \n",
    "    # split sentence\n",
    "    e= tf.strings.split(tf.strings.join([start,e,end],separator=' ')) \n",
    "    \n",
    "    # tokenize (convert to numbers)\n",
    "    e = words_idx.lookup(e) \n",
    "    \n",
    "    # Truncate sequence\n",
    "    e = e[:max_seq_len] \n",
    "    \n",
    "    #padding\n",
    "    e = tf.concat([e, tf.zeros(max_seq_len-len(e), dtype=\"int32\")],axis=0) \n",
    "    \n",
    "    \n",
    "    # split sentence\n",
    "    d = tf.strings.split(tf.strings.join([start,d,end],separator=' ')) \n",
    "    \n",
    "    # tokenize\n",
    "    d = words_idx.lookup(d) \n",
    "    \n",
    "    # Keep upto max_seq_len token\n",
    "    d = d[:max_seq_len] \n",
    "    \n",
    "    # Padding\n",
    "    d = tf.concat([d, tf.zeros(max_seq_len-len(d), dtype=\"int32\")],axis=0) \n",
    "    x = (e,d)\n",
    "\n",
    "    # Preprocess labels\n",
    "    \n",
    "    y = tf.strings.split(tf.strings.join([y,end],separator=' '))\n",
    "    y = words_idx.lookup(y)\n",
    "    y = y[:max_seq_len]\n",
    "    y = tf.one_hot(y,len(total_vocab)+1)\n",
    "    \n",
    "    #padding\n",
    "    y = tf.concat([y, tf.zeros((max_seq_len-len(y),len(total_vocab)+1))],axis=0)\n",
    "    \n",
    "    \n",
    "    \n",
    "    return (x,y)"
   ]
  },
  {
   "cell_type": "code",
   "execution_count": 7,
   "id": "9fcf4962",
   "metadata": {
    "execution": {
     "iopub.execute_input": "2024-08-07T14:01:15.455397Z",
     "iopub.status.busy": "2024-08-07T14:01:15.454935Z",
     "iopub.status.idle": "2024-08-07T14:01:16.047945Z",
     "shell.execute_reply": "2024-08-07T14:01:16.046627Z"
    },
    "papermill": {
     "duration": 0.62926,
     "end_time": "2024-08-07T14:01:16.051459",
     "exception": false,
     "start_time": "2024-08-07T14:01:15.422199",
     "status": "completed"
    },
    "tags": []
   },
   "outputs": [],
   "source": [
    "start = \"<StartOfSequence>\"\n",
    "end   = \"<EndOfSequence>\"\n",
    "\n",
    "\n",
    "# Dataset object for reading source english corpus (Encoder input)\n",
    "dataset_en_train = tf.data.TextLineDataset(root+\"train.tok.clean.bpe.32000.en\")\n",
    "\n",
    "\n",
    "# Dataset object for reading target german corpus (Decoder Input)\n",
    "dataset_de_train = tf.data.TextLineDataset(root+\"train.tok.clean.bpe.32000.de\")\n",
    "\n",
    "# Zipping the the features sources\n",
    "train_X = tf.data.Dataset.zip((dataset_en_train,dataset_de_train))\n",
    "\n",
    "# Dataset object for reading target german corpus (Label)\n",
    "dataset_label_train = tf.data.TextLineDataset(root+\"train.tok.clean.bpe.32000.de\")\n",
    "\n",
    "# Zipping features and labels\n",
    "train = tf.data.Dataset.zip((train_X,dataset_label_train))\n",
    "\n",
    "# Shuffle\n",
    "train=train.shuffle(4700000)# 4462251 sentences in the dataset\n",
    "\n",
    "# Apply Preprocessing\n",
    "train=train.map(preprocess_data)\n",
    "\n",
    "# Batching\n",
    "train=train.batch(128)\n",
    "train = train.prefetch(2)"
   ]
  },
  {
   "cell_type": "markdown",
   "id": "ff6da544",
   "metadata": {
    "papermill": {
     "duration": 0.033203,
     "end_time": "2024-08-07T14:01:16.118736",
     "exception": false,
     "start_time": "2024-08-07T14:01:16.085533",
     "status": "completed"
    },
    "tags": []
   },
   "source": [
    "## Validation Data\n",
    "#### Data generator"
   ]
  },
  {
   "cell_type": "code",
   "execution_count": 8,
   "id": "c4a1589c",
   "metadata": {
    "execution": {
     "iopub.execute_input": "2024-08-07T14:01:16.189257Z",
     "iopub.status.busy": "2024-08-07T14:01:16.188596Z",
     "iopub.status.idle": "2024-08-07T14:01:16.568786Z",
     "shell.execute_reply": "2024-08-07T14:01:16.567264Z"
    },
    "papermill": {
     "duration": 0.421586,
     "end_time": "2024-08-07T14:01:16.572352",
     "exception": false,
     "start_time": "2024-08-07T14:01:16.150766",
     "status": "completed"
    },
    "tags": []
   },
   "outputs": [],
   "source": [
    "start = \"<StartOfSequence>\"\n",
    "end   = \"<EndOfSequence>\"\n",
    "\n",
    "\n",
    "# Dataset object for reading source english corpus\n",
    "dataset_en_val = tf.data.TextLineDataset([root+\"newstest2012.tok.clean.bpe.32000.en\",root+\"newstest2013.tok.clean.bpe.32000.en\" ])\n",
    "dataset_en_val = dataset_en_val.map(lambda x: tf.strings.split(tf.strings.join([start,x,end],separator=' ')))\n",
    "dataset_en_val = dataset_en_val.map(lambda x: words_idx.lookup(x))\n",
    "dataset_en_val = dataset_en_val.map(lambda x: x[:max_seq_len])\n",
    "dataset_en_val = dataset_en_val.padded_batch(batch_size,max_seq_len)\n",
    "\n",
    "# Dataset object for reading target german corpus\n",
    "dataset_de_val = tf.data.TextLineDataset([root+\"newstest2012.tok.clean.bpe.32000.de\",root+\"newstest2013.tok.clean.bpe.32000.de\" ])\n",
    "dataset_de_val = dataset_de_val.map(lambda x: tf.strings.split(tf.strings.join([start,x,end],separator=' ')))\n",
    "dataset_de_val = dataset_de_val.map(lambda x: words_idx.lookup(x))\n",
    "dataset_de_val = dataset_de_val.map(lambda x: x[:max_seq_len])\n",
    "dataset_de_val = dataset_de_val.padded_batch(batch_size,max_seq_len)\n",
    "\n",
    "\n",
    "val_X = tf.data.Dataset.zip((dataset_en_val,dataset_de_val))"
   ]
  },
  {
   "cell_type": "code",
   "execution_count": 9,
   "id": "2c62bfdf",
   "metadata": {
    "execution": {
     "iopub.execute_input": "2024-08-07T14:01:16.638851Z",
     "iopub.status.busy": "2024-08-07T14:01:16.638442Z",
     "iopub.status.idle": "2024-08-07T14:01:16.870260Z",
     "shell.execute_reply": "2024-08-07T14:01:16.868320Z"
    },
    "papermill": {
     "duration": 0.269562,
     "end_time": "2024-08-07T14:01:16.873586",
     "exception": false,
     "start_time": "2024-08-07T14:01:16.604024",
     "status": "completed"
    },
    "tags": []
   },
   "outputs": [],
   "source": [
    "# Dataset object for reading target german corpus\n",
    "dataset_label_val = tf.data.TextLineDataset([root+\"newstest2012.tok.clean.bpe.32000.de\",root+\"newstest2013.tok.clean.bpe.32000.de\" ])\n",
    "dataset_label_val = dataset_label_val.map(lambda x: tf.strings.split(tf.strings.join([x,end],separator=' ')))\n",
    "dataset_label_val = dataset_label_val.map(lambda x: words_idx.lookup(x))\n",
    "dataset_label_val = dataset_label_val.map(lambda x: x[:max_seq_len]) # -1 because the label doesn't have the start token. I undid this\n",
    "dataset_label_val = dataset_label_val.map(lambda x: tf.one_hot(x,len(total_vocab)+1)) #  +1 because idx ranges from idx 1 to idx len(total_vocab), but one shot always have index zero to len(total_vocab)\n",
    "dataset_label_val = dataset_label_val.padded_batch(batch_size,(max_seq_len,len(total_vocab)+1))"
   ]
  },
  {
   "cell_type": "code",
   "execution_count": 10,
   "id": "0a6a95e5",
   "metadata": {
    "execution": {
     "iopub.execute_input": "2024-08-07T14:01:16.939397Z",
     "iopub.status.busy": "2024-08-07T14:01:16.938921Z",
     "iopub.status.idle": "2024-08-07T14:01:16.947451Z",
     "shell.execute_reply": "2024-08-07T14:01:16.945345Z"
    },
    "papermill": {
     "duration": 0.047089,
     "end_time": "2024-08-07T14:01:16.950889",
     "exception": false,
     "start_time": "2024-08-07T14:01:16.903800",
     "status": "completed"
    },
    "tags": []
   },
   "outputs": [],
   "source": [
    "val = tf.data.Dataset.zip((val_X,dataset_label_val))"
   ]
  },
  {
   "cell_type": "markdown",
   "id": "88903722",
   "metadata": {
    "papermill": {
     "duration": 0.033578,
     "end_time": "2024-08-07T14:01:17.017966",
     "exception": false,
     "start_time": "2024-08-07T14:01:16.984388",
     "status": "completed"
    },
    "tags": []
   },
   "source": [
    "## Test Data\n",
    "#### Data Generator"
   ]
  },
  {
   "cell_type": "code",
   "execution_count": 11,
   "id": "364cb3f7",
   "metadata": {
    "execution": {
     "iopub.execute_input": "2024-08-07T14:01:17.085360Z",
     "iopub.status.busy": "2024-08-07T14:01:17.084811Z",
     "iopub.status.idle": "2024-08-07T14:01:17.312192Z",
     "shell.execute_reply": "2024-08-07T14:01:17.310130Z"
    },
    "papermill": {
     "duration": 0.266226,
     "end_time": "2024-08-07T14:01:17.316076",
     "exception": false,
     "start_time": "2024-08-07T14:01:17.049850",
     "status": "completed"
    },
    "tags": []
   },
   "outputs": [],
   "source": [
    "start = \"<StartOfSequence>\"\n",
    "end   = \"<EndOfSequence>\"\n",
    "\n",
    "\n",
    "# Dataset object for reading source english corpus\n",
    "dataset_en_test = tf.data.TextLineDataset([root+\"newstest2014.tok.clean.bpe.32000.en\",])\n",
    "dataset_en_test = dataset_en_test.map(lambda x: tf.strings.split(tf.strings.join([start,x,end],separator=' ')))\n",
    "dataset_en_test = dataset_en_test.map(lambda x: words_idx.lookup(x))\n",
    "dataset_en_test = dataset_en_test.map(lambda x: x[:max_seq_len])\n",
    "dataset_en_test = dataset_en_test.padded_batch(batch_size,max_seq_len)\n",
    "\n",
    "# Dataset object for reading target german corpus\n",
    "dataset_de_test = tf.data.TextLineDataset([root+\"newstest2014.tok.clean.bpe.32000.de\"])\n",
    "dataset_de_test = dataset_de_test.map(lambda x: tf.strings.split(tf.strings.join([start,x,end],separator=' ')))\n",
    "dataset_de_test = dataset_de_test.map(lambda x: words_idx.lookup(x))\n",
    "dataset_de_test = dataset_de_test.map(lambda x: x[:max_seq_len])\n",
    "dataset_de_test = dataset_de_test.padded_batch(batch_size,max_seq_len)\n",
    "\n",
    "\n",
    "test_X = tf.data.Dataset.zip((dataset_en_test,dataset_de_test))"
   ]
  },
  {
   "cell_type": "code",
   "execution_count": 12,
   "id": "335e1f16",
   "metadata": {
    "execution": {
     "iopub.execute_input": "2024-08-07T14:01:17.452456Z",
     "iopub.status.busy": "2024-08-07T14:01:17.452021Z",
     "iopub.status.idle": "2024-08-07T14:01:17.574187Z",
     "shell.execute_reply": "2024-08-07T14:01:17.572441Z"
    },
    "papermill": {
     "duration": 0.1577,
     "end_time": "2024-08-07T14:01:17.577721",
     "exception": false,
     "start_time": "2024-08-07T14:01:17.420021",
     "status": "completed"
    },
    "tags": []
   },
   "outputs": [],
   "source": [
    "# Dataset object for reading target german corpus\n",
    "dataset_label_test = tf.data.TextLineDataset([root+\"newstest2014.tok.clean.bpe.32000.de\"])\n",
    "dataset_label_test = dataset_label_test.map(lambda x: tf.strings.split(tf.strings.join([x,end],separator=' ')))\n",
    "dataset_label_test = dataset_label_test.map(lambda x: words_idx.lookup(x))\n",
    "dataset_label_test = dataset_label_test.map(lambda x: x[:max_seq_len]) # -1 because the label doesn't have the start token. I undid this\n",
    "dataset_label_test = dataset_label_test.map(lambda x: tf.one_hot(x,len(total_vocab)+1)) #  +1 because idx ranges from idx 1 to idx len(total_vocab), but one shot always have index zero to len(total_vocab)\n",
    "dataset_label_test = dataset_label_test.padded_batch(batch_size,(max_seq_len,len(total_vocab)+1))"
   ]
  },
  {
   "cell_type": "code",
   "execution_count": 13,
   "id": "83f14765",
   "metadata": {
    "execution": {
     "iopub.execute_input": "2024-08-07T14:01:17.645326Z",
     "iopub.status.busy": "2024-08-07T14:01:17.643452Z",
     "iopub.status.idle": "2024-08-07T14:01:17.653396Z",
     "shell.execute_reply": "2024-08-07T14:01:17.651586Z"
    },
    "papermill": {
     "duration": 0.047437,
     "end_time": "2024-08-07T14:01:17.657204",
     "exception": false,
     "start_time": "2024-08-07T14:01:17.609767",
     "status": "completed"
    },
    "tags": []
   },
   "outputs": [],
   "source": [
    "test = tf.data.Dataset.zip((test_X,dataset_label_test))"
   ]
  },
  {
   "cell_type": "markdown",
   "id": "0347b2ae",
   "metadata": {
    "papermill": {
     "duration": 0.033686,
     "end_time": "2024-08-07T14:01:17.723354",
     "exception": false,
     "start_time": "2024-08-07T14:01:17.689668",
     "status": "completed"
    },
    "tags": []
   },
   "source": [
    "## The Transformer Model"
   ]
  },
  {
   "cell_type": "markdown",
   "id": "a57769da",
   "metadata": {
    "papermill": {
     "duration": 0.032983,
     "end_time": "2024-08-07T14:01:17.788603",
     "exception": false,
     "start_time": "2024-08-07T14:01:17.755620",
     "status": "completed"
    },
    "tags": []
   },
   "source": [
    "We will be implementing the *base* model.\n",
    "In table 3 of the paper, in first row, the hyper parameters for the base model are mentioned. We have defined these hyperparameters below as is."
   ]
  },
  {
   "cell_type": "code",
   "execution_count": 14,
   "id": "ad3d90f1",
   "metadata": {
    "execution": {
     "iopub.execute_input": "2024-08-07T14:01:17.863746Z",
     "iopub.status.busy": "2024-08-07T14:01:17.861734Z",
     "iopub.status.idle": "2024-08-07T14:01:17.869941Z",
     "shell.execute_reply": "2024-08-07T14:01:17.868143Z"
    },
    "papermill": {
     "duration": 0.051375,
     "end_time": "2024-08-07T14:01:17.873919",
     "exception": false,
     "start_time": "2024-08-07T14:01:17.822544",
     "status": "completed"
    },
    "tags": []
   },
   "outputs": [],
   "source": [
    "d_model = 512 # \n",
    "N = 6 # Number of stacks of Encoders and decoders\n",
    "h = 8 # parallel attention layers\n",
    "p_drop = 0.1\n",
    "dff=2048 # first layer of the FFN"
   ]
  },
  {
   "attachments": {
    "2f172f7f-9618-4fd7-83a2-0aebb44b8fc4.png": {
     "image/png": "[encoded data removed]"
    }
   },
   "cell_type": "markdown",
   "id": "e6a68ed5",
   "metadata": {
    "papermill": {
     "duration": 0.033607,
     "end_time": "2024-08-07T14:01:17.940143",
     "exception": false,
     "start_time": "2024-08-07T14:01:17.906536",
     "status": "completed"
    },
    "tags": []
   },
   "source": [
    "### Scaled Dot-Product Attention\n",
    "- The details are mentioned in the Figure 2, section 3.2.1, 3.2.3 of the paper.\n",
    "- I will particularly focus on handling illegal connections and padding.\n",
    "- I will refer to the image below for the following discussion. $Q$ and $K$ are matrix,$Q$ and $K$ with subscripts are individual queries and entries. Subscript $p$ corresponds to padding token in the matrices $Q$ and $K$.\n",
    "\n",
    "![dot.png](attachment:2f172f7f-9618-4fd7-83a2-0aebb44b8fc4.png)\n",
    "- Matrix $Q$ and $K$ contain queries and keys respectively.\n",
    "- Each entry of the $Q.K^T$ (Attention matrix) is a dot product between a single query and a key vector.\n",
    "- Each row of the attention matrix represents the attentions a query pays to all the keys. First rows refers to the attention the first query pays to each key.\n",
    "- Since queries and keys will be padded, we have to somehow determine the illegal attentions which must be ignored. Here, illegal attentions are the ones involving padding tokens (In red in the above figure). These connections can be determined using the boolean padding masks of $Q$ and $K$.\n",
    "- In the figure below, we can see how matrix multiplication between masks can be used to determine illegal connections. 1s represent valid attentions.\n",
    "- __Note:__ We can't just do element-wise multiplication between attention matrix and this mask to zero out illegal attentions, because zero values become non-zero when softmax is applied (refer to fig 2 regarding softmax application), which results in query paying attention to illegal connections and therefore illegal padding tokens/values. The paper deals with this (in section 3.2.3) by making these illegal attentions $-\\infty$ because it becomes zero after the application of softmax. This what we have done.\n"
   ]
  },
  {
   "attachments": {
    "464200aa-1d0e-4975-b4c2-fdb7872d8f2f.png": {
     "image/png": "[encoded data removed]"
    },
    "64e3222d-0cc6-4667-8dfb-403c41b62333.png": {
     "image/png": "[encoded data removed]"
    }
   },
   "cell_type": "markdown",
   "id": "d79e2885",
   "metadata": {
    "papermill": {
     "duration": 0.036564,
     "end_time": "2024-08-07T14:01:18.012206",
     "exception": false,
     "start_time": "2024-08-07T14:01:17.975642",
     "status": "completed"
    },
    "tags": []
   },
   "source": [
    "![dot_mask.png](attachment:464200aa-1d0e-4975-b4c2-fdb7872d8f2f.png)\n",
    "\n",
    "- This layer also needs to handle another mask that arise in the decoder. First, a quick background. This layer is used in self-attention, as well as cross-attention. In self-attention,Q,K,V are same, and the purpose is to determine how much each query in a sequence of queries (Q matrix) pays attention to other queries in the same sequence. In cross-attention, the purpose is to determine, how much attention does the decoder's query pay to each of the tokens in a sequence produced by the encoder.\n",
    "- Remember, the decoding happens in a autregressive manner, one prediction at time, given the encoder's output and previous prediction upto time step $t-1$, where $t$ is the current time step. So during training, we have to maintain this autoregressive property. When predicting the $i^{th}$ output, which is the same as the (i+1) decoder input, the network mustn't see (i+1)th decoder's input as it will just trivially predict (i+1)th input value. This is enforced as follows.\n",
    "- In decoder's self attention block, during training, we mask these new illegal attention using the new mask matrix. For a sequence of length seven, this is 7 by 7 matrix with entries above the diagonal being zero. Again this mask is not directly applied to the attention matrix due to softmax issues, but is used in a similar manner to the handling of illegal connections due to padding. The following figure details this:\n",
    "\n",
    "![autoreg.png](attachment:64e3222d-0cc6-4667-8dfb-403c41b62333.png)\n",
    "- The red triangle is the illegal connections.\n",
    "- We create a constant mask as mentioned above. (you'll see this in the Decoder layer below)\n",
    "- Finally, this autoregressive mask is combines with the padding mask to remove all illegal connections."
   ]
  },
  {
   "cell_type": "code",
   "execution_count": 15,
   "id": "fec2763e",
   "metadata": {
    "execution": {
     "iopub.execute_input": "2024-08-07T14:01:18.085594Z",
     "iopub.status.busy": "2024-08-07T14:01:18.084989Z",
     "iopub.status.idle": "2024-08-07T14:01:18.101466Z",
     "shell.execute_reply": "2024-08-07T14:01:18.099189Z"
    },
    "papermill": {
     "duration": 0.059114,
     "end_time": "2024-08-07T14:01:18.105036",
     "exception": false,
     "start_time": "2024-08-07T14:01:18.045922",
     "status": "completed"
    },
    "tags": []
   },
   "outputs": [],
   "source": [
    "class ScaledDotProductAttention(Layer):\n",
    "    def __init__(self,d_model, num_heads, **kwargs):\n",
    "        super(ScaledDotProductAttention, self).__init__(**kwargs)\n",
    "        self.supports_masking = True\n",
    "        self.scaling_factor = tf.sqrt(d_model/num_heads)\n",
    "\n",
    "   \n",
    "        \n",
    "    def call(self, Q,K,V, causal_mask=None, mask=None): \n",
    "        \n",
    "    \n",
    "        key_mask = K._keras_mask\n",
    "        out = tf.matmul(Q,K, transpose_b=True) # matmul   \n",
    "        out = tf.divide(out,self.scaling_factor) # scaling\n",
    "\n",
    "       \n",
    "        total_mask = None\n",
    "        # Padding mask will never be none due to embedding layer always passing it  the mask\n",
    "        mask_Q_num = tf.cast(mask, \"float32\")\n",
    "        mask_K_num = tf.cast(key_mask, \"float32\")\n",
    "        mask_QK = tf.matmul(mask_Q_num[...,None],mask_K_num[:,None])\n",
    "        # Mask with illegal connections due to padding. Here, illegal connections are set True value\n",
    "        illegal_padding_mask = tf.logical_not( tf.cast(mask_QK, dtype=tf.bool) )\n",
    "        total_mask = illegal_padding_mask\n",
    "         \n",
    "    \n",
    "\n",
    "          \n",
    "        if causal_mask is not None: # this is bool mask with illegal connections set to True\n",
    "            total_mask = tf.logical_or(causal_mask[None],total_mask)\n",
    "\n",
    "        # Setting the illegal connections in the total mask to -infty to make them zero in the softmax computation\n",
    "        out += tf.cast(total_mask, tf.float32) * tf.float32.min\n",
    "\n",
    "        out = tf.nn.softmax(out,axis=-1)\n",
    "        out = out * mask_Q_num[..., None]\n",
    "        #print(out)\n",
    "        \n",
    "        \n",
    "        out = tf.matmul(out,V)\n",
    "        return out\n",
    "            \n",
    "            "
   ]
  },
  {
   "cell_type": "markdown",
   "id": "c10b8388",
   "metadata": {
    "papermill": {
     "duration": 0.036445,
     "end_time": "2024-08-07T14:01:18.175688",
     "exception": false,
     "start_time": "2024-08-07T14:01:18.139243",
     "status": "completed"
    },
    "tags": []
   },
   "source": [
    "### Multi-Head Attention\n",
    "- Refer to fig 2 and section 3.2.2 for details.\n",
    "- This layer creates _h_ linear projections for Q, K, and V. Or _h_ dense layers for each (without bias term)\n",
    "- Each linear projection projects the _d\\_model_ (512 in this case) dimensional tokens in Q,K,and V to _d\\_model/h_ dimensional tokens.\n",
    "- Then it performs _h_ Scaled Dot-product Attention calculations on the _h_ tuples of lower dimensional projections of Q, K, and V and produce _h_ outputs.\n",
    "- Finally, it contenates the _h_ outputs, and performs a final linear operation."
   ]
  },
  {
   "cell_type": "code",
   "execution_count": 16,
   "id": "72c6e397",
   "metadata": {
    "execution": {
     "iopub.execute_input": "2024-08-07T14:01:18.245361Z",
     "iopub.status.busy": "2024-08-07T14:01:18.244821Z",
     "iopub.status.idle": "2024-08-07T14:01:18.261761Z",
     "shell.execute_reply": "2024-08-07T14:01:18.259870Z"
    },
    "papermill": {
     "duration": 0.055384,
     "end_time": "2024-08-07T14:01:18.265785",
     "exception": false,
     "start_time": "2024-08-07T14:01:18.210401",
     "status": "completed"
    },
    "tags": []
   },
   "outputs": [],
   "source": [
    "class MultiHeadAttention(Layer):\n",
    "\n",
    "    \"\"\"\n",
    "    Notes: queries, keys, and values will be projected to learned linear projections of \n",
    "    dimension d_k, d_k, d_v\n",
    "    \"\"\"\n",
    "    \n",
    "    def __init__(self,d_model, num_heads, **kwargs):\n",
    "        super(MultiHeadAttention, self).__init__( **kwargs)\n",
    "\n",
    "        \n",
    "\n",
    "        \n",
    "        self.num_heads= num_heads\n",
    "        self.scaledDotProductAttention = ScaledDotProductAttention(d_model, num_heads)\n",
    "        \n",
    "        self.W_Qs = []       # List of Query Weights matrices\n",
    "        self.W_Ks = []       # List of Key Weights matrices\n",
    "        self.W_Vs = []       # List of Values Weights matrices\n",
    "        \n",
    "        d_k = int(d_model/num_heads) # Projected key dimension\n",
    "        d_v = d_k                    # Projected value dimension\n",
    "        \n",
    "        for i in range(num_heads): \n",
    "            self.W_Qs.append(Dense(units = d_k, use_bias=False))\n",
    "            self.W_Ks.append(Dense(units = d_k, use_bias=False))\n",
    "            self.W_Vs.append(Dense(units = d_v, use_bias=False))\n",
    "\n",
    "        self.W_O =  Dense(units = d_model, use_bias=False) \n",
    "\n",
    "    def call(self, Q,K,V, causal_mask=None):\n",
    "        attentionHeads = []\n",
    "        for i in range(self.num_heads):\n",
    "\n",
    "            # Project Querys, Keys and Values\n",
    "            Q_i = self.W_Qs[i](Q) # Queries' Projection for the ith head\n",
    "            K_i = self.W_Ks[i](K) # Keys' Projection for the ith head\n",
    "            V_i = self.W_Vs[i](V) # Values' Projection for the ith head\n",
    "            \n",
    "\n",
    "            attentionHeads.append(self.scaledDotProductAttention(Q_i,K_i,V_i,causal_mask,mask=Q_i._keras_mask))\n",
    "\n",
    "        # Concatenate all the attention heads on the last (feature) axis\n",
    "        concat_heads = tf.concat(attentionHeads,axis=-1)\n",
    "\n",
    "        # Final linear layer\n",
    "        return self.W_O(concat_heads)\n",
    "\n"
   ]
  },
  {
   "cell_type": "markdown",
   "id": "e008c77b",
   "metadata": {
    "papermill": {
     "duration": 0.031595,
     "end_time": "2024-08-07T14:01:18.331500",
     "exception": false,
     "start_time": "2024-08-07T14:01:18.299905",
     "status": "completed"
    },
    "tags": []
   },
   "source": [
    "### FFN\n",
    "- Refer to section 3.3 of the paper."
   ]
  },
  {
   "cell_type": "code",
   "execution_count": 17,
   "id": "4994da21",
   "metadata": {
    "execution": {
     "iopub.execute_input": "2024-08-07T14:01:18.404342Z",
     "iopub.status.busy": "2024-08-07T14:01:18.403567Z",
     "iopub.status.idle": "2024-08-07T14:01:18.412985Z",
     "shell.execute_reply": "2024-08-07T14:01:18.411255Z"
    },
    "papermill": {
     "duration": 0.048932,
     "end_time": "2024-08-07T14:01:18.416135",
     "exception": false,
     "start_time": "2024-08-07T14:01:18.367203",
     "status": "completed"
    },
    "tags": []
   },
   "outputs": [],
   "source": [
    "class FFN(Layer):\n",
    "    \n",
    "    def __init__(self,dff, **kwargs):\n",
    "        super(FFN, self).__init__()\n",
    "        self.dense1 =  Dense(units=dff, activation='relu')\n",
    "        self.dense2 =  Dense(units = d_model)\n",
    "\n",
    "    \n",
    "    def call(self, inputs):\n",
    "        x = self.dense1(inputs)\n",
    "        x = self.dense2(x)\n",
    "        return x"
   ]
  },
  {
   "cell_type": "markdown",
   "id": "cdbd6ec0",
   "metadata": {
    "papermill": {
     "duration": 0.03121,
     "end_time": "2024-08-07T14:01:18.480893",
     "exception": false,
     "start_time": "2024-08-07T14:01:18.449683",
     "status": "completed"
    },
    "tags": []
   },
   "source": [
    "### Residual/Skip connections + Layer Norm\n",
    "- Refer to Fig 1 and 3.1 of the paper."
   ]
  },
  {
   "cell_type": "code",
   "execution_count": 18,
   "id": "12d9a10b",
   "metadata": {
    "execution": {
     "iopub.execute_input": "2024-08-07T14:01:18.549435Z",
     "iopub.status.busy": "2024-08-07T14:01:18.548991Z",
     "iopub.status.idle": "2024-08-07T14:01:18.558296Z",
     "shell.execute_reply": "2024-08-07T14:01:18.556436Z"
    },
    "papermill": {
     "duration": 0.04658,
     "end_time": "2024-08-07T14:01:18.561182",
     "exception": false,
     "start_time": "2024-08-07T14:01:18.514602",
     "status": "completed"
    },
    "tags": []
   },
   "outputs": [],
   "source": [
    "class ResidualBlock(Layer):\n",
    "    def __init__(self, **kwargs):\n",
    "        super(ResidualBlock, self).__init__(**kwargs)\n",
    "        self.layerNorm = LayerNormalization()\n",
    "        \n",
    "    def call(self, sublayer_in, sub_layer_out, mask=None,):\n",
    "        # masking input before addition. Remember pad values have non-zero vectors\n",
    "        numeric_mask = tf.cast(mask[...,None],tf.float32)\n",
    "        masked_in = sublayer_in*numeric_mask\n",
    "        \n",
    "        x = tf.add(sub_layer_out, masked_in) \n",
    "        x = self.layerNorm(x)\n",
    "        return x\n",
    "\n",
    "    "
   ]
  },
  {
   "cell_type": "markdown",
   "id": "0480e1ae",
   "metadata": {
    "papermill": {
     "duration": 0.029926,
     "end_time": "2024-08-07T14:01:18.621893",
     "exception": false,
     "start_time": "2024-08-07T14:01:18.591967",
     "status": "completed"
    },
    "tags": []
   },
   "source": [
    "### Sublayer 1 & 2\n",
    "- Refer to fig 1 and section 3.1 of the paper."
   ]
  },
  {
   "cell_type": "code",
   "execution_count": 19,
   "id": "1e7d8287",
   "metadata": {
    "execution": {
     "iopub.execute_input": "2024-08-07T14:01:18.684201Z",
     "iopub.status.busy": "2024-08-07T14:01:18.683719Z",
     "iopub.status.idle": "2024-08-07T14:01:18.694324Z",
     "shell.execute_reply": "2024-08-07T14:01:18.692518Z"
    },
    "papermill": {
     "duration": 0.045339,
     "end_time": "2024-08-07T14:01:18.697737",
     "exception": false,
     "start_time": "2024-08-07T14:01:18.652398",
     "status": "completed"
    },
    "tags": []
   },
   "outputs": [],
   "source": [
    "class SubLayer1(Layer):\n",
    "    \n",
    "    def __init__(self, d_model, num_heads, p_drop, **kwargs):\n",
    "        super(SubLayer1, self).__init__(**kwargs)\n",
    "\n",
    "        self.supports_masking = True # Because SubLayer2 needs masking     \n",
    "        self.mha = MultiHeadAttention(d_model, num_heads)\n",
    "        self.dropout = Dropout(rate=p_drop)\n",
    "        self.resid = ResidualBlock()\n",
    "\n",
    "    def call(self, Q,K,V,X, training=False, causal_mask=None, mask=None):\n",
    "        \n",
    "        x = self.mha(Q,K,V,causal_mask)\n",
    "        x = self.dropout(x,training=training)\n",
    "\n",
    "        x = self.resid(X,x,mask=mask)\n",
    "        return x\n",
    "         \n"
   ]
  },
  {
   "cell_type": "code",
   "execution_count": 20,
   "id": "cb64b1ac",
   "metadata": {
    "execution": {
     "iopub.execute_input": "2024-08-07T14:01:18.764703Z",
     "iopub.status.busy": "2024-08-07T14:01:18.764278Z",
     "iopub.status.idle": "2024-08-07T14:01:18.773937Z",
     "shell.execute_reply": "2024-08-07T14:01:18.772201Z"
    },
    "papermill": {
     "duration": 0.047758,
     "end_time": "2024-08-07T14:01:18.776844",
     "exception": false,
     "start_time": "2024-08-07T14:01:18.729086",
     "status": "completed"
    },
    "tags": []
   },
   "outputs": [],
   "source": [
    "class SubLayer2(Layer):\n",
    "    def __init__(self,dff,p_drop, **kwargs):\n",
    "        super(SubLayer2, self).__init__(**kwargs)\n",
    "    \n",
    "        self.ffn = FFN(dff)\n",
    "        self.dropout = Dropout(rate=p_drop)\n",
    "        self.resid = ResidualBlock()\n",
    "        \n",
    "    def call(self, X, training=False, mask=None ):\n",
    "        \n",
    "        x = self.ffn(X)\n",
    "        x = self.dropout(x, training=training)\n",
    "\n",
    "        x = self.resid(X,x,mask=mask)\n",
    "        return x"
   ]
  },
  {
   "cell_type": "markdown",
   "id": "93bf7584",
   "metadata": {
    "papermill": {
     "duration": 0.030036,
     "end_time": "2024-08-07T14:01:18.838489",
     "exception": false,
     "start_time": "2024-08-07T14:01:18.808453",
     "status": "completed"
    },
    "tags": []
   },
   "source": [
    "### Encoder Layer\n",
    "- Refer to fig 1 of the paper."
   ]
  },
  {
   "cell_type": "code",
   "execution_count": 21,
   "id": "83f08ac9",
   "metadata": {
    "execution": {
     "iopub.execute_input": "2024-08-07T14:01:18.901996Z",
     "iopub.status.busy": "2024-08-07T14:01:18.901583Z",
     "iopub.status.idle": "2024-08-07T14:01:18.911272Z",
     "shell.execute_reply": "2024-08-07T14:01:18.909733Z"
    },
    "papermill": {
     "duration": 0.044601,
     "end_time": "2024-08-07T14:01:18.914927",
     "exception": false,
     "start_time": "2024-08-07T14:01:18.870326",
     "status": "completed"
    },
    "tags": []
   },
   "outputs": [],
   "source": [
    "#### Encoder layer, not encoder\n",
    "class EncoderLayer(Layer):\n",
    "\n",
    "    \n",
    "    def __init__(self, d_model, num_heads, dff, p_drop, **kwargs):\n",
    "        super(EncoderLayer, self).__init__()\n",
    "        self.supports_masking = True # for propogation\n",
    "                        \n",
    "        self.self_attention = SubLayer1(d_model, num_heads, p_drop)\n",
    "        self.position_wise = SubLayer2(dff, p_drop)\n",
    "\n",
    "    def call(self, encoder_input, mask=None, training=False):\n",
    "        \n",
    "        #print(\"encoder layer: \" ,mask is not None)\n",
    "        x = encoder_input\n",
    "        x = self.self_attention(x,x,x,x,training=training, mask=mask)\n",
    "        x = self.position_wise(x,training=training, mask=mask)\n",
    "        return x\n",
    "    \n",
    "\n",
    "     "
   ]
  },
  {
   "cell_type": "markdown",
   "id": "4e622d10",
   "metadata": {
    "papermill": {
     "duration": 0.031967,
     "end_time": "2024-08-07T14:01:18.980949",
     "exception": false,
     "start_time": "2024-08-07T14:01:18.948982",
     "status": "completed"
    },
    "tags": []
   },
   "source": [
    "### Positional Embedding\n",
    "- Refer to section 3.5 of the paper."
   ]
  },
  {
   "cell_type": "code",
   "execution_count": 22,
   "id": "5a9b7b95",
   "metadata": {
    "execution": {
     "iopub.execute_input": "2024-08-07T14:01:19.050412Z",
     "iopub.status.busy": "2024-08-07T14:01:19.049985Z",
     "iopub.status.idle": "2024-08-07T14:01:19.059969Z",
     "shell.execute_reply": "2024-08-07T14:01:19.058544Z"
    },
    "papermill": {
     "duration": 0.048338,
     "end_time": "2024-08-07T14:01:19.062805",
     "exception": false,
     "start_time": "2024-08-07T14:01:19.014467",
     "status": "completed"
    },
    "tags": []
   },
   "outputs": [],
   "source": [
    "def getPositionalEmbedding(seq_length=256, feature_dimension=None):\n",
    "\n",
    "\n",
    "    # Returns featrure_dimension dimensional positional encodings for each position in a sequence of length seq_length.\n",
    "    # return shape (sequ_length, feature_dimension)\n",
    "    dimensions = tf.range(feature_dimension, dtype=tf.float32)\n",
    "    positions = tf.range(seq_length, dtype=tf.float32)[...,None] # add additional dimension at the end for broadcasting\n",
    "    even_dimensions = dimensions[::2]\n",
    "    odd_dimensions   =  dimensions[1::2]\n",
    "\n",
    "    feature_dimension = tf.cast(feature_dimension, tf.float32)\n",
    "    even = tf.sin( positions/tf.pow(10000.,even_dimensions/feature_dimension)  )\n",
    "    odd  = tf.cos( positions/tf.pow(10000.,odd_dimensions/feature_dimension) )\n",
    "\n",
    "    # Since for a given position, concatenating the even and odd dimension is functinonally\n",
    "    # equivalent to interleaving the even and odd dimensions, we will just stack them as follows. (I will later try interleave as well and check the time it takes) \n",
    "\n",
    "    sequence_position_embeddings = tf.concat([even,odd], axis=-1)\n",
    " \n",
    "    return sequence_position_embeddings\n"
   ]
  },
  {
   "cell_type": "code",
   "execution_count": 23,
   "id": "766131cd",
   "metadata": {
    "execution": {
     "iopub.execute_input": "2024-08-07T14:01:19.132090Z",
     "iopub.status.busy": "2024-08-07T14:01:19.131658Z",
     "iopub.status.idle": "2024-08-07T14:01:19.143126Z",
     "shell.execute_reply": "2024-08-07T14:01:19.141580Z"
    },
    "papermill": {
     "duration": 0.049162,
     "end_time": "2024-08-07T14:01:19.146210",
     "exception": false,
     "start_time": "2024-08-07T14:01:19.097048",
     "status": "completed"
    },
    "tags": []
   },
   "outputs": [],
   "source": [
    "class PositionalEncoding(Layer):\n",
    "    \"\"\"\n",
    "    This layer takes ouput from the embedding layer. Embedding layer must have output shape of (batch, seq-len, features(d_model))\n",
    "    \"\"\"\n",
    "\n",
    "    def __init__(self, **kwargs):\n",
    "        super(PositionalEncoding, self).__init__(**kwargs)\n",
    "        self.supports_masking=True\n",
    "\n",
    "    def call(self, inputs):\n",
    "        \n",
    "        # inputs shape should be (batch, seq-len, features(d_model))\n",
    "        shape= tf.shape(inputs)\n",
    "        seq_len, features = shape[1],shape[2]\n",
    "\n",
    "        positionalEncodings = getPositionalEmbedding(seq_len, features)\n",
    "        positionalEncodings = positionalEncodings[None,...] # add batch dimension along which to broadcast\n",
    "\n",
    "        x = tf.add(inputs,positionalEncodings)  # This is equivalent to inputs+positionalEncodings[None]. \n",
    "                                                # Here, I explicitly added a batch dimension for broadcasting, but its not needed.\n",
    "                                                # You can confirm as follows:  print(tf.math.reduce_all((inputs+positionalEncodings[None])==x))\n",
    "        return x\n",
    "\n",
    "        \n"
   ]
  },
  {
   "cell_type": "markdown",
   "id": "afe1b54b",
   "metadata": {
    "papermill": {
     "duration": 0.033368,
     "end_time": "2024-08-07T14:01:19.215065",
     "exception": false,
     "start_time": "2024-08-07T14:01:19.181697",
     "status": "completed"
    },
    "tags": []
   },
   "source": [
    "### Decoder Layer \n",
    "- Refer to fig 1 and section 3.1 of the paper."
   ]
  },
  {
   "cell_type": "code",
   "execution_count": 24,
   "id": "2464797c",
   "metadata": {
    "execution": {
     "iopub.execute_input": "2024-08-07T14:01:19.278973Z",
     "iopub.status.busy": "2024-08-07T14:01:19.278577Z",
     "iopub.status.idle": "2024-08-07T14:01:19.288974Z",
     "shell.execute_reply": "2024-08-07T14:01:19.287716Z"
    },
    "papermill": {
     "duration": 0.045804,
     "end_time": "2024-08-07T14:01:19.291763",
     "exception": false,
     "start_time": "2024-08-07T14:01:19.245959",
     "status": "completed"
    },
    "tags": []
   },
   "outputs": [],
   "source": [
    "class DecoderLayer(Layer):\n",
    "    def __init__(self,d_model, num_heads,dff,p_drop, **kwargs):\n",
    "        super(DecoderLayer, self).__init__()\n",
    "        \n",
    "        self.supports_masking=True # Ensures padding mask's propogation to the next decoder layer.\n",
    "        self.masked_self_attention = SubLayer1(d_model, num_heads, p_drop) \n",
    "        self.encoder_decoder_attention = SubLayer1(d_model, num_heads, p_drop)\n",
    "        self.position_wise = SubLayer2(dff, p_drop) # Position-wise feed forward\n",
    "\n",
    "    # Important note: First are should be the tensor whose padding mask needs to be propagated because I chose the easiest way for now.\n",
    "    def call(self,  decoder_input, encoder_output, causal_mask, mask=None, training=False):\n",
    "        # tokenEmbeddings: Embeddings of tokens in a sentence\n",
    "        #self attention, so Q, K, V are all same\n",
    "        x = decoder_input\n",
    "        x = self.masked_self_attention(x, x, x, x, causal_mask=causal_mask, mask=mask, training=training)\n",
    "        x = self.encoder_decoder_attention(x,encoder_output,encoder_output,x, training=training, mask=mask)\n",
    "        x = self.position_wise(x,training=training, mask=mask)\n",
    "        return x\n",
    "     "
   ]
  },
  {
   "cell_type": "markdown",
   "id": "59d9c65a",
   "metadata": {
    "papermill": {
     "duration": 0.031547,
     "end_time": "2024-08-07T14:01:19.355824",
     "exception": false,
     "start_time": "2024-08-07T14:01:19.324277",
     "status": "completed"
    },
    "tags": []
   },
   "source": [
    "### Encoder\n",
    "- Refer to figure 1 and section 3.1 of the paper."
   ]
  },
  {
   "cell_type": "code",
   "execution_count": 25,
   "id": "3fb1245a",
   "metadata": {
    "execution": {
     "iopub.execute_input": "2024-08-07T14:01:19.419414Z",
     "iopub.status.busy": "2024-08-07T14:01:19.418946Z",
     "iopub.status.idle": "2024-08-07T14:01:19.428756Z",
     "shell.execute_reply": "2024-08-07T14:01:19.427416Z"
    },
    "papermill": {
     "duration": 0.044948,
     "end_time": "2024-08-07T14:01:19.431664",
     "exception": false,
     "start_time": "2024-08-07T14:01:19.386716",
     "status": "completed"
    },
    "tags": []
   },
   "outputs": [],
   "source": [
    "class Encoder(Layer):\n",
    "    def __init__(self,N, d_model, num_heads,dff, p_drop, **kwargs):\n",
    "        super(Encoder, self).__init__(**kwargs)\n",
    "\n",
    "        self.encoder_layers = []\n",
    "        for n in range(N):\n",
    "            self.encoder_layers.append(EncoderLayer(d_model, num_heads,dff, p_drop))\n",
    "    \n",
    "    \n",
    "    def call(self, inputs, training=False):\n",
    "        x = inputs\n",
    "        for i,layer in enumerate(self.encoder_layers):\n",
    "            x = layer(x,training=training) # Each layer recieves masked tensor because the previous layer has self.supports_mask=True\n",
    "            \n",
    "        return x \n",
    "    \n"
   ]
  },
  {
   "cell_type": "markdown",
   "id": "8a4ea04f",
   "metadata": {
    "papermill": {
     "duration": 0.032227,
     "end_time": "2024-08-07T14:01:19.495559",
     "exception": false,
     "start_time": "2024-08-07T14:01:19.463332",
     "status": "completed"
    },
    "tags": []
   },
   "source": [
    "### Decoder\n",
    "- Refer to Fig 1, section 3.1, 3.2.3 of the paper.\n",
    "- Notice, how the causal mask, the one required for maintaing autoregressive property, is created in the constructor."
   ]
  },
  {
   "cell_type": "code",
   "execution_count": 26,
   "id": "f10ac4cd",
   "metadata": {
    "execution": {
     "iopub.execute_input": "2024-08-07T14:01:19.595575Z",
     "iopub.status.busy": "2024-08-07T14:01:19.593442Z",
     "iopub.status.idle": "2024-08-07T14:01:19.606685Z",
     "shell.execute_reply": "2024-08-07T14:01:19.605175Z"
    },
    "papermill": {
     "duration": 0.064458,
     "end_time": "2024-08-07T14:01:19.610198",
     "exception": false,
     "start_time": "2024-08-07T14:01:19.545740",
     "status": "completed"
    },
    "tags": []
   },
   "outputs": [],
   "source": [
    "class Decoder(Layer):\n",
    "    \n",
    "    def __init__(self, N, d_model, num_heads, dff, seq_len, p_drop, **kwargs):\n",
    "        super(Decoder, self).__init__()\n",
    "        self.decoder_layers = []\n",
    "        self.causal_mask = tf.constant(np.triu(np.ones((seq_len,seq_len)),k=1 ), dtype=tf.bool)\n",
    "\n",
    "        for n in range(N):\n",
    "            self.decoder_layers.append(DecoderLayer(d_model, num_heads,dff, p_drop))\n",
    "\n",
    "    def call(self, enc_output,  dec_input, training=False):\n",
    "        #def call(self, encoder_output, decoder_input, mask):\n",
    "        x = dec_input\n",
    "        for layer in self.decoder_layers:\n",
    "            x= layer(x, enc_output,mask=x._keras_mask, causal_mask=self.causal_mask, training=training)\n",
    "        return x\n",
    "    "
   ]
  },
  {
   "cell_type": "markdown",
   "id": "3f1180bf",
   "metadata": {
    "papermill": {
     "duration": 0.033406,
     "end_time": "2024-08-07T14:01:19.678710",
     "exception": false,
     "start_time": "2024-08-07T14:01:19.645304",
     "status": "completed"
    },
    "tags": []
   },
   "source": [
    "### Embedding scaling\n",
    "- Refer to section 3.4 of the paper."
   ]
  },
  {
   "cell_type": "code",
   "execution_count": 27,
   "id": "e568390a",
   "metadata": {
    "execution": {
     "iopub.execute_input": "2024-08-07T14:01:19.745744Z",
     "iopub.status.busy": "2024-08-07T14:01:19.744573Z",
     "iopub.status.idle": "2024-08-07T14:01:19.752622Z",
     "shell.execute_reply": "2024-08-07T14:01:19.751263Z"
    },
    "papermill": {
     "duration": 0.044536,
     "end_time": "2024-08-07T14:01:19.755360",
     "exception": false,
     "start_time": "2024-08-07T14:01:19.710824",
     "status": "completed"
    },
    "tags": []
   },
   "outputs": [],
   "source": [
    "class Scaling(Layer):\n",
    "    # I created this layer, because simply doing a scalar multiplication with\n",
    "    # a tensor with _keras_mask property resulted in a tensor with no mask.\n",
    "    def __init__(self, scale, **kwargs):\n",
    "        super(Scaling,self).__init__(**kwargs)\n",
    "        self.supports_masking=True\n",
    "        self.scale=scale\n",
    "        \n",
    "    def call(self, inputs):\n",
    "        return inputs*self.scale\n",
    "        \n"
   ]
  },
  {
   "cell_type": "markdown",
   "id": "82389439",
   "metadata": {
    "papermill": {
     "duration": 0.032962,
     "end_time": "2024-08-07T14:01:19.821252",
     "exception": false,
     "start_time": "2024-08-07T14:01:19.788290",
     "status": "completed"
    },
    "tags": []
   },
   "source": [
    "### Transformer\n",
    "- Refer to figure 1, section 3.4, section 5.4 and table 3.\n",
    "- The important concept here is of weight sharing, or weight tying. The weights of embedding matrix are shared between source, target, and the final linear layer just before the final softmax (The linear layer after the decoder). It is a three-way sharing (or three-way weight tying) of the same weights."
   ]
  },
  {
   "cell_type": "code",
   "execution_count": 28,
   "id": "09472266",
   "metadata": {
    "execution": {
     "iopub.execute_input": "2024-08-07T14:01:19.886880Z",
     "iopub.status.busy": "2024-08-07T14:01:19.886418Z",
     "iopub.status.idle": "2024-08-07T14:01:19.901702Z",
     "shell.execute_reply": "2024-08-07T14:01:19.899913Z"
    },
    "papermill": {
     "duration": 0.051582,
     "end_time": "2024-08-07T14:01:19.905943",
     "exception": false,
     "start_time": "2024-08-07T14:01:19.854361",
     "status": "completed"
    },
    "tags": []
   },
   "outputs": [],
   "source": [
    "class Transformer(Model):\n",
    "    def __init__(self, N, d_model, num_heads,dff,seq_len, vocab_size, p_drop, **kwargs):\n",
    "        super(Transformer,self).__init__(**kwargs)\n",
    "        self.shared_embedding = Embedding(vocab_size+1,d_model,mask_zero=True) # be becasue word indexes staart from 1, but embedding layer's embedding indexes start from 0.0 index is left for padding\n",
    "        self.positional_encoding = PositionalEncoding()\n",
    "        self.encoder = Encoder(N, d_model, num_heads,dff, p_drop)\n",
    "        self.decoder =  Decoder(N, d_model, num_heads,dff,seq_len, p_drop)\n",
    "        self.dropout1 = Dropout(p_drop)\n",
    "        self.dropout2 = Dropout(p_drop)\n",
    "        self.scale_embed =  Scaling(d_model**.5)\n",
    "\n",
    "    def call(self, input, training=False):\n",
    "        \"\"\"\n",
    "        enc_inputs : tokenized sequence of shape (batch, enc_seq_len)\n",
    "        dec_inputs : tokenized sequence of shape (batch, dec_seq_len)\n",
    "        \"\"\"\n",
    "\n",
    "        enc_inputs, dec_inputs = input\n",
    "        \n",
    "        enc_inputs = self.shared_embedding(enc_inputs)\n",
    "        enc_inputs = self.scale_embed(enc_inputs)\n",
    "        enc_inputs = self.positional_encoding(enc_inputs)  \n",
    "        enc_inputs = self.dropout1(enc_inputs, training=training)\n",
    "        \n",
    "        dec_inputs = self.shared_embedding(dec_inputs)\n",
    "        dec_inputs = self.scale_embed(dec_inputs)\n",
    "        dec_inputs = self.positional_encoding(dec_inputs)\n",
    "        dec_inputs = self.dropout2(dec_inputs, training=training)\n",
    "        \n",
    "        enc_output = self.encoder(enc_inputs, training=training)\n",
    "        decoder_output = self.decoder(enc_output , dec_inputs,training=training) # has shape(batch, dec_input, d_model)\n",
    "\n",
    "        # Final linear operation. Weight tying\n",
    "        embed_weights = self.shared_embedding.weights[0] # has shape (vocab_size,d_model)\n",
    "        embed_weights_scaled = self.scale_embed(embed_weights)\n",
    "\n",
    "        logits = tf.matmul(decoder_output,embed_weights_scaled,transpose_b=True)\n",
    "\n",
    "        return logits"
   ]
  },
  {
   "cell_type": "markdown",
   "id": "e2e91ca4",
   "metadata": {
    "papermill": {
     "duration": 0.035094,
     "end_time": "2024-08-07T14:01:19.975177",
     "exception": false,
     "start_time": "2024-08-07T14:01:19.940083",
     "status": "completed"
    },
    "tags": []
   },
   "source": [
    "## Loss\n",
    "- Refer to section 5.4 of the paper. The label smoothing part.."
   ]
  },
  {
   "cell_type": "code",
   "execution_count": 29,
   "id": "878283c3",
   "metadata": {
    "execution": {
     "iopub.execute_input": "2024-08-07T14:01:20.050829Z",
     "iopub.status.busy": "2024-08-07T14:01:20.050372Z",
     "iopub.status.idle": "2024-08-07T14:01:20.062070Z",
     "shell.execute_reply": "2024-08-07T14:01:20.059814Z"
    },
    "papermill": {
     "duration": 0.053655,
     "end_time": "2024-08-07T14:01:20.065620",
     "exception": false,
     "start_time": "2024-08-07T14:01:20.011965",
     "status": "completed"
    },
    "tags": []
   },
   "outputs": [],
   "source": [
    "loss_obj= tf.keras.losses.CategoricalCrossentropy(label_smoothing=0.1, reduction='none', from_logits=True)\n",
    "mask_layer = Masking()\n",
    "\n",
    "def loss_func(y_true, y_pred):\n",
    "    \n",
    "    lab_masked = mask_layer(y_true) # create mask from labels. Read documentation if needed. Basically, if a particular token in a sequence has only zeros in the feature dimension, that token is masked as padding token.\n",
    "    mask = tf.cast(lab_masked._keras_mask, tf.float32)\n",
    "    loss = loss_obj(lab_masked[:,:,1:],y_pred[:,:,1:]) # The zeroth index of logits correspond to padding, so ignore it\n",
    "    masked_loss = loss * mask # zero out the loss values corresponding to padding token vectors.\n",
    "    \n",
    "    return tf.reduce_sum(masked_loss)"
   ]
  },
  {
   "cell_type": "markdown",
   "id": "e7a443ad",
   "metadata": {
    "papermill": {
     "duration": 0.033393,
     "end_time": "2024-08-07T14:01:20.134219",
     "exception": false,
     "start_time": "2024-08-07T14:01:20.100826",
     "status": "completed"
    },
    "tags": []
   },
   "source": [
    "### Learning rate schedule\n",
    "- Refer to section 5.3 of the paper."
   ]
  },
  {
   "cell_type": "code",
   "execution_count": 30,
   "id": "1e014d23",
   "metadata": {
    "execution": {
     "iopub.execute_input": "2024-08-07T14:01:20.211074Z",
     "iopub.status.busy": "2024-08-07T14:01:20.210571Z",
     "iopub.status.idle": "2024-08-07T14:01:20.226518Z",
     "shell.execute_reply": "2024-08-07T14:01:20.224611Z"
    },
    "papermill": {
     "duration": 0.056547,
     "end_time": "2024-08-07T14:01:20.230390",
     "exception": false,
     "start_time": "2024-08-07T14:01:20.173843",
     "status": "completed"
    },
    "tags": []
   },
   "outputs": [],
   "source": [
    "class MyLRSchedule(tf.keras.optimizers.schedules.LearningRateSchedule):\n",
    "\n",
    "    def __init__(self, warmup_steps=4000, d_model=512):\n",
    "        super(MyLRSchedule,self).__init__()\n",
    "        self.d_model = d_model#tf.cast(d_model, tf.float32)\n",
    "        self.warmup_steps=warmup_steps\n",
    "\n",
    "    def __call__(self, step):\n",
    "        step = tf.cast(step, tf.float32)\n",
    "        lrate = self.d_model**-.5 * tf.minimum(step**-0.5, step*self.warmup_steps**-1.5)\n",
    "        return lrate\n",
    "\n",
    "    \n",
    "    \n",
    "    def get_config(self):\n",
    "        config = {\n",
    "            'warmup_steps':self.warmup_steps,\n",
    "            'd_model':self.d_model,\n",
    "        }\n",
    "        return config\n"
   ]
  },
  {
   "cell_type": "code",
   "execution_count": 31,
   "id": "7ef6c915",
   "metadata": {
    "execution": {
     "iopub.execute_input": "2024-08-07T14:01:20.303095Z",
     "iopub.status.busy": "2024-08-07T14:01:20.302079Z",
     "iopub.status.idle": "2024-08-07T14:01:21.520106Z",
     "shell.execute_reply": "2024-08-07T14:01:21.518850Z"
    },
    "papermill": {
     "duration": 1.259696,
     "end_time": "2024-08-07T14:01:21.523369",
     "exception": false,
     "start_time": "2024-08-07T14:01:20.263673",
     "status": "completed"
    },
    "tags": []
   },
   "outputs": [],
   "source": [
    "transformer = Transformer(N, d_model, h,dff,max_seq_len, vocab_size, p_drop)"
   ]
  },
  {
   "cell_type": "markdown",
   "id": "a30dee16",
   "metadata": {
    "papermill": {
     "duration": 0.031281,
     "end_time": "2024-08-07T14:01:21.585480",
     "exception": false,
     "start_time": "2024-08-07T14:01:21.554199",
     "status": "completed"
    },
    "tags": []
   },
   "source": [
    "__Optimizer__\n",
    "- Refer to section 5.3."
   ]
  },
  {
   "cell_type": "code",
   "execution_count": 32,
   "id": "dbe5e02a",
   "metadata": {
    "execution": {
     "iopub.execute_input": "2024-08-07T14:01:21.653861Z",
     "iopub.status.busy": "2024-08-07T14:01:21.653354Z",
     "iopub.status.idle": "2024-08-07T14:01:21.674587Z",
     "shell.execute_reply": "2024-08-07T14:01:21.673237Z"
    },
    "papermill": {
     "duration": 0.058722,
     "end_time": "2024-08-07T14:01:21.677867",
     "exception": false,
     "start_time": "2024-08-07T14:01:21.619145",
     "status": "completed"
    },
    "tags": []
   },
   "outputs": [],
   "source": [
    "optimizer = tf.keras.optimizers.Adam(beta_1=.9,beta_2=.98,epsilon=10e-9, learning_rate=MyLRSchedule())\n",
    "transformer.compile(optimizer=optimizer,loss=loss_func)"
   ]
  },
  {
   "cell_type": "markdown",
   "id": "ed37209c",
   "metadata": {
    "papermill": {
     "duration": 0.032771,
     "end_time": "2024-08-07T14:01:21.742639",
     "exception": false,
     "start_time": "2024-08-07T14:01:21.709868",
     "status": "completed"
    },
    "tags": []
   },
   "source": [
    "## Training\n",
    "- Since kaggle has a session limit of 12 hours, model needs to be saved and reloded to continue training.\n",
    "- I personally ran one epoch per session. (Run training for one epoch, then renew the session, and continue training)\n",
    "### Basic workflow\n",
    "- For each epoch, respective folders needs to be created beforehand. My root folder was exp2, and inside that folder, there were folders 'epoch1', 'epoch2', 'epoch3'. So make sure the folders are there otherwise the callbacks will fail, and so will the training. (I know this can be handled by using appropriate api, like os, you can try that if desired)\n",
    "- Update the _epoch_ variable in the custom callback cell to ensure the files are saved in the epoch they are actually generated.\n",
    "- If first epoch:\n",
    "- - compile and fit.\n",
    "- else: \n",
    "- - load the last save model, then compile and fit\n",
    "\n",
    "__Note:__ Make sure to set the _Persistence_ option to _Files only_ in the _Session options_. Also, I used GPU P100, and it took around 8 hrs per epoch.\n",
    "\n",
    "__Note:__ Running the fit and validate method produces warnings regarding masks being lost. This is by design and shouldn't cause any worries. Masks aren't retained where they are not needed.\n",
    "\n",
    "__Create folders needed for the current epoch__"
   ]
  },
  {
   "cell_type": "code",
   "execution_count": 33,
   "id": "cf63b499",
   "metadata": {
    "execution": {
     "iopub.execute_input": "2024-08-07T14:01:21.810557Z",
     "iopub.status.busy": "2024-08-07T14:01:21.810108Z",
     "iopub.status.idle": "2024-08-07T14:01:21.815602Z",
     "shell.execute_reply": "2024-08-07T14:01:21.813983Z"
    },
    "papermill": {
     "duration": 0.043048,
     "end_time": "2024-08-07T14:01:21.818962",
     "exception": false,
     "start_time": "2024-08-07T14:01:21.775914",
     "status": "completed"
    },
    "tags": []
   },
   "outputs": [],
   "source": [
    "#!rm -r /kaggle/working/exp2/epoch0"
   ]
  },
  {
   "cell_type": "code",
   "execution_count": 34,
   "id": "8f29f680",
   "metadata": {
    "execution": {
     "iopub.execute_input": "2024-08-07T14:01:21.887122Z",
     "iopub.status.busy": "2024-08-07T14:01:21.886199Z",
     "iopub.status.idle": "2024-08-07T14:01:21.906289Z",
     "shell.execute_reply": "2024-08-07T14:01:21.904793Z"
    },
    "papermill": {
     "duration": 0.058191,
     "end_time": "2024-08-07T14:01:21.909315",
     "exception": false,
     "start_time": "2024-08-07T14:01:21.851124",
     "status": "completed"
    },
    "tags": []
   },
   "outputs": [],
   "source": [
    "\n",
    "checkpoint_steps = 7200 # 7200 batches before saving a checkpoint. On P100 gpu, it take approxx 1 hr 30 min.\n",
    "epoch='epoch0/'# Change this for each epoch\n",
    "out_path='/kaggle/working/exp2/'+epoch\n",
    "os.makedirs(out_path)\n",
    "class CustomCallback(Callback):\n",
    "    \n",
    "    \n",
    "    def on_batch_end(self,batch,logs):\n",
    "\n",
    "        # Write batch number as well incase we want to resume from where we left of\n",
    "        path = out_path+\"batch.txt\"\n",
    "        f = open(path, \"w\")\n",
    "        f.write(str(batch)) \n",
    "        f.write(\"\\n\")\n",
    "        f.close()\n",
    "        \n",
    "        # Save model\n",
    "        if (batch+1)%step_size==0:# +1 because zero (zeroth) batch is multiple of every number\n",
    "            #training loss\n",
    "            path = out_path+'train_loss.txt'\n",
    "            f = open(path, \"a\")\n",
    "            f.write(str(logs[\"loss\"]))\n",
    "            f.write(\"\\n\")\n",
    "            f.close()\n",
    "\n",
    "            \n",
    "            # validation loss\n",
    "            path = out_path+'val_loss.txt'\n",
    "            f = open(path, \"a\")\n",
    "            val_loss = self.model.evaluate(val)\n",
    "            f.write(str(val_loss))\n",
    "            f.write(\"\\n\")\n",
    "            f.close()\n",
    "\n",
    "            # time\n",
    "            path = out_path+'time.txt'\n",
    "            f = open(path, \"a\")\n",
    "            f.write(time.strftime(\"%x %X\"))\n",
    "            f.write(\"\\n\")\n",
    "            f.close()\n",
    "\n",
    "            # Save model\n",
    "            self.model.save_weights(root+'model_e_'+ str(round(val_loss,3))+'_.weights.h5')\n",
    "\n",
    "            \n",
    "            \n",
    "\n",
    "    # Since the dataset is not exactly a multiple of steps, we need to consider the loss values when the epoch ends\n",
    "    def on_epoch_end(self, epochs,logs):\n",
    "\n",
    "        #training loss\n",
    "            path = out_path+'train_loss.txt'\n",
    "            f = open(path, \"a\")\n",
    "            f.write(str(logs[\"loss\"]))\n",
    "            f.write(\"\\n\")\n",
    "            f.close()\n",
    "\n",
    "        \n",
    "        # validation loss\n",
    "            path = out_path+'val_loss.txt'\n",
    "            f = open(path, \"a\")\n",
    "            val_loss = self.model.evaluate(val)\n",
    "            f.write(str(val_loss))\n",
    "            f.write(\"\\n\")\n",
    "            f.close()\n",
    "\n",
    "            # time\n",
    "            path = out_path+'time.txt'\n",
    "            f = open(path, \"a\")\n",
    "            f.write(time.strftime(\"%x %X\"))\n",
    "            f.write(\"\\n\")\n",
    "            f.close()\n",
    "\n",
    "            # Save model\n",
    "            self.model.save_weights(root+'model_e_'+ str(round(val_loss,3))+'_.weights.h5')\n"
   ]
  },
  {
   "cell_type": "code",
   "execution_count": 35,
   "id": "89336f26",
   "metadata": {
    "execution": {
     "iopub.execute_input": "2024-08-07T14:01:21.973782Z",
     "iopub.status.busy": "2024-08-07T14:01:21.973333Z",
     "iopub.status.idle": "2024-08-07T14:01:22.833221Z",
     "shell.execute_reply": "2024-08-07T14:01:22.832146Z"
    },
    "papermill": {
     "duration": 0.894973,
     "end_time": "2024-08-07T14:01:22.836184",
     "exception": false,
     "start_time": "2024-08-07T14:01:21.941211",
     "status": "completed"
    },
    "tags": []
   },
   "outputs": [],
   "source": [
    "transformer = Transformer(N, d_model, h,dff,max_seq_len, vocab_size, p_drop)\n",
    "optimizer = tf.keras.optimizers.Adam(beta_1=.9,beta_2=.98,epsilon=10e-9, learning_rate=MyLRSchedule())\n",
    "transformer.compile(optimizer=optimizer,loss=loss_func)"
   ]
  },
  {
   "cell_type": "code",
   "execution_count": 36,
   "id": "243ba5ed",
   "metadata": {
    "execution": {
     "iopub.execute_input": "2024-08-07T14:01:22.900627Z",
     "iopub.status.busy": "2024-08-07T14:01:22.900194Z",
     "iopub.status.idle": "2024-08-07T14:01:22.906163Z",
     "shell.execute_reply": "2024-08-07T14:01:22.904897Z"
    },
    "papermill": {
     "duration": 0.041403,
     "end_time": "2024-08-07T14:01:22.908885",
     "exception": false,
     "start_time": "2024-08-07T14:01:22.867482",
     "status": "completed"
    },
    "tags": []
   },
   "outputs": [],
   "source": [
    "# uncomment to continue training\n",
    "#history = transformer.fit(train,callbacks=[CustomCallback()])"
   ]
  },
  {
   "cell_type": "markdown",
   "id": "f3170d84",
   "metadata": {
    "papermill": {
     "duration": 0.029266,
     "end_time": "2024-08-07T14:01:22.967932",
     "exception": false,
     "start_time": "2024-08-07T14:01:22.938666",
     "status": "completed"
    },
    "tags": []
   },
   "source": [
    "#### continue training\n",
    "- restart session, load datasets, load all classes, modify _epoch_ in the callback so the current epoch's data saved in new folder.\n",
    "- epochs 2,3,4,..."
   ]
  },
  {
   "cell_type": "code",
   "execution_count": 37,
   "id": "e6754327",
   "metadata": {
    "execution": {
     "iopub.execute_input": "2024-08-07T14:01:23.033720Z",
     "iopub.status.busy": "2024-08-07T14:01:23.033277Z",
     "iopub.status.idle": "2024-08-07T14:01:23.961559Z",
     "shell.execute_reply": "2024-08-07T14:01:23.959796Z"
    },
    "papermill": {
     "duration": 0.965905,
     "end_time": "2024-08-07T14:01:23.965982",
     "exception": false,
     "start_time": "2024-08-07T14:01:23.000077",
     "status": "completed"
    },
    "tags": []
   },
   "outputs": [],
   "source": [
    "transformer = Transformer(N, d_model, h,dff,max_seq_len, vocab_size, p_drop)\n",
    "optimizer = tf.keras.optimizers.Adam(beta_1=.9,beta_2=.98,epsilon=10e-9, learning_rate=MyLRSchedule())\n",
    "transformer.compile(optimizer=optimizer,loss=loss_func)\n",
    "\n",
    "# Uncomment the beloe code to compile and model weights and optimizer's state \n",
    "\n",
    "#transformer.fit(train.take(1))# This veryy important!!, otherwise the optimizer;s state is not loaded. The schedule depends on optimizer's state. very important!!\n",
    "#weights_path = \"/kaggle/working/exp2/epoch3/model_e3_20093.691_.weights.h5\" # latest weights from the last epoch. Change as per your environment\n",
    "#transformer.load_weights(weights_path)"
   ]
  },
  {
   "cell_type": "code",
   "execution_count": 38,
   "id": "2efe8fb4",
   "metadata": {
    "execution": {
     "iopub.execute_input": "2024-08-07T14:01:24.048201Z",
     "iopub.status.busy": "2024-08-07T14:01:24.047725Z",
     "iopub.status.idle": "2024-08-07T14:01:24.062111Z",
     "shell.execute_reply": "2024-08-07T14:01:24.060275Z"
    },
    "papermill": {
     "duration": 0.057597,
     "end_time": "2024-08-07T14:01:24.065313",
     "exception": false,
     "start_time": "2024-08-07T14:01:24.007716",
     "status": "completed"
    },
    "tags": []
   },
   "outputs": [
    {
     "data": {
      "text/plain": [
       "0"
      ]
     },
     "execution_count": 38,
     "metadata": {},
     "output_type": "execute_result"
    }
   ],
   "source": [
    "transformer.optimizer.iterations.numpy()# Double check if the optimizer's state is loaded correctly. This total number steps the optimizer has taken. Important for schedule"
   ]
  },
  {
   "cell_type": "markdown",
   "id": "eb14f4e4",
   "metadata": {
    "papermill": {
     "duration": 0.035446,
     "end_time": "2024-08-07T14:01:24.133311",
     "exception": false,
     "start_time": "2024-08-07T14:01:24.097865",
     "status": "completed"
    },
    "tags": []
   },
   "source": [
    "- Make sure to update callback code as mentioned above before running the following cell."
   ]
  },
  {
   "cell_type": "code",
   "execution_count": 39,
   "id": "9dfc30df",
   "metadata": {
    "execution": {
     "iopub.execute_input": "2024-08-07T14:01:24.207888Z",
     "iopub.status.busy": "2024-08-07T14:01:24.207422Z",
     "iopub.status.idle": "2024-08-07T14:01:24.215373Z",
     "shell.execute_reply": "2024-08-07T14:01:24.213205Z"
    },
    "papermill": {
     "duration": 0.048189,
     "end_time": "2024-08-07T14:01:24.219660",
     "exception": false,
     "start_time": "2024-08-07T14:01:24.171471",
     "status": "completed"
    },
    "tags": []
   },
   "outputs": [],
   "source": [
    "# Uncomment to continue training\n",
    "#history = transformer.fit(train,callbacks=[CustomCallback()])"
   ]
  },
  {
   "cell_type": "markdown",
   "id": "4d5e06cd",
   "metadata": {
    "papermill": {
     "duration": 0.033556,
     "end_time": "2024-08-07T14:01:24.292744",
     "exception": false,
     "start_time": "2024-08-07T14:01:24.259188",
     "status": "completed"
    },
    "tags": []
   },
   "source": [
    "## Metrics Plot\n",
    "- Since the training spanned multiple sessions,we can't directly use the history object for plots. The loss values werer saved in the text files and then plotted afterwards. The following image was created using the script at the bottom.\n",
    "- As we can see, the 9th model checkpoint has the best validation loss. We'll see some predictions from it in the next section."
   ]
  },
  {
   "attachments": {
    "d0d6d3d9-d4d3-43b0-8664-6c47de2c008e.png": {
     "image/png": "[encoded data removed]"
    }
   },
   "cell_type": "markdown",
   "id": "af62cfdb",
   "metadata": {
    "papermill": {
     "duration": 0.037009,
     "end_time": "2024-08-07T14:01:24.362131",
     "exception": false,
     "start_time": "2024-08-07T14:01:24.325122",
     "status": "completed"
    },
    "tags": []
   },
   "source": [
    "![image.png](attachment:d0d6d3d9-d4d3-43b0-8664-6c47de2c008e.png)"
   ]
  },
  {
   "cell_type": "markdown",
   "id": "594cd749",
   "metadata": {
    "papermill": {
     "duration": 0.041791,
     "end_time": "2024-08-07T14:01:24.442514",
     "exception": false,
     "start_time": "2024-08-07T14:01:24.400723",
     "status": "completed"
    },
    "tags": []
   },
   "source": [
    "## Prediction\n"
   ]
  },
  {
   "cell_type": "code",
   "execution_count": 40,
   "id": "8056219a",
   "metadata": {
    "execution": {
     "iopub.execute_input": "2024-08-07T14:01:24.538242Z",
     "iopub.status.busy": "2024-08-07T14:01:24.537470Z",
     "iopub.status.idle": "2024-08-07T14:06:49.822886Z",
     "shell.execute_reply": "2024-08-07T14:06:49.821623Z"
    },
    "papermill": {
     "duration": 325.333524,
     "end_time": "2024-08-07T14:06:49.826288",
     "exception": false,
     "start_time": "2024-08-07T14:01:24.492764",
     "status": "completed"
    },
    "tags": []
   },
   "outputs": [
    {
     "name": "stderr",
     "output_type": "stream",
     "text": [
      "/opt/conda/lib/python3.10/site-packages/keras/src/layers/layer.py:915: UserWarning: Layer 'multi_head_attention_54' (of type MultiHeadAttention) was passed an input with a mask attached to it. However, this layer does not support masking and will therefore destroy the mask information. Downstream layers will not see the mask.\n",
      "  warnings.warn(\n",
      "/opt/conda/lib/python3.10/site-packages/keras/src/layers/layer.py:915: UserWarning: Layer 'residual_block_90' (of type ResidualBlock) was passed an input with a mask attached to it. However, this layer does not support masking and will therefore destroy the mask information. Downstream layers will not see the mask.\n",
      "  warnings.warn(\n",
      "/opt/conda/lib/python3.10/site-packages/keras/src/layers/layer.py:915: UserWarning: Layer 'ffn_36' (of type FFN) was passed an input with a mask attached to it. However, this layer does not support masking and will therefore destroy the mask information. Downstream layers will not see the mask.\n",
      "  warnings.warn(\n",
      "/opt/conda/lib/python3.10/site-packages/keras/src/layers/layer.py:915: UserWarning: Layer 'residual_block_91' (of type ResidualBlock) was passed an input with a mask attached to it. However, this layer does not support masking and will therefore destroy the mask information. Downstream layers will not see the mask.\n",
      "  warnings.warn(\n",
      "/opt/conda/lib/python3.10/site-packages/keras/src/layers/layer.py:915: UserWarning: Layer 'sub_layer2_36' (of type SubLayer2) was passed an input with a mask attached to it. However, this layer does not support masking and will therefore destroy the mask information. Downstream layers will not see the mask.\n",
      "  warnings.warn(\n",
      "/opt/conda/lib/python3.10/site-packages/keras/src/layers/layer.py:915: UserWarning: Layer 'multi_head_attention_55' (of type MultiHeadAttention) was passed an input with a mask attached to it. However, this layer does not support masking and will therefore destroy the mask information. Downstream layers will not see the mask.\n",
      "  warnings.warn(\n",
      "/opt/conda/lib/python3.10/site-packages/keras/src/layers/layer.py:915: UserWarning: Layer 'residual_block_92' (of type ResidualBlock) was passed an input with a mask attached to it. However, this layer does not support masking and will therefore destroy the mask information. Downstream layers will not see the mask.\n",
      "  warnings.warn(\n",
      "/opt/conda/lib/python3.10/site-packages/keras/src/layers/layer.py:915: UserWarning: Layer 'ffn_37' (of type FFN) was passed an input with a mask attached to it. However, this layer does not support masking and will therefore destroy the mask information. Downstream layers will not see the mask.\n",
      "  warnings.warn(\n",
      "/opt/conda/lib/python3.10/site-packages/keras/src/layers/layer.py:915: UserWarning: Layer 'residual_block_93' (of type ResidualBlock) was passed an input with a mask attached to it. However, this layer does not support masking and will therefore destroy the mask information. Downstream layers will not see the mask.\n",
      "  warnings.warn(\n",
      "/opt/conda/lib/python3.10/site-packages/keras/src/layers/layer.py:915: UserWarning: Layer 'sub_layer2_37' (of type SubLayer2) was passed an input with a mask attached to it. However, this layer does not support masking and will therefore destroy the mask information. Downstream layers will not see the mask.\n",
      "  warnings.warn(\n",
      "/opt/conda/lib/python3.10/site-packages/keras/src/layers/layer.py:915: UserWarning: Layer 'multi_head_attention_56' (of type MultiHeadAttention) was passed an input with a mask attached to it. However, this layer does not support masking and will therefore destroy the mask information. Downstream layers will not see the mask.\n",
      "  warnings.warn(\n",
      "/opt/conda/lib/python3.10/site-packages/keras/src/layers/layer.py:915: UserWarning: Layer 'residual_block_94' (of type ResidualBlock) was passed an input with a mask attached to it. However, this layer does not support masking and will therefore destroy the mask information. Downstream layers will not see the mask.\n",
      "  warnings.warn(\n",
      "/opt/conda/lib/python3.10/site-packages/keras/src/layers/layer.py:915: UserWarning: Layer 'ffn_38' (of type FFN) was passed an input with a mask attached to it. However, this layer does not support masking and will therefore destroy the mask information. Downstream layers will not see the mask.\n",
      "  warnings.warn(\n",
      "/opt/conda/lib/python3.10/site-packages/keras/src/layers/layer.py:915: UserWarning: Layer 'residual_block_95' (of type ResidualBlock) was passed an input with a mask attached to it. However, this layer does not support masking and will therefore destroy the mask information. Downstream layers will not see the mask.\n",
      "  warnings.warn(\n",
      "/opt/conda/lib/python3.10/site-packages/keras/src/layers/layer.py:915: UserWarning: Layer 'sub_layer2_38' (of type SubLayer2) was passed an input with a mask attached to it. However, this layer does not support masking and will therefore destroy the mask information. Downstream layers will not see the mask.\n",
      "  warnings.warn(\n",
      "/opt/conda/lib/python3.10/site-packages/keras/src/layers/layer.py:915: UserWarning: Layer 'multi_head_attention_57' (of type MultiHeadAttention) was passed an input with a mask attached to it. However, this layer does not support masking and will therefore destroy the mask information. Downstream layers will not see the mask.\n",
      "  warnings.warn(\n",
      "/opt/conda/lib/python3.10/site-packages/keras/src/layers/layer.py:915: UserWarning: Layer 'residual_block_96' (of type ResidualBlock) was passed an input with a mask attached to it. However, this layer does not support masking and will therefore destroy the mask information. Downstream layers will not see the mask.\n",
      "  warnings.warn(\n",
      "/opt/conda/lib/python3.10/site-packages/keras/src/layers/layer.py:915: UserWarning: Layer 'ffn_39' (of type FFN) was passed an input with a mask attached to it. However, this layer does not support masking and will therefore destroy the mask information. Downstream layers will not see the mask.\n",
      "  warnings.warn(\n",
      "/opt/conda/lib/python3.10/site-packages/keras/src/layers/layer.py:915: UserWarning: Layer 'residual_block_97' (of type ResidualBlock) was passed an input with a mask attached to it. However, this layer does not support masking and will therefore destroy the mask information. Downstream layers will not see the mask.\n",
      "  warnings.warn(\n",
      "/opt/conda/lib/python3.10/site-packages/keras/src/layers/layer.py:915: UserWarning: Layer 'sub_layer2_39' (of type SubLayer2) was passed an input with a mask attached to it. However, this layer does not support masking and will therefore destroy the mask information. Downstream layers will not see the mask.\n",
      "  warnings.warn(\n",
      "/opt/conda/lib/python3.10/site-packages/keras/src/layers/layer.py:915: UserWarning: Layer 'multi_head_attention_58' (of type MultiHeadAttention) was passed an input with a mask attached to it. However, this layer does not support masking and will therefore destroy the mask information. Downstream layers will not see the mask.\n",
      "  warnings.warn(\n",
      "/opt/conda/lib/python3.10/site-packages/keras/src/layers/layer.py:915: UserWarning: Layer 'residual_block_98' (of type ResidualBlock) was passed an input with a mask attached to it. However, this layer does not support masking and will therefore destroy the mask information. Downstream layers will not see the mask.\n",
      "  warnings.warn(\n",
      "/opt/conda/lib/python3.10/site-packages/keras/src/layers/layer.py:915: UserWarning: Layer 'ffn_40' (of type FFN) was passed an input with a mask attached to it. However, this layer does not support masking and will therefore destroy the mask information. Downstream layers will not see the mask.\n",
      "  warnings.warn(\n",
      "/opt/conda/lib/python3.10/site-packages/keras/src/layers/layer.py:915: UserWarning: Layer 'residual_block_99' (of type ResidualBlock) was passed an input with a mask attached to it. However, this layer does not support masking and will therefore destroy the mask information. Downstream layers will not see the mask.\n",
      "  warnings.warn(\n",
      "/opt/conda/lib/python3.10/site-packages/keras/src/layers/layer.py:915: UserWarning: Layer 'sub_layer2_40' (of type SubLayer2) was passed an input with a mask attached to it. However, this layer does not support masking and will therefore destroy the mask information. Downstream layers will not see the mask.\n",
      "  warnings.warn(\n",
      "/opt/conda/lib/python3.10/site-packages/keras/src/layers/layer.py:915: UserWarning: Layer 'multi_head_attention_59' (of type MultiHeadAttention) was passed an input with a mask attached to it. However, this layer does not support masking and will therefore destroy the mask information. Downstream layers will not see the mask.\n",
      "  warnings.warn(\n",
      "/opt/conda/lib/python3.10/site-packages/keras/src/layers/layer.py:915: UserWarning: Layer 'residual_block_100' (of type ResidualBlock) was passed an input with a mask attached to it. However, this layer does not support masking and will therefore destroy the mask information. Downstream layers will not see the mask.\n",
      "  warnings.warn(\n",
      "/opt/conda/lib/python3.10/site-packages/keras/src/layers/layer.py:915: UserWarning: Layer 'ffn_41' (of type FFN) was passed an input with a mask attached to it. However, this layer does not support masking and will therefore destroy the mask information. Downstream layers will not see the mask.\n",
      "  warnings.warn(\n",
      "/opt/conda/lib/python3.10/site-packages/keras/src/layers/layer.py:915: UserWarning: Layer 'residual_block_101' (of type ResidualBlock) was passed an input with a mask attached to it. However, this layer does not support masking and will therefore destroy the mask information. Downstream layers will not see the mask.\n",
      "  warnings.warn(\n",
      "/opt/conda/lib/python3.10/site-packages/keras/src/layers/layer.py:915: UserWarning: Layer 'sub_layer2_41' (of type SubLayer2) was passed an input with a mask attached to it. However, this layer does not support masking and will therefore destroy the mask information. Downstream layers will not see the mask.\n",
      "  warnings.warn(\n",
      "/opt/conda/lib/python3.10/site-packages/keras/src/layers/layer.py:915: UserWarning: Layer 'encoder_3' (of type Encoder) was passed an input with a mask attached to it. However, this layer does not support masking and will therefore destroy the mask information. Downstream layers will not see the mask.\n",
      "  warnings.warn(\n",
      "/opt/conda/lib/python3.10/site-packages/keras/src/layers/layer.py:915: UserWarning: Layer 'multi_head_attention_60' (of type MultiHeadAttention) was passed an input with a mask attached to it. However, this layer does not support masking and will therefore destroy the mask information. Downstream layers will not see the mask.\n",
      "  warnings.warn(\n",
      "/opt/conda/lib/python3.10/site-packages/keras/src/layers/layer.py:915: UserWarning: Layer 'residual_block_102' (of type ResidualBlock) was passed an input with a mask attached to it. However, this layer does not support masking and will therefore destroy the mask information. Downstream layers will not see the mask.\n",
      "  warnings.warn(\n",
      "/opt/conda/lib/python3.10/site-packages/keras/src/layers/layer.py:915: UserWarning: Layer 'multi_head_attention_61' (of type MultiHeadAttention) was passed an input with a mask attached to it. However, this layer does not support masking and will therefore destroy the mask information. Downstream layers will not see the mask.\n",
      "  warnings.warn(\n",
      "/opt/conda/lib/python3.10/site-packages/keras/src/layers/layer.py:915: UserWarning: Layer 'residual_block_103' (of type ResidualBlock) was passed an input with a mask attached to it. However, this layer does not support masking and will therefore destroy the mask information. Downstream layers will not see the mask.\n",
      "  warnings.warn(\n",
      "/opt/conda/lib/python3.10/site-packages/keras/src/layers/layer.py:915: UserWarning: Layer 'ffn_42' (of type FFN) was passed an input with a mask attached to it. However, this layer does not support masking and will therefore destroy the mask information. Downstream layers will not see the mask.\n",
      "  warnings.warn(\n",
      "/opt/conda/lib/python3.10/site-packages/keras/src/layers/layer.py:915: UserWarning: Layer 'residual_block_104' (of type ResidualBlock) was passed an input with a mask attached to it. However, this layer does not support masking and will therefore destroy the mask information. Downstream layers will not see the mask.\n",
      "  warnings.warn(\n",
      "/opt/conda/lib/python3.10/site-packages/keras/src/layers/layer.py:915: UserWarning: Layer 'sub_layer2_42' (of type SubLayer2) was passed an input with a mask attached to it. However, this layer does not support masking and will therefore destroy the mask information. Downstream layers will not see the mask.\n",
      "  warnings.warn(\n",
      "/opt/conda/lib/python3.10/site-packages/keras/src/layers/layer.py:915: UserWarning: Layer 'multi_head_attention_62' (of type MultiHeadAttention) was passed an input with a mask attached to it. However, this layer does not support masking and will therefore destroy the mask information. Downstream layers will not see the mask.\n",
      "  warnings.warn(\n",
      "/opt/conda/lib/python3.10/site-packages/keras/src/layers/layer.py:915: UserWarning: Layer 'residual_block_105' (of type ResidualBlock) was passed an input with a mask attached to it. However, this layer does not support masking and will therefore destroy the mask information. Downstream layers will not see the mask.\n",
      "  warnings.warn(\n",
      "/opt/conda/lib/python3.10/site-packages/keras/src/layers/layer.py:915: UserWarning: Layer 'multi_head_attention_63' (of type MultiHeadAttention) was passed an input with a mask attached to it. However, this layer does not support masking and will therefore destroy the mask information. Downstream layers will not see the mask.\n",
      "  warnings.warn(\n",
      "/opt/conda/lib/python3.10/site-packages/keras/src/layers/layer.py:915: UserWarning: Layer 'residual_block_106' (of type ResidualBlock) was passed an input with a mask attached to it. However, this layer does not support masking and will therefore destroy the mask information. Downstream layers will not see the mask.\n",
      "  warnings.warn(\n",
      "/opt/conda/lib/python3.10/site-packages/keras/src/layers/layer.py:915: UserWarning: Layer 'ffn_43' (of type FFN) was passed an input with a mask attached to it. However, this layer does not support masking and will therefore destroy the mask information. Downstream layers will not see the mask.\n",
      "  warnings.warn(\n",
      "/opt/conda/lib/python3.10/site-packages/keras/src/layers/layer.py:915: UserWarning: Layer 'residual_block_107' (of type ResidualBlock) was passed an input with a mask attached to it. However, this layer does not support masking and will therefore destroy the mask information. Downstream layers will not see the mask.\n",
      "  warnings.warn(\n",
      "/opt/conda/lib/python3.10/site-packages/keras/src/layers/layer.py:915: UserWarning: Layer 'sub_layer2_43' (of type SubLayer2) was passed an input with a mask attached to it. However, this layer does not support masking and will therefore destroy the mask information. Downstream layers will not see the mask.\n",
      "  warnings.warn(\n",
      "/opt/conda/lib/python3.10/site-packages/keras/src/layers/layer.py:915: UserWarning: Layer 'multi_head_attention_64' (of type MultiHeadAttention) was passed an input with a mask attached to it. However, this layer does not support masking and will therefore destroy the mask information. Downstream layers will not see the mask.\n",
      "  warnings.warn(\n",
      "/opt/conda/lib/python3.10/site-packages/keras/src/layers/layer.py:915: UserWarning: Layer 'residual_block_108' (of type ResidualBlock) was passed an input with a mask attached to it. However, this layer does not support masking and will therefore destroy the mask information. Downstream layers will not see the mask.\n",
      "  warnings.warn(\n",
      "/opt/conda/lib/python3.10/site-packages/keras/src/layers/layer.py:915: UserWarning: Layer 'multi_head_attention_65' (of type MultiHeadAttention) was passed an input with a mask attached to it. However, this layer does not support masking and will therefore destroy the mask information. Downstream layers will not see the mask.\n",
      "  warnings.warn(\n",
      "/opt/conda/lib/python3.10/site-packages/keras/src/layers/layer.py:915: UserWarning: Layer 'residual_block_109' (of type ResidualBlock) was passed an input with a mask attached to it. However, this layer does not support masking and will therefore destroy the mask information. Downstream layers will not see the mask.\n",
      "  warnings.warn(\n",
      "/opt/conda/lib/python3.10/site-packages/keras/src/layers/layer.py:915: UserWarning: Layer 'ffn_44' (of type FFN) was passed an input with a mask attached to it. However, this layer does not support masking and will therefore destroy the mask information. Downstream layers will not see the mask.\n",
      "  warnings.warn(\n",
      "/opt/conda/lib/python3.10/site-packages/keras/src/layers/layer.py:915: UserWarning: Layer 'residual_block_110' (of type ResidualBlock) was passed an input with a mask attached to it. However, this layer does not support masking and will therefore destroy the mask information. Downstream layers will not see the mask.\n",
      "  warnings.warn(\n",
      "/opt/conda/lib/python3.10/site-packages/keras/src/layers/layer.py:915: UserWarning: Layer 'sub_layer2_44' (of type SubLayer2) was passed an input with a mask attached to it. However, this layer does not support masking and will therefore destroy the mask information. Downstream layers will not see the mask.\n",
      "  warnings.warn(\n",
      "/opt/conda/lib/python3.10/site-packages/keras/src/layers/layer.py:915: UserWarning: Layer 'multi_head_attention_66' (of type MultiHeadAttention) was passed an input with a mask attached to it. However, this layer does not support masking and will therefore destroy the mask information. Downstream layers will not see the mask.\n",
      "  warnings.warn(\n",
      "/opt/conda/lib/python3.10/site-packages/keras/src/layers/layer.py:915: UserWarning: Layer 'residual_block_111' (of type ResidualBlock) was passed an input with a mask attached to it. However, this layer does not support masking and will therefore destroy the mask information. Downstream layers will not see the mask.\n",
      "  warnings.warn(\n",
      "/opt/conda/lib/python3.10/site-packages/keras/src/layers/layer.py:915: UserWarning: Layer 'multi_head_attention_67' (of type MultiHeadAttention) was passed an input with a mask attached to it. However, this layer does not support masking and will therefore destroy the mask information. Downstream layers will not see the mask.\n",
      "  warnings.warn(\n",
      "/opt/conda/lib/python3.10/site-packages/keras/src/layers/layer.py:915: UserWarning: Layer 'residual_block_112' (of type ResidualBlock) was passed an input with a mask attached to it. However, this layer does not support masking and will therefore destroy the mask information. Downstream layers will not see the mask.\n",
      "  warnings.warn(\n",
      "/opt/conda/lib/python3.10/site-packages/keras/src/layers/layer.py:915: UserWarning: Layer 'ffn_45' (of type FFN) was passed an input with a mask attached to it. However, this layer does not support masking and will therefore destroy the mask information. Downstream layers will not see the mask.\n",
      "  warnings.warn(\n",
      "/opt/conda/lib/python3.10/site-packages/keras/src/layers/layer.py:915: UserWarning: Layer 'residual_block_113' (of type ResidualBlock) was passed an input with a mask attached to it. However, this layer does not support masking and will therefore destroy the mask information. Downstream layers will not see the mask.\n",
      "  warnings.warn(\n",
      "/opt/conda/lib/python3.10/site-packages/keras/src/layers/layer.py:915: UserWarning: Layer 'sub_layer2_45' (of type SubLayer2) was passed an input with a mask attached to it. However, this layer does not support masking and will therefore destroy the mask information. Downstream layers will not see the mask.\n",
      "  warnings.warn(\n",
      "/opt/conda/lib/python3.10/site-packages/keras/src/layers/layer.py:915: UserWarning: Layer 'multi_head_attention_68' (of type MultiHeadAttention) was passed an input with a mask attached to it. However, this layer does not support masking and will therefore destroy the mask information. Downstream layers will not see the mask.\n",
      "  warnings.warn(\n",
      "/opt/conda/lib/python3.10/site-packages/keras/src/layers/layer.py:915: UserWarning: Layer 'residual_block_114' (of type ResidualBlock) was passed an input with a mask attached to it. However, this layer does not support masking and will therefore destroy the mask information. Downstream layers will not see the mask.\n",
      "  warnings.warn(\n",
      "/opt/conda/lib/python3.10/site-packages/keras/src/layers/layer.py:915: UserWarning: Layer 'multi_head_attention_69' (of type MultiHeadAttention) was passed an input with a mask attached to it. However, this layer does not support masking and will therefore destroy the mask information. Downstream layers will not see the mask.\n",
      "  warnings.warn(\n",
      "/opt/conda/lib/python3.10/site-packages/keras/src/layers/layer.py:915: UserWarning: Layer 'residual_block_115' (of type ResidualBlock) was passed an input with a mask attached to it. However, this layer does not support masking and will therefore destroy the mask information. Downstream layers will not see the mask.\n",
      "  warnings.warn(\n",
      "/opt/conda/lib/python3.10/site-packages/keras/src/layers/layer.py:915: UserWarning: Layer 'ffn_46' (of type FFN) was passed an input with a mask attached to it. However, this layer does not support masking and will therefore destroy the mask information. Downstream layers will not see the mask.\n",
      "  warnings.warn(\n",
      "/opt/conda/lib/python3.10/site-packages/keras/src/layers/layer.py:915: UserWarning: Layer 'residual_block_116' (of type ResidualBlock) was passed an input with a mask attached to it. However, this layer does not support masking and will therefore destroy the mask information. Downstream layers will not see the mask.\n",
      "  warnings.warn(\n",
      "/opt/conda/lib/python3.10/site-packages/keras/src/layers/layer.py:915: UserWarning: Layer 'sub_layer2_46' (of type SubLayer2) was passed an input with a mask attached to it. However, this layer does not support masking and will therefore destroy the mask information. Downstream layers will not see the mask.\n",
      "  warnings.warn(\n",
      "/opt/conda/lib/python3.10/site-packages/keras/src/layers/layer.py:915: UserWarning: Layer 'multi_head_attention_70' (of type MultiHeadAttention) was passed an input with a mask attached to it. However, this layer does not support masking and will therefore destroy the mask information. Downstream layers will not see the mask.\n",
      "  warnings.warn(\n",
      "/opt/conda/lib/python3.10/site-packages/keras/src/layers/layer.py:915: UserWarning: Layer 'residual_block_117' (of type ResidualBlock) was passed an input with a mask attached to it. However, this layer does not support masking and will therefore destroy the mask information. Downstream layers will not see the mask.\n",
      "  warnings.warn(\n",
      "/opt/conda/lib/python3.10/site-packages/keras/src/layers/layer.py:915: UserWarning: Layer 'multi_head_attention_71' (of type MultiHeadAttention) was passed an input with a mask attached to it. However, this layer does not support masking and will therefore destroy the mask information. Downstream layers will not see the mask.\n",
      "  warnings.warn(\n",
      "/opt/conda/lib/python3.10/site-packages/keras/src/layers/layer.py:915: UserWarning: Layer 'residual_block_118' (of type ResidualBlock) was passed an input with a mask attached to it. However, this layer does not support masking and will therefore destroy the mask information. Downstream layers will not see the mask.\n",
      "  warnings.warn(\n",
      "/opt/conda/lib/python3.10/site-packages/keras/src/layers/layer.py:915: UserWarning: Layer 'ffn_47' (of type FFN) was passed an input with a mask attached to it. However, this layer does not support masking and will therefore destroy the mask information. Downstream layers will not see the mask.\n",
      "  warnings.warn(\n",
      "/opt/conda/lib/python3.10/site-packages/keras/src/layers/layer.py:915: UserWarning: Layer 'residual_block_119' (of type ResidualBlock) was passed an input with a mask attached to it. However, this layer does not support masking and will therefore destroy the mask information. Downstream layers will not see the mask.\n",
      "  warnings.warn(\n",
      "/opt/conda/lib/python3.10/site-packages/keras/src/layers/layer.py:915: UserWarning: Layer 'sub_layer2_47' (of type SubLayer2) was passed an input with a mask attached to it. However, this layer does not support masking and will therefore destroy the mask information. Downstream layers will not see the mask.\n",
      "  warnings.warn(\n",
      "/opt/conda/lib/python3.10/site-packages/keras/src/layers/layer.py:915: UserWarning: Layer 'decoder_3' (of type Decoder) was passed an input with a mask attached to it. However, this layer does not support masking and will therefore destroy the mask information. Downstream layers will not see the mask.\n",
      "  warnings.warn(\n"
     ]
    },
    {
     "name": "stdout",
     "output_type": "stream",
     "text": [
      "\u001b[1m1/1\u001b[0m \u001b[32m━━━━━━━━━━━━━━━━━━━━\u001b[0m\u001b[37m\u001b[0m \u001b[1m311s\u001b[0m 311s/step - loss: 221044.7188\n"
     ]
    },
    {
     "name": "stderr",
     "output_type": "stream",
     "text": [
      "/opt/conda/lib/python3.10/contextlib.py:153: UserWarning: Your input ran out of data; interrupting training. Make sure that your dataset or generator can generate at least `steps_per_epoch * epochs` batches. You may need to use the `.repeat()` function when building your dataset.\n",
      "  self.gen.throw(typ, value, traceback)\n"
     ]
    }
   ],
   "source": [
    "transformer = Transformer(N, d_model, h,dff,max_seq_len, vocab_size, p_drop)\n",
    "optimizer = tf.keras.optimizers.Adam(beta_1=.9,beta_2=.98,epsilon=10e-9, learning_rate=MyLRSchedule())\n",
    "transformer.compile(optimizer=optimizer,loss=loss_func)\n",
    "\n",
    "transformer.fit(train.take(1))\n",
    "# our best model (the 9th checkpoint)\n",
    "weights_path = \"/kaggle/input/transformer-notebook-practice/tensorflow2/default/1/model_e3_19044.422_.weights.h5\"\n",
    "transformer.load_weights(weights_path)\n",
    "# dont worry about warnings, masking has been taken care of "
   ]
  },
  {
   "cell_type": "code",
   "execution_count": 41,
   "id": "af6b9e56",
   "metadata": {
    "execution": {
     "iopub.execute_input": "2024-08-07T14:06:49.898132Z",
     "iopub.status.busy": "2024-08-07T14:06:49.897682Z",
     "iopub.status.idle": "2024-08-07T14:06:49.906444Z",
     "shell.execute_reply": "2024-08-07T14:06:49.905047Z"
    },
    "papermill": {
     "duration": 0.046709,
     "end_time": "2024-08-07T14:06:49.909124",
     "exception": false,
     "start_time": "2024-08-07T14:06:49.862415",
     "status": "completed"
    },
    "tags": []
   },
   "outputs": [
    {
     "data": {
      "text/plain": [
       "76924"
      ]
     },
     "execution_count": 41,
     "metadata": {},
     "output_type": "execute_result"
    }
   ],
   "source": [
    "transformer.optimizer.iterations.numpy()"
   ]
  },
  {
   "cell_type": "markdown",
   "id": "9a9253b5",
   "metadata": {
    "papermill": {
     "duration": 0.033534,
     "end_time": "2024-08-07T14:06:49.977040",
     "exception": false,
     "start_time": "2024-08-07T14:06:49.943506",
     "status": "completed"
    },
    "tags": []
   },
   "source": [
    "__Training example output__\n",
    "- Choose a pair of english and the correpsonding german translation."
   ]
  },
  {
   "cell_type": "code",
   "execution_count": 42,
   "id": "0b66ceef",
   "metadata": {
    "execution": {
     "iopub.execute_input": "2024-08-07T14:06:50.046679Z",
     "iopub.status.busy": "2024-08-07T14:06:50.046283Z",
     "iopub.status.idle": "2024-08-07T14:06:57.481544Z",
     "shell.execute_reply": "2024-08-07T14:06:57.480331Z"
    },
    "papermill": {
     "duration": 7.473296,
     "end_time": "2024-08-07T14:06:57.484506",
     "exception": false,
     "start_time": "2024-08-07T14:06:50.011210",
     "status": "completed"
    },
    "tags": []
   },
   "outputs": [
    {
     "name": "stdout",
     "output_type": "stream",
     "text": [
      "Input Sentence: &quot; The town of Go@@ sl@@ ar Awards him the prize &quot; Go@@ s@@ lar@@ er Mon@@ ch@@ eh@@ aus@@ -@@ Preis fuer Kunst und Umwelt &quot; 1981 , Germany .\n",
      "\n",
      "Output Sentence: &quot; ( Gold@@ me@@ da@@ ille der Schö@@ nen Kün@@ ste ) der spanischen Regierung . Die Stadt Go@@ sl@@ ar in Deutschland verleiht ihm den &quot; Mon@@ ch@@ eh@@ aus@@ -@@ Preis für Kunst und Umwelt &quot; .\n",
      "\n"
     ]
    }
   ],
   "source": [
    "sentence_idx = np.random.randint(4462251) # 4462251 sentences in the dataset\n",
    "root = \"/kaggle/input/transformer-en-de-nmt-wmt14-bpe/\"\n",
    "\n",
    "with open(root+\"train.tok.clean.bpe.32000.en\",mode=\"r\",encoding=\"utf8\") as f:\n",
    "    for i in range(sentence_idx):\n",
    "        test_sentence = f.readline()\n",
    "    print(\"Input Sentence:\",test_sentence)\n",
    "    \n",
    "with open(root+\"train.tok.clean.bpe.32000.de\",mode=\"r\",encoding=\"utf8\") as f:\n",
    "    for i in range(sentence_idx):\n",
    "        out = f.readline()\n",
    "    print(\"Output Sentence:\",out)"
   ]
  },
  {
   "cell_type": "markdown",
   "id": "b7193c64",
   "metadata": {
    "papermill": {
     "duration": 0.034209,
     "end_time": "2024-08-07T14:06:57.552772",
     "exception": false,
     "start_time": "2024-08-07T14:06:57.518563",
     "status": "completed"
    },
    "tags": []
   },
   "source": [
    "#### Preprocessing\n",
    "- preprocess input sentence to be translated."
   ]
  },
  {
   "cell_type": "code",
   "execution_count": 43,
   "id": "66301d9a",
   "metadata": {
    "execution": {
     "iopub.execute_input": "2024-08-07T14:06:57.622929Z",
     "iopub.status.busy": "2024-08-07T14:06:57.622186Z",
     "iopub.status.idle": "2024-08-07T14:06:57.661623Z",
     "shell.execute_reply": "2024-08-07T14:06:57.660440Z"
    },
    "papermill": {
     "duration": 0.078079,
     "end_time": "2024-08-07T14:06:57.664779",
     "exception": false,
     "start_time": "2024-08-07T14:06:57.586700",
     "status": "completed"
    },
    "tags": []
   },
   "outputs": [],
   "source": [
    "start = \"<StartOfSequence>\"\n",
    "end   = \"<EndOfSequence>\"\n",
    "\n",
    "test_sentence = tf.strings.split(tf.strings.join([start,test_sentence,end],separator=' '))\n",
    "test_sentence =  words_idx.lookup(test_sentence)\n"
   ]
  },
  {
   "cell_type": "code",
   "execution_count": 44,
   "id": "cdb835ab",
   "metadata": {
    "execution": {
     "iopub.execute_input": "2024-08-07T14:06:57.741322Z",
     "iopub.status.busy": "2024-08-07T14:06:57.740880Z",
     "iopub.status.idle": "2024-08-07T14:08:14.873447Z",
     "shell.execute_reply": "2024-08-07T14:08:14.872230Z"
    },
    "papermill": {
     "duration": 77.170969,
     "end_time": "2024-08-07T14:08:14.876553",
     "exception": false,
     "start_time": "2024-08-07T14:06:57.705584",
     "status": "completed"
    },
    "tags": []
   },
   "outputs": [],
   "source": [
    "### Get output\n",
    "text= \"<StartOfSequence>\"\n",
    "for i in range(max_seq_len):\n",
    "    # Get padded decoder input\n",
    "\n",
    "    dec_in = text\n",
    "    dec_in = tf.strings.split(tf.strings.join([dec_in],separator=' '))\n",
    "    dec_in =  words_idx.lookup(dec_in)\n",
    "    dec_in = tf.concat([dec_in, tf.zeros(max_seq_len-len(dec_in), dtype=\"int32\")],axis=0)\n",
    "\n",
    "\n",
    "    logit = transformer((test_sentence[None],dec_in[None]), training=False)\n",
    "\n",
    "    word = idx_words.lookup(tf.argmax(tf.nn.softmax(logit[0,i,1:]), output_type=\"int32\")+1).numpy().decode('utf-8')\n",
    "\n",
    "    text += \" \" + word\n",
    "    if word==end:\n",
    "        break\n",
    "  "
   ]
  },
  {
   "cell_type": "code",
   "execution_count": 45,
   "id": "d8a1aa77",
   "metadata": {
    "execution": {
     "iopub.execute_input": "2024-08-07T14:08:14.946754Z",
     "iopub.status.busy": "2024-08-07T14:08:14.946345Z",
     "iopub.status.idle": "2024-08-07T14:08:14.954128Z",
     "shell.execute_reply": "2024-08-07T14:08:14.952897Z"
    },
    "papermill": {
     "duration": 0.04516,
     "end_time": "2024-08-07T14:08:14.956429",
     "exception": false,
     "start_time": "2024-08-07T14:08:14.911269",
     "status": "completed"
    },
    "tags": []
   },
   "outputs": [
    {
     "data": {
      "text/plain": [
       "'Die &quot; Go@@ eth@@ e-@@ Go@@ -@@ Go@@ -@@ Go@@ -@@ Go@@ -@@ Go@@ -@@ Go@@ -@@ Go@@ -@@ Go@@ -@@ Go@@ -@@ Go@@ -@@ Go@@ -@@ Go@@ -@@ Go@@ -@@ Go@@ -@@ Go@@ -@@ Go@@ -@@ Go@@ -@@ Go@@ -@@ Go@@ -@@ Go@@ -@@ Go@@ -@@ Go@@ -@@ Go@@ -@@ Go@@ -@@ Go@@ -@@ Go@@ -@@ Go@@ -@@ Go@@ -@@ Go@@ -@@ Go@@'"
      ]
     },
     "execution_count": 45,
     "metadata": {},
     "output_type": "execute_result"
    }
   ],
   "source": [
    "german_prediction = text.replace(\"@@ \",\"\") # This is how rsennrich repo implements BPE tokenisation\n",
    "german_prediction = text.replace(\"<StartOfSequence> \",\"\").replace(\" <EndOfSequence>\",\"\")\n",
    "german_prediction"
   ]
  },
  {
   "cell_type": "markdown",
   "id": "78c38024",
   "metadata": {
    "papermill": {
     "duration": 0.033544,
     "end_time": "2024-08-07T14:08:15.024282",
     "exception": false,
     "start_time": "2024-08-07T14:08:14.990738",
     "status": "completed"
    },
    "tags": []
   },
   "source": [
    "## Test Loss"
   ]
  },
  {
   "cell_type": "code",
   "execution_count": 46,
   "id": "cf64b5eb",
   "metadata": {
    "execution": {
     "iopub.execute_input": "2024-08-07T14:08:15.094932Z",
     "iopub.status.busy": "2024-08-07T14:08:15.093974Z",
     "iopub.status.idle": "2024-08-07T14:15:50.186892Z",
     "shell.execute_reply": "2024-08-07T14:15:50.184930Z"
    },
    "papermill": {
     "duration": 455.132768,
     "end_time": "2024-08-07T14:15:50.191129",
     "exception": false,
     "start_time": "2024-08-07T14:08:15.058361",
     "status": "completed"
    },
    "tags": []
   },
   "outputs": [
    {
     "name": "stdout",
     "output_type": "stream",
     "text": [
      "\u001b[1m24/24\u001b[0m \u001b[32m━━━━━━━━━━━━━━━━━━━━\u001b[0m\u001b[37m\u001b[0m \u001b[1m455s\u001b[0m 19s/step - loss: 19518.3223\n"
     ]
    },
    {
     "data": {
      "text/plain": [
       "20679.69921875"
      ]
     },
     "execution_count": 46,
     "metadata": {},
     "output_type": "execute_result"
    }
   ],
   "source": [
    "transformer.evaluate(test) # again, don't worry about mask related warnings"
   ]
  },
  {
   "cell_type": "markdown",
   "id": "6081eec7",
   "metadata": {
    "papermill": {
     "duration": 0.043158,
     "end_time": "2024-08-07T14:15:50.279394",
     "exception": false,
     "start_time": "2024-08-07T14:15:50.236236",
     "status": "completed"
    },
    "tags": []
   },
   "source": [
    "## Comments\n",
    "- The model indeed trains and learns to predict, however the predictions can be better.\n",
    "- One way is to use beam search for predictions as used in the paper.\n",
    "- Another, I think more important thing is to consider the batch size. This is because a batch size determines the number of examples processed per step, and their effect on parameter update. Remember, the learning rate changes per step. Due to kaggle limitations, I could a use a maximum batch size of 128.\n",
    "- - Batch definitely effects the learning. When I tried, batch size of 16, the model performed significantly poorer. So higher seems to better.\n",
    "- - Also in section 5.1, it says, \"Each training batch contained a set of sentence pairs containing approximately 25000 source tokens and 25000 target tokens\"\n",
    "- - With our seq length of 64 and batch size of 128, even if we consider the padding tokens, we get 8192 tokens, which is 3 times lesser. We can't use higher batch sizes due to memory constraints.\n",
    "- - Maybe, modifying adjusting the schedule to account for 3 times lesser tokens than in the paper might help."
   ]
  },
  {
   "cell_type": "code",
   "execution_count": 47,
   "id": "f387d86a",
   "metadata": {
    "execution": {
     "iopub.execute_input": "2024-08-07T14:15:50.365917Z",
     "iopub.status.busy": "2024-08-07T14:15:50.365280Z",
     "iopub.status.idle": "2024-08-07T14:15:50.374825Z",
     "shell.execute_reply": "2024-08-07T14:15:50.373071Z"
    },
    "papermill": {
     "duration": 0.057456,
     "end_time": "2024-08-07T14:15:50.378794",
     "exception": false,
     "start_time": "2024-08-07T14:15:50.321338",
     "status": "completed"
    },
    "tags": []
   },
   "outputs": [
    {
     "data": {
      "text/plain": [
       "8192"
      ]
     },
     "execution_count": 47,
     "metadata": {},
     "output_type": "execute_result"
    }
   ],
   "source": [
    "128*64"
   ]
  },
  {
   "cell_type": "code",
   "execution_count": 48,
   "id": "43760cf3",
   "metadata": {
    "execution": {
     "iopub.execute_input": "2024-08-07T14:15:50.467337Z",
     "iopub.status.busy": "2024-08-07T14:15:50.466087Z",
     "iopub.status.idle": "2024-08-07T14:15:50.476425Z",
     "shell.execute_reply": "2024-08-07T14:15:50.474788Z"
    },
    "papermill": {
     "duration": 0.059023,
     "end_time": "2024-08-07T14:15:50.479555",
     "exception": false,
     "start_time": "2024-08-07T14:15:50.420532",
     "status": "completed"
    },
    "tags": []
   },
   "outputs": [
    {
     "data": {
      "text/plain": [
       "3.0517578125"
      ]
     },
     "execution_count": 48,
     "metadata": {},
     "output_type": "execute_result"
    }
   ],
   "source": [
    "25000/(128*64)"
   ]
  },
  {
   "cell_type": "markdown",
   "id": "58eea7e0",
   "metadata": {
    "papermill": {
     "duration": 0.043728,
     "end_time": "2024-08-07T14:15:50.563553",
     "exception": false,
     "start_time": "2024-08-07T14:15:50.519825",
     "status": "completed"
    },
    "tags": []
   },
   "source": [
    "__Plotting losses__\n",
    "- Plotting losses saved in _epoch_ folders."
   ]
  },
  {
   "cell_type": "code",
   "execution_count": 49,
   "id": "5f54f8db",
   "metadata": {
    "execution": {
     "iopub.execute_input": "2024-08-07T14:15:50.684922Z",
     "iopub.status.busy": "2024-08-07T14:15:50.684443Z",
     "iopub.status.idle": "2024-08-07T14:15:50.694361Z",
     "shell.execute_reply": "2024-08-07T14:15:50.692630Z"
    },
    "papermill": {
     "duration": 0.075905,
     "end_time": "2024-08-07T14:15:50.697531",
     "exception": false,
     "start_time": "2024-08-07T14:15:50.621626",
     "status": "completed"
    },
    "tags": []
   },
   "outputs": [
    {
     "data": {
      "text/plain": [
       "'\\ntrain_losses = []\\nval_losses = []\\npath_exp = \"/kaggle/working/exp2/\"\\nepochs = os.listdir(path_exp)\\nepochs.sort()\\nfor epoch in epochs:\\n    with open(\"/kaggle/working/exp2/\"+epoch+\"/train_loss.txt\") as f:\\n        epoch_losses = f.readlines()\\n        train_losses += epoch_losses\\n        \\n    with open(\"/kaggle/working/exp2/\"+epoch+\"/val_loss.txt\") as f:\\n        epoch_losses = f.readlines()\\n        val_losses += epoch_losses\\n'"
      ]
     },
     "execution_count": 49,
     "metadata": {},
     "output_type": "execute_result"
    }
   ],
   "source": [
    "\n",
    "\"\"\"\n",
    "train_losses = []\n",
    "val_losses = []\n",
    "path_exp = \"/kaggle/working/exp2/\"\n",
    "epochs = os.listdir(path_exp)\n",
    "epochs.sort()\n",
    "for epoch in epochs:\n",
    "    with open(\"/kaggle/working/exp2/\"+epoch+\"/train_loss.txt\") as f:\n",
    "        epoch_losses = f.readlines()\n",
    "        train_losses += epoch_losses\n",
    "        \n",
    "    with open(\"/kaggle/working/exp2/\"+epoch+\"/val_loss.txt\") as f:\n",
    "        epoch_losses = f.readlines()\n",
    "        val_losses += epoch_losses\n",
    "\"\"\""
   ]
  },
  {
   "cell_type": "code",
   "execution_count": 50,
   "id": "2da8721f",
   "metadata": {
    "execution": {
     "iopub.execute_input": "2024-08-07T14:15:50.799216Z",
     "iopub.status.busy": "2024-08-07T14:15:50.797828Z",
     "iopub.status.idle": "2024-08-07T14:15:50.809337Z",
     "shell.execute_reply": "2024-08-07T14:15:50.807913Z"
    },
    "papermill": {
     "duration": 0.064858,
     "end_time": "2024-08-07T14:15:50.813335",
     "exception": false,
     "start_time": "2024-08-07T14:15:50.748477",
     "status": "completed"
    },
    "tags": []
   },
   "outputs": [
    {
     "data": {
      "text/plain": [
       "\"\\nsteps = np.arange(1,len(val_losses)+1)*step_size\\nval_losses = [float(l.strip()) for l in val_losses]\\ntrain_losses = [float(l.strip()) for l in train_losses]\\n\\n# Plotting the losses\\nplt.figure(figsize=(10, 6))\\nplt.plot(steps, train_losses, label='Train Loss', marker='o')\\nplt.plot(steps, val_losses, label='Validation Loss', marker='o')\\n\\n# Adding title and labels\\nplt.title('Training and Validation Loss')\\nplt.xlabel('Steps')\\nplt.ylabel('Loss')\\n\\n# Adding legend\\nplt.legend()\\n\\n# Show the plot\\nplt.show()\\n\""
      ]
     },
     "execution_count": 50,
     "metadata": {},
     "output_type": "execute_result"
    }
   ],
   "source": [
    "\"\"\"\n",
    "steps = np.arange(1,len(val_losses)+1)*step_size\n",
    "val_losses = [float(l.strip()) for l in val_losses]\n",
    "train_losses = [float(l.strip()) for l in train_losses]\n",
    "\n",
    "# Plotting the losses\n",
    "plt.figure(figsize=(10, 6))\n",
    "plt.plot(steps, train_losses, label='Train Loss', marker='o')\n",
    "plt.plot(steps, val_losses, label='Validation Loss', marker='o')\n",
    "\n",
    "# Adding title and labels\n",
    "plt.title('Training and Validation Loss')\n",
    "plt.xlabel('Steps')\n",
    "plt.ylabel('Loss')\n",
    "\n",
    "# Adding legend\n",
    "plt.legend()\n",
    "\n",
    "# Show the plot\n",
    "plt.show()\n",
    "\"\"\""
   ]
  },
  {
   "cell_type": "code",
   "execution_count": null,
   "id": "b5772858",
   "metadata": {
    "papermill": {
     "duration": 0.0448,
     "end_time": "2024-08-07T14:15:50.906103",
     "exception": false,
     "start_time": "2024-08-07T14:15:50.861303",
     "status": "completed"
    },
    "tags": []
   },
   "outputs": [],
   "source": []
  }
 ],
 "metadata": {
  "kaggle": {
   "accelerator": "none",
   "dataSources": [
    {
     "datasetId": 5501699,
     "sourceId": 9114994,
     "sourceType": "datasetVersion"
    },
    {
     "isSourceIdPinned": true,
     "modelId": 100777,
     "modelInstanceId": 76073,
     "sourceId": 90743,
     "sourceType": "modelInstanceVersion"
    }
   ],
   "dockerImageVersionId": 30746,
   "isGpuEnabled": false,
   "isInternetEnabled": true,
   "language": "python",
   "sourceType": "notebook"
  },
  "kernelspec": {
   "display_name": "Python 3",
   "language": "python",
   "name": "python3"
  },
  "language_info": {
   "codemirror_mode": {
    "name": "ipython",
    "version": 3
   },
   "file_extension": ".py",
   "mimetype": "text/x-python",
   "name": "python",
   "nbconvert_exporter": "python",
   "pygments_lexer": "ipython3",
   "version": "3.10.13"
  },
  "papermill": {
   "default_parameters": {},
   "duration": 898.876092,
   "end_time": "2024-08-07T14:15:54.731559",
   "environment_variables": {},
   "exception": null,
   "input_path": "__notebook__.ipynb",
   "output_path": "__notebook__.ipynb",
   "parameters": {},
   "start_time": "2024-08-07T14:00:55.855467",
   "version": "2.5.0"
  }
 },
 "nbformat": 4,
 "nbformat_minor": 5
}
