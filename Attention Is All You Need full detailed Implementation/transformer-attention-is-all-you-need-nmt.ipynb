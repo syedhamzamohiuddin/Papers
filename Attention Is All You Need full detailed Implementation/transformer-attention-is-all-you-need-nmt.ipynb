{
 "cells": [
  {
   "cell_type": "markdown",
   "id": "6b1cd288",
   "metadata": {
    "papermill": {
     "duration": 0.027934,
     "end_time": "2024-08-06T17:47:01.338362",
     "exception": false,
     "start_time": "2024-08-06T17:47:01.310428",
     "status": "completed"
    },
    "tags": []
   },
   "source": [
    "# Attention Is All You Need"
   ]
  },
  {
   "cell_type": "markdown",
   "id": "d47de54a",
   "metadata": {
    "papermill": {
     "duration": 0.027041,
     "end_time": "2024-08-06T17:47:01.392708",
     "exception": false,
     "start_time": "2024-08-06T17:47:01.365667",
     "status": "completed"
    },
    "tags": []
   },
   "source": [
    "## Introduction\n",
    "In This notebook, we will implement the english to german model from the paper titled, \"Attention Is All You Need\" from scratch in TensorFlow. The structure is as follows:\n",
    "- Training Data\n",
    "- Validation Data\n",
    "- Test Data\n",
    "- Transformer Model\n",
    "- Loss\n",
    "- Learning rate schedule\n",
    "- Training\n",
    "- Metrics plot\n",
    "- Prediction example\n",
    "\n",
    "__Note__: Keep the paper, \"Attention Is All you Need\" open for referencing. I will referencing it throughout the notebook.\n",
    "- Important additional concepts covered: Three-way weight tying, Transformer Architecture, shared Byte-Pair BPE vocabulary."
   ]
  },
  {
   "cell_type": "code",
   "execution_count": 1,
   "id": "683f4b70",
   "metadata": {
    "execution": {
     "iopub.execute_input": "2024-08-06T17:47:01.449481Z",
     "iopub.status.busy": "2024-08-06T17:47:01.449039Z",
     "iopub.status.idle": "2024-08-06T17:47:16.524110Z",
     "shell.execute_reply": "2024-08-06T17:47:16.522982Z"
    },
    "papermill": {
     "duration": 15.106262,
     "end_time": "2024-08-06T17:47:16.527051",
     "exception": false,
     "start_time": "2024-08-06T17:47:01.420789",
     "status": "completed"
    },
    "tags": []
   },
   "outputs": [
    {
     "name": "stderr",
     "output_type": "stream",
     "text": [
      "2024-08-06 17:47:03.678598: E external/local_xla/xla/stream_executor/cuda/cuda_dnn.cc:9261] Unable to register cuDNN factory: Attempting to register factory for plugin cuDNN when one has already been registered\n",
      "2024-08-06 17:47:03.678750: E external/local_xla/xla/stream_executor/cuda/cuda_fft.cc:607] Unable to register cuFFT factory: Attempting to register factory for plugin cuFFT when one has already been registered\n",
      "2024-08-06 17:47:03.850260: E external/local_xla/xla/stream_executor/cuda/cuda_blas.cc:1515] Unable to register cuBLAS factory: Attempting to register factory for plugin cuBLAS when one has already been registered\n"
     ]
    }
   ],
   "source": [
    "from tensorflow.keras.layers import Layer, Dense, LayerNormalization, Embedding, Dropout, Softmax, Masking\n",
    "from tensorflow.keras.models import Model, Sequential\n",
    "import tensorflow as tf\n",
    "import numpy as np\n",
    "import re\n",
    "from tensorflow.keras.callbacks import Callback,ModelCheckpoint,CSVLogger,History\n",
    "import time\n",
    "import os"
   ]
  },
  {
   "cell_type": "code",
   "execution_count": 2,
   "id": "af2e8746",
   "metadata": {
    "execution": {
     "iopub.execute_input": "2024-08-06T17:47:16.583924Z",
     "iopub.status.busy": "2024-08-06T17:47:16.583230Z",
     "iopub.status.idle": "2024-08-06T17:47:16.588476Z",
     "shell.execute_reply": "2024-08-06T17:47:16.587356Z"
    },
    "papermill": {
     "duration": 0.036311,
     "end_time": "2024-08-06T17:47:16.591080",
     "exception": false,
     "start_time": "2024-08-06T17:47:16.554769",
     "status": "completed"
    },
    "tags": []
   },
   "outputs": [],
   "source": [
    "#!mkdir /kaggle/working/exp2/"
   ]
  },
  {
   "cell_type": "code",
   "execution_count": 3,
   "id": "b76ace7f",
   "metadata": {
    "execution": {
     "iopub.execute_input": "2024-08-06T17:47:16.647069Z",
     "iopub.status.busy": "2024-08-06T17:47:16.646619Z",
     "iopub.status.idle": "2024-08-06T17:47:16.659296Z",
     "shell.execute_reply": "2024-08-06T17:47:16.657961Z"
    },
    "papermill": {
     "duration": 0.043887,
     "end_time": "2024-08-06T17:47:16.661966",
     "exception": false,
     "start_time": "2024-08-06T17:47:16.618079",
     "status": "completed"
    },
    "tags": []
   },
   "outputs": [
    {
     "data": {
      "text/plain": [
       "[]"
      ]
     },
     "execution_count": 3,
     "metadata": {},
     "output_type": "execute_result"
    }
   ],
   "source": [
    "tf.config.list_physical_devices('GPU')"
   ]
  },
  {
   "cell_type": "markdown",
   "id": "de534589",
   "metadata": {
    "papermill": {
     "duration": 0.027157,
     "end_time": "2024-08-06T17:47:16.716491",
     "exception": false,
     "start_time": "2024-08-06T17:47:16.689334",
     "status": "completed"
    },
    "tags": []
   },
   "source": [
    "## Training Data \n",
    "### Background:\n",
    "- We are interested WMT 2014 English-German NMT task.\n",
    "- In the section 5 (Training) of the paper, it mentions:\n",
    "- - ~ 4.5 million sentence pairs\n",
    "- - Sentence were encoded using byte-pair encoding.\n",
    "- - Has shared source-target vocabulary.\n",
    "- - The vocabulary size is approx 37000.\n",
    "- - Sentence pairs were batched together by approximate sequence length. Each training\n",
    "batch contained a set of sentence pairs containing approximately 25000 source tokens and 25000\n",
    "target tokens.\n",
    "\n",
    "### Additional details\n",
    "- I have already provided the prepared training, validation, test data, as well as the vocabulary beforehand. So skip this, if not interested.\n",
    "- The following steps were done to get exact data as in the paper.\n",
    "- I will just briefly mention the details for generating the dataset and the vocabulary. If someone needs more detail, then please comment.\n",
    "- Firstly, download the data from [wmt14](https://www.statmt.org/wmt14/translation-task.html) under the section, 'Download', and the subsection 'parallel-data'. *Europarl v7*, *Common Crawl corpus*, and *News Commentry* options are chosen, and from those zip folders, the corresponding english and german files are used.\n",
    "- The dev and test set are also present below.\n",
    "- Next, just adapt the the [script](https://github.com/google/seq2seq/blob/master/bin/data/wmt16_en_de.sh) for wmt2014 and your platform and project structure. Very briefly, this script does the following:\n",
    "- - Dowloads the zipped training, validation, test data, extracts it, concatenate training data.\n",
    "- - Clones moses for data preprocessing. Convert between data formats.\n",
    "- - Tokenise data using moses script.\n",
    "- - Clean data using moses script.\n",
    "- - Create BPE vocab using the git [rsennrich/subword-nmt](https://github.com/rsennrich/subword-nmt.git).\n",
    "\n",
    "__Note:__ The above steps were to obtain exact data as in the paper. Like there are certain implementation details, like preprocessing, the exact way the BPE is generated (BPE algo is ran on the concatentation of english and german training files), etc. For an excellent comprehensive guide, refer to Andrej Karpathy's [excellent video on youtube](https://youtu.be/zduSFxRajkE?si=l5hKj74BB9Zby5gf). "
   ]
  },
  {
   "cell_type": "markdown",
   "id": "41411708",
   "metadata": {
    "papermill": {
     "duration": 0.027566,
     "end_time": "2024-08-06T17:47:16.771095",
     "exception": false,
     "start_time": "2024-08-06T17:47:16.743529",
     "status": "completed"
    },
    "tags": []
   },
   "source": [
    "#### Load Vocabulary"
   ]
  },
  {
   "cell_type": "code",
   "execution_count": 4,
   "id": "f1a57063",
   "metadata": {
    "execution": {
     "iopub.execute_input": "2024-08-06T17:47:16.827208Z",
     "iopub.status.busy": "2024-08-06T17:47:16.826732Z",
     "iopub.status.idle": "2024-08-06T17:47:16.927802Z",
     "shell.execute_reply": "2024-08-06T17:47:16.926622Z"
    },
    "papermill": {
     "duration": 0.131868,
     "end_time": "2024-08-06T17:47:16.930354",
     "exception": false,
     "start_time": "2024-08-06T17:47:16.798486",
     "status": "completed"
    },
    "tags": []
   },
   "outputs": [
    {
     "data": {
      "text/plain": [
       "36711"
      ]
     },
     "execution_count": 4,
     "metadata": {},
     "output_type": "execute_result"
    }
   ],
   "source": [
    "vocabulary = None\n",
    "pattern = r'\\n$'\n",
    "root = \"/kaggle/input/transformer-en-de-nmt-wmt14-bpe/\"\n",
    "with open(root+\"vocab.bpe.32000\", encoding='utf8') as h:\n",
    "    vocabulary = h.readlines()\n",
    "    vocabulary = list(map(lambda word:re.sub(pattern,'', word), vocabulary))\n",
    "len(vocabulary)\n",
    "\n",
    "special_tokens = ['<UNK>','<StartOfSequence>','<EndOfSequence>']\n",
    "total_vocab = vocabulary + special_tokens\n",
    "len(total_vocab)"
   ]
  },
  {
   "cell_type": "markdown",
   "id": "eb7e92ae",
   "metadata": {
    "papermill": {
     "duration": 0.026711,
     "end_time": "2024-08-06T17:47:16.984314",
     "exception": false,
     "start_time": "2024-08-06T17:47:16.957603",
     "status": "completed"
    },
    "tags": []
   },
   "source": [
    "#### Create a Dictionary Mapping for the vocabulary"
   ]
  },
  {
   "cell_type": "code",
   "execution_count": 5,
   "id": "dbac7d80",
   "metadata": {
    "execution": {
     "iopub.execute_input": "2024-08-06T17:47:17.040122Z",
     "iopub.status.busy": "2024-08-06T17:47:17.039684Z",
     "iopub.status.idle": "2024-08-06T17:47:17.093392Z",
     "shell.execute_reply": "2024-08-06T17:47:17.092266Z"
    },
    "papermill": {
     "duration": 0.085216,
     "end_time": "2024-08-06T17:47:17.096374",
     "exception": false,
     "start_time": "2024-08-06T17:47:17.011158",
     "status": "completed"
    },
    "tags": []
   },
   "outputs": [],
   "source": [
    "idx   = tf.range(1,len(total_vocab)+1) # start with 1, as 0 is for padding. Has total size of total_vocab\n",
    "words = total_vocab\n",
    "\n",
    "idx   = tf.constant(idx)\n",
    "words = tf.constant(words)\n",
    "\n",
    "words_idx_init = tf.lookup.KeyValueTensorInitializer(words, idx)\n",
    "words_idx = tf.lookup.StaticHashTable(words_idx_init,-1)\n",
    "\n",
    "idx_words_init = tf.lookup.KeyValueTensorInitializer(idx, words)\n",
    "idx_words = tf.lookup.StaticHashTable(idx_words_init,'<UNK>')"
   ]
  },
  {
   "cell_type": "code",
   "execution_count": 6,
   "id": "443ae807",
   "metadata": {
    "execution": {
     "iopub.execute_input": "2024-08-06T17:47:17.153111Z",
     "iopub.status.busy": "2024-08-06T17:47:17.152637Z",
     "iopub.status.idle": "2024-08-06T17:47:17.158131Z",
     "shell.execute_reply": "2024-08-06T17:47:17.157013Z"
    },
    "papermill": {
     "duration": 0.036577,
     "end_time": "2024-08-06T17:47:17.160481",
     "exception": false,
     "start_time": "2024-08-06T17:47:17.123904",
     "status": "completed"
    },
    "tags": []
   },
   "outputs": [],
   "source": [
    "max_seq_len = 64\n",
    "vocab_size = len(total_vocab)\n",
    "batch_size=128"
   ]
  },
  {
   "cell_type": "markdown",
   "id": "1957a9a0",
   "metadata": {
    "papermill": {
     "duration": 0.026952,
     "end_time": "2024-08-06T17:47:17.214594",
     "exception": false,
     "start_time": "2024-08-06T17:47:17.187642",
     "status": "completed"
    },
    "tags": []
   },
   "source": [
    "#### Data generator"
   ]
  },
  {
   "cell_type": "code",
   "execution_count": 7,
   "id": "b42cba97",
   "metadata": {
    "execution": {
     "iopub.execute_input": "2024-08-06T17:47:17.271446Z",
     "iopub.status.busy": "2024-08-06T17:47:17.271014Z",
     "iopub.status.idle": "2024-08-06T17:47:17.284671Z",
     "shell.execute_reply": "2024-08-06T17:47:17.283662Z"
    },
    "papermill": {
     "duration": 0.04494,
     "end_time": "2024-08-06T17:47:17.287446",
     "exception": false,
     "start_time": "2024-08-06T17:47:17.242506",
     "status": "completed"
    },
    "tags": []
   },
   "outputs": [],
   "source": [
    "# Training data preprocessing\n",
    "def preprocess_data(x,y):\n",
    "   \n",
    "    \n",
    "    # Preprocess features\n",
    "    \n",
    "    e,d=x\n",
    "    \n",
    "    # split sentence\n",
    "    e= tf.strings.split(tf.strings.join([start,e,end],separator=' ')) \n",
    "    \n",
    "    # tokenize (convert to numbers)\n",
    "    e = words_idx.lookup(e) \n",
    "    \n",
    "    # Truncate sequence\n",
    "    e = e[:max_seq_len] \n",
    "    \n",
    "    #padding\n",
    "    e = tf.concat([e, tf.zeros(max_seq_len-len(e), dtype=\"int32\")],axis=0) \n",
    "    \n",
    "    \n",
    "    # split sentence\n",
    "    d = tf.strings.split(tf.strings.join([start,d,end],separator=' ')) \n",
    "    \n",
    "    # tokenize\n",
    "    d = words_idx.lookup(d) \n",
    "    \n",
    "    # Keep upto max_seq_len token\n",
    "    d = d[:max_seq_len] \n",
    "    \n",
    "    # Padding\n",
    "    d = tf.concat([d, tf.zeros(max_seq_len-len(d), dtype=\"int32\")],axis=0) \n",
    "    x = (e,d)\n",
    "\n",
    "    # Preprocess labels\n",
    "    \n",
    "    y = tf.strings.split(tf.strings.join([y,end],separator=' '))\n",
    "    y = words_idx.lookup(y)\n",
    "    y = y[:max_seq_len]\n",
    "    y = tf.one_hot(y,len(total_vocab)+1)\n",
    "    \n",
    "    #padding\n",
    "    y = tf.concat([y, tf.zeros((max_seq_len-len(y),len(total_vocab)+1))],axis=0)\n",
    "    \n",
    "    \n",
    "    \n",
    "    return (x,y)"
   ]
  },
  {
   "cell_type": "code",
   "execution_count": 8,
   "id": "c488af0b",
   "metadata": {
    "execution": {
     "iopub.execute_input": "2024-08-06T17:47:17.343997Z",
     "iopub.status.busy": "2024-08-06T17:47:17.343615Z",
     "iopub.status.idle": "2024-08-06T17:47:17.840624Z",
     "shell.execute_reply": "2024-08-06T17:47:17.839468Z"
    },
    "papermill": {
     "duration": 0.528361,
     "end_time": "2024-08-06T17:47:17.843386",
     "exception": false,
     "start_time": "2024-08-06T17:47:17.315025",
     "status": "completed"
    },
    "tags": []
   },
   "outputs": [],
   "source": [
    "start = \"<StartOfSequence>\"\n",
    "end   = \"<EndOfSequence>\"\n",
    "\n",
    "\n",
    "# Dataset object for reading source english corpus (Encoder input)\n",
    "dataset_en_train = tf.data.TextLineDataset(root+\"train.tok.clean.bpe.32000.en\")\n",
    "\n",
    "\n",
    "# Dataset object for reading target german corpus (Decoder Input)\n",
    "dataset_de_train = tf.data.TextLineDataset(root+\"train.tok.clean.bpe.32000.de\")\n",
    "\n",
    "# Zipping the the features sources\n",
    "train_X = tf.data.Dataset.zip((dataset_en_train,dataset_de_train))\n",
    "\n",
    "# Dataset object for reading target german corpus (Label)\n",
    "dataset_label_train = tf.data.TextLineDataset(root+\"train.tok.clean.bpe.32000.de\")\n",
    "\n",
    "# Zipping features and labels\n",
    "train = tf.data.Dataset.zip((train_X,dataset_label_train))\n",
    "\n",
    "# Shuffle\n",
    "train=train.shuffle(4700000)# 4462251 sentences in the dataset\n",
    "\n",
    "# Apply Preprocessing\n",
    "train=train.map(preprocess_data)\n",
    "\n",
    "# Batching\n",
    "train=train.batch(128)\n",
    "train = train.prefetch(2)"
   ]
  },
  {
   "cell_type": "markdown",
   "id": "7bcabfc5",
   "metadata": {
    "papermill": {
     "duration": 0.031027,
     "end_time": "2024-08-06T17:47:17.901909",
     "exception": false,
     "start_time": "2024-08-06T17:47:17.870882",
     "status": "completed"
    },
    "tags": []
   },
   "source": [
    "## Validation Data\n",
    "#### Data generator"
   ]
  },
  {
   "cell_type": "code",
   "execution_count": 9,
   "id": "56540655",
   "metadata": {
    "execution": {
     "iopub.execute_input": "2024-08-06T17:47:17.976705Z",
     "iopub.status.busy": "2024-08-06T17:47:17.976310Z",
     "iopub.status.idle": "2024-08-06T17:47:18.287268Z",
     "shell.execute_reply": "2024-08-06T17:47:18.285999Z"
    },
    "papermill": {
     "duration": 0.351871,
     "end_time": "2024-08-06T17:47:18.290100",
     "exception": false,
     "start_time": "2024-08-06T17:47:17.938229",
     "status": "completed"
    },
    "tags": []
   },
   "outputs": [],
   "source": [
    "start = \"<StartOfSequence>\"\n",
    "end   = \"<EndOfSequence>\"\n",
    "\n",
    "\n",
    "# Dataset object for reading source english corpus\n",
    "dataset_en_val = tf.data.TextLineDataset([root+\"newstest2012.tok.clean.bpe.32000.en\",root+\"newstest2013.tok.clean.bpe.32000.en\" ])\n",
    "dataset_en_val = dataset_en_val.map(lambda x: tf.strings.split(tf.strings.join([start,x,end],separator=' ')))\n",
    "dataset_en_val = dataset_en_val.map(lambda x: words_idx.lookup(x))\n",
    "dataset_en_val = dataset_en_val.map(lambda x: x[:max_seq_len])\n",
    "dataset_en_val = dataset_en_val.padded_batch(batch_size,max_seq_len)\n",
    "\n",
    "# Dataset object for reading target german corpus\n",
    "dataset_de_val = tf.data.TextLineDataset([root+\"newstest2012.tok.clean.bpe.32000.de\",root+\"newstest2013.tok.clean.bpe.32000.de\" ])\n",
    "dataset_de_val = dataset_de_val.map(lambda x: tf.strings.split(tf.strings.join([start,x,end],separator=' ')))\n",
    "dataset_de_val = dataset_de_val.map(lambda x: words_idx.lookup(x))\n",
    "dataset_de_val = dataset_de_val.map(lambda x: x[:max_seq_len])\n",
    "dataset_de_val = dataset_de_val.padded_batch(batch_size,max_seq_len)\n",
    "\n",
    "\n",
    "val_X = tf.data.Dataset.zip((dataset_en_val,dataset_de_val))"
   ]
  },
  {
   "cell_type": "code",
   "execution_count": 10,
   "id": "8d5f5ae1",
   "metadata": {
    "execution": {
     "iopub.execute_input": "2024-08-06T17:47:18.347076Z",
     "iopub.status.busy": "2024-08-06T17:47:18.346200Z",
     "iopub.status.idle": "2024-08-06T17:47:18.528947Z",
     "shell.execute_reply": "2024-08-06T17:47:18.527839Z"
    },
    "papermill": {
     "duration": 0.214479,
     "end_time": "2024-08-06T17:47:18.532103",
     "exception": false,
     "start_time": "2024-08-06T17:47:18.317624",
     "status": "completed"
    },
    "tags": []
   },
   "outputs": [],
   "source": [
    "# Dataset object for reading target german corpus\n",
    "dataset_label_val = tf.data.TextLineDataset([root+\"newstest2012.tok.clean.bpe.32000.de\",root+\"newstest2013.tok.clean.bpe.32000.de\" ])\n",
    "dataset_label_val = dataset_label_val.map(lambda x: tf.strings.split(tf.strings.join([x,end],separator=' ')))\n",
    "dataset_label_val = dataset_label_val.map(lambda x: words_idx.lookup(x))\n",
    "dataset_label_val = dataset_label_val.map(lambda x: x[:max_seq_len]) # -1 because the label doesn't have the start token. I undid this\n",
    "dataset_label_val = dataset_label_val.map(lambda x: tf.one_hot(x,len(total_vocab)+1)) #  +1 because idx ranges from idx 1 to idx len(total_vocab), but one shot always have index zero to len(total_vocab)\n",
    "dataset_label_val = dataset_label_val.padded_batch(batch_size,(max_seq_len,len(total_vocab)+1))"
   ]
  },
  {
   "cell_type": "code",
   "execution_count": 11,
   "id": "02ab01a4",
   "metadata": {
    "execution": {
     "iopub.execute_input": "2024-08-06T17:47:18.588856Z",
     "iopub.status.busy": "2024-08-06T17:47:18.588396Z",
     "iopub.status.idle": "2024-08-06T17:47:18.595361Z",
     "shell.execute_reply": "2024-08-06T17:47:18.594319Z"
    },
    "papermill": {
     "duration": 0.038172,
     "end_time": "2024-08-06T17:47:18.597877",
     "exception": false,
     "start_time": "2024-08-06T17:47:18.559705",
     "status": "completed"
    },
    "tags": []
   },
   "outputs": [],
   "source": [
    "val = tf.data.Dataset.zip((val_X,dataset_label_val))"
   ]
  },
  {
   "cell_type": "markdown",
   "id": "a8c39492",
   "metadata": {
    "papermill": {
     "duration": 0.026705,
     "end_time": "2024-08-06T17:47:18.651667",
     "exception": false,
     "start_time": "2024-08-06T17:47:18.624962",
     "status": "completed"
    },
    "tags": []
   },
   "source": [
    "## Test Data\n",
    "#### Data Generator"
   ]
  },
  {
   "cell_type": "code",
   "execution_count": 12,
   "id": "e43fbb32",
   "metadata": {
    "execution": {
     "iopub.execute_input": "2024-08-06T17:47:18.767707Z",
     "iopub.status.busy": "2024-08-06T17:47:18.767312Z",
     "iopub.status.idle": "2024-08-06T17:47:18.944731Z",
     "shell.execute_reply": "2024-08-06T17:47:18.943534Z"
    },
    "papermill": {
     "duration": 0.210212,
     "end_time": "2024-08-06T17:47:18.948099",
     "exception": false,
     "start_time": "2024-08-06T17:47:18.737887",
     "status": "completed"
    },
    "tags": []
   },
   "outputs": [],
   "source": [
    "start = \"<StartOfSequence>\"\n",
    "end   = \"<EndOfSequence>\"\n",
    "\n",
    "\n",
    "# Dataset object for reading source english corpus\n",
    "dataset_en_test = tf.data.TextLineDataset([root+\"newstest2014.tok.clean.bpe.32000.en\",])\n",
    "dataset_en_test = dataset_en_test.map(lambda x: tf.strings.split(tf.strings.join([start,x,end],separator=' ')))\n",
    "dataset_en_test = dataset_en_test.map(lambda x: words_idx.lookup(x))\n",
    "dataset_en_test = dataset_en_test.map(lambda x: x[:max_seq_len])\n",
    "dataset_en_test = dataset_en_test.padded_batch(batch_size,max_seq_len)\n",
    "\n",
    "# Dataset object for reading target german corpus\n",
    "dataset_de_test = tf.data.TextLineDataset([root+\"newstest2014.tok.clean.bpe.32000.de\"])\n",
    "dataset_de_test = dataset_de_test.map(lambda x: tf.strings.split(tf.strings.join([start,x,end],separator=' ')))\n",
    "dataset_de_test = dataset_de_test.map(lambda x: words_idx.lookup(x))\n",
    "dataset_de_test = dataset_de_test.map(lambda x: x[:max_seq_len])\n",
    "dataset_de_test = dataset_de_test.padded_batch(batch_size,max_seq_len)\n",
    "\n",
    "\n",
    "test_X = tf.data.Dataset.zip((dataset_en_test,dataset_de_test))"
   ]
  },
  {
   "cell_type": "code",
   "execution_count": 13,
   "id": "d1c67896",
   "metadata": {
    "execution": {
     "iopub.execute_input": "2024-08-06T17:47:19.005207Z",
     "iopub.status.busy": "2024-08-06T17:47:19.004759Z",
     "iopub.status.idle": "2024-08-06T17:47:19.106811Z",
     "shell.execute_reply": "2024-08-06T17:47:19.105445Z"
    },
    "papermill": {
     "duration": 0.133719,
     "end_time": "2024-08-06T17:47:19.109768",
     "exception": false,
     "start_time": "2024-08-06T17:47:18.976049",
     "status": "completed"
    },
    "tags": []
   },
   "outputs": [],
   "source": [
    "# Dataset object for reading target german corpus\n",
    "dataset_label_test = tf.data.TextLineDataset([root+\"newstest2014.tok.clean.bpe.32000.de\"])\n",
    "dataset_label_test = dataset_label_test.map(lambda x: tf.strings.split(tf.strings.join([x,end],separator=' ')))\n",
    "dataset_label_test = dataset_label_test.map(lambda x: words_idx.lookup(x))\n",
    "dataset_label_test = dataset_label_test.map(lambda x: x[:max_seq_len]) # -1 because the label doesn't have the start token. I undid this\n",
    "dataset_label_test = dataset_label_test.map(lambda x: tf.one_hot(x,len(total_vocab)+1)) #  +1 because idx ranges from idx 1 to idx len(total_vocab), but one shot always have index zero to len(total_vocab)\n",
    "dataset_label_test = dataset_label_test.padded_batch(batch_size,(max_seq_len,len(total_vocab)+1))"
   ]
  },
  {
   "cell_type": "code",
   "execution_count": 14,
   "id": "bb4aef2c",
   "metadata": {
    "execution": {
     "iopub.execute_input": "2024-08-06T17:47:19.166833Z",
     "iopub.status.busy": "2024-08-06T17:47:19.166407Z",
     "iopub.status.idle": "2024-08-06T17:47:19.173025Z",
     "shell.execute_reply": "2024-08-06T17:47:19.171946Z"
    },
    "papermill": {
     "duration": 0.038198,
     "end_time": "2024-08-06T17:47:19.175593",
     "exception": false,
     "start_time": "2024-08-06T17:47:19.137395",
     "status": "completed"
    },
    "tags": []
   },
   "outputs": [],
   "source": [
    "test = tf.data.Dataset.zip((test_X,dataset_label_test))"
   ]
  },
  {
   "cell_type": "code",
   "execution_count": null,
   "id": "5a3f21e0",
   "metadata": {
    "papermill": {
     "duration": 0.026893,
     "end_time": "2024-08-06T17:47:19.230096",
     "exception": false,
     "start_time": "2024-08-06T17:47:19.203203",
     "status": "completed"
    },
    "tags": []
   },
   "outputs": [],
   "source": []
  },
  {
   "cell_type": "markdown",
   "id": "1b22dba5",
   "metadata": {
    "papermill": {
     "duration": 0.026954,
     "end_time": "2024-08-06T17:47:19.284540",
     "exception": false,
     "start_time": "2024-08-06T17:47:19.257586",
     "status": "completed"
    },
    "tags": []
   },
   "source": [
    "## The Transformer Model"
   ]
  },
  {
   "cell_type": "markdown",
   "id": "eaa9f49c",
   "metadata": {
    "papermill": {
     "duration": 0.02692,
     "end_time": "2024-08-06T17:47:19.338830",
     "exception": false,
     "start_time": "2024-08-06T17:47:19.311910",
     "status": "completed"
    },
    "tags": []
   },
   "source": [
    "We will be implementing the *base* model.\n",
    "In table 3 of the paper, in first row, the hyper parameters for the base model are mentioned. We have defined these hyperparameters below as is."
   ]
  },
  {
   "cell_type": "code",
   "execution_count": 15,
   "id": "5ad6daf1",
   "metadata": {
    "execution": {
     "iopub.execute_input": "2024-08-06T17:47:19.395441Z",
     "iopub.status.busy": "2024-08-06T17:47:19.395015Z",
     "iopub.status.idle": "2024-08-06T17:47:19.400433Z",
     "shell.execute_reply": "2024-08-06T17:47:19.399312Z"
    },
    "papermill": {
     "duration": 0.036722,
     "end_time": "2024-08-06T17:47:19.402840",
     "exception": false,
     "start_time": "2024-08-06T17:47:19.366118",
     "status": "completed"
    },
    "tags": []
   },
   "outputs": [],
   "source": [
    "d_model = 512 # \n",
    "N = 6 # Number of stacks of Encoders and decoders\n",
    "h = 8 # parallel attention layers\n",
    "p_drop = 0.1\n",
    "dff=2048 # first layer of the FFN"
   ]
  },
  {
   "attachments": {
    "2f172f7f-9618-4fd7-83a2-0aebb44b8fc4.png": {
     "image/png": "[encoded data removed]"
    }
   },
   "cell_type": "markdown",
   "id": "c72f00e3",
   "metadata": {
    "papermill": {
     "duration": 0.027051,
     "end_time": "2024-08-06T17:47:19.457064",
     "exception": false,
     "start_time": "2024-08-06T17:47:19.430013",
     "status": "completed"
    },
    "tags": []
   },
   "source": [
    "### Scaled Dot-Product Attention\n",
    "- The details are mentioned in the Figure 2, section 3.2.1, 3.2.3 of the paper.\n",
    "- I will particularly focus on handling illegal connections and padding.\n",
    "- I will refer to the image below for the following discussion. $Q$ and $K$ are matrix,$Q$ and $K$ with subscripts are individual queries and entries. Subscript $p$ corresponds to padding token in the matrices $Q$ and $K$.\n",
    "\n",
    "![dot.png](attachment:2f172f7f-9618-4fd7-83a2-0aebb44b8fc4.png)\n",
    "- Matrix $Q$ and $K$ contain queries and keys respectively.\n",
    "- Each entry of the $Q.K^T$ (Attention matrix) is a dot product between a single query and a key vector.\n",
    "- Each row of the attention matrix represents the attentions a query pays to all the keys. First rows refers to the attention the first query pays to each key.\n",
    "- Since queries and keys will be padded, we have to somehow determine the illegal attentions which must be ignored. Here, illegal attentions are the ones involving padding tokens (In red in the above figure). These connections can be determined using the boolean padding masks of $Q$ and $K$.\n",
    "- In the figure below, we can see how matrix multiplication between masks can be used to determine illegal connections. 1s represent valid attentions.\n",
    "- __Note:__ We cant just do element-wise multiplication between attention matrix and this mask to zero out illegal attentions, because zero values become non-zero when softmax is applied, which results in query paying attention to illegal connections and therefore illegal padding tokens/values. The paper deals with this (in section 3.2.3) by making these illegal attentions $-\\infty$ because it becomes zero after the application of softmax. This what we have done.\n"
   ]
  },
  {
   "attachments": {
    "464200aa-1d0e-4975-b4c2-fdb7872d8f2f.png": {
     "image/png": "[encoded data removed]"
    },
    "64e3222d-0cc6-4667-8dfb-403c41b62333.png": {
     "image/png": "[encoded data removed]"
    }
   },
   "cell_type": "markdown",
   "id": "9bc7349d",
   "metadata": {
    "papermill": {
     "duration": 0.02706,
     "end_time": "2024-08-06T17:47:19.511639",
     "exception": false,
     "start_time": "2024-08-06T17:47:19.484579",
     "status": "completed"
    },
    "tags": []
   },
   "source": [
    "![dot_mask.png](attachment:464200aa-1d0e-4975-b4c2-fdb7872d8f2f.png)\n",
    "\n",
    "- This layer also needs to handle another mask that arise in the decoder. First, a quick background. This layer is used in self-attention, as well as cross-attention. In self-attention,Q,K,V are same, and the purpose is to determine how much each query in a sequence of queries (Q matrix) pays attention to other queries in the same sequence. In cross-attention, the purpose is to determine, how much attention does the decoder's query pay to each of the tokens in a sequence produced by the encoder.\n",
    "- Remember, the decoding happens in a autregressive manner, one prediction at time, given the encoder's output and previous prediction upto time step $t-1$, where $t$ is the current time step. So during training, we have to maintain this autoregressive property. When predicting the $i^{th}$ output, which is the same as the (i+1) decoder input, the network mustn't see (i+1)th decoder's input as it will just trivially predict (i+1)th input value. This is enforced as follows.\n",
    "- In decoder's self attention block, during training, we mask these new illegal attention using the new mask matrix. For a sequence of length seven, this is 7 by 7 matrix with entries above the diagonal being zero. Again this mask is not directly applied to the attention matrix due to softmax issues, but is used in a similar manner to the handling of illegal connections due to padding. The following figure details this:\n",
    "\n",
    "![autoreg.png](attachment:64e3222d-0cc6-4667-8dfb-403c41b62333.png)\n",
    "- The red triangle is the illegal connections.\n",
    "- We create a constant mask as mentioned above. (you'll see this in the Decoder layer below)\n",
    "- Finally, this autoregressive mask is combines with the padding mask to remove all illegal connections."
   ]
  },
  {
   "cell_type": "code",
   "execution_count": 16,
   "id": "71e29fd6",
   "metadata": {
    "execution": {
     "iopub.execute_input": "2024-08-06T17:47:19.569143Z",
     "iopub.status.busy": "2024-08-06T17:47:19.568755Z",
     "iopub.status.idle": "2024-08-06T17:47:19.580669Z",
     "shell.execute_reply": "2024-08-06T17:47:19.579460Z"
    },
    "papermill": {
     "duration": 0.043279,
     "end_time": "2024-08-06T17:47:19.582983",
     "exception": false,
     "start_time": "2024-08-06T17:47:19.539704",
     "status": "completed"
    },
    "tags": []
   },
   "outputs": [],
   "source": [
    "class ScaledDotProductAttention(Layer):\n",
    "    def __init__(self,d_model, num_heads, **kwargs):\n",
    "        super(ScaledDotProductAttention, self).__init__(**kwargs)\n",
    "        self.supports_masking = True\n",
    "        self.scaling_factor = tf.sqrt(d_model/num_heads)\n",
    "\n",
    "   \n",
    "        \n",
    "    def call(self, Q,K,V, causal_mask=None, mask=None): \n",
    "        \n",
    "    \n",
    "        key_mask = K._keras_mask\n",
    "        out = tf.matmul(Q,K, transpose_b=True) # matmul   \n",
    "        out = tf.divide(out,self.scaling_factor) # scaling\n",
    "\n",
    "       \n",
    "        total_mask = None\n",
    "        # Padding mask will never be none due to embedding layer always passing it  the mask\n",
    "        mask_Q_num = tf.cast(mask, \"float32\")\n",
    "        mask_K_num = tf.cast(key_mask, \"float32\")\n",
    "        mask_QK = tf.matmul(mask_Q_num[...,None],mask_K_num[:,None])\n",
    "        # Mask with illegal connections due to padding. Here, illegal connections are set True value\n",
    "        illegal_padding_mask = tf.logical_not( tf.cast(mask_QK, dtype=tf.bool) )\n",
    "        total_mask = illegal_padding_mask\n",
    "         \n",
    "    \n",
    "\n",
    "          \n",
    "        if causal_mask is not None: # this is bool mask with illegal connections set to True\n",
    "            total_mask = tf.logical_or(causal_mask[None],total_mask)\n",
    "\n",
    "        # Setting the illegal connections in the total mask to -infty to make them zero in the softmax computation\n",
    "        out += tf.cast(total_mask, tf.float32) * tf.float32.min\n",
    "\n",
    "        out = tf.nn.softmax(out,axis=-1)\n",
    "        out = out * mask_Q_num[..., None]\n",
    "        #print(out)\n",
    "        \n",
    "        \n",
    "        out = tf.matmul(out,V)\n",
    "        return out\n",
    "            \n",
    "            "
   ]
  },
  {
   "cell_type": "markdown",
   "id": "381b9770",
   "metadata": {
    "papermill": {
     "duration": 0.02696,
     "end_time": "2024-08-06T17:47:19.637078",
     "exception": false,
     "start_time": "2024-08-06T17:47:19.610118",
     "status": "completed"
    },
    "tags": []
   },
   "source": [
    "### Multi-Head Attention\n",
    "- Refer to fig 2 and section 3.2.2 for details.\n",
    "- This layer creates _h_ linear projections for Q, K, and V. Or _h_ dense layers for each (without bias term)\n",
    "- Each linear projection projects the _d\\_model_ (512 in this case) dimensional tokens in Q,K,and V to _d\\_model/h_ dimensional tokens.\n",
    "- Then it performs _h_ Scaled Dot-product Attention calculations on _h_ tuples of lower dimensional projections of Q, K, and V.\n",
    "- Then it contenates the _h_ outputs, and performs a final linear operation."
   ]
  },
  {
   "cell_type": "code",
   "execution_count": 17,
   "id": "8dded164",
   "metadata": {
    "execution": {
     "iopub.execute_input": "2024-08-06T17:47:19.693632Z",
     "iopub.status.busy": "2024-08-06T17:47:19.693213Z",
     "iopub.status.idle": "2024-08-06T17:47:19.706728Z",
     "shell.execute_reply": "2024-08-06T17:47:19.705596Z"
    },
    "papermill": {
     "duration": 0.044685,
     "end_time": "2024-08-06T17:47:19.709294",
     "exception": false,
     "start_time": "2024-08-06T17:47:19.664609",
     "status": "completed"
    },
    "tags": []
   },
   "outputs": [],
   "source": [
    "class MultiHeadAttention(Layer):\n",
    "\n",
    "    \"\"\"\n",
    "    Notes: queries, keys, and values will be projected to learned linear projections of \n",
    "    dimension d_k, d_k, d_v\n",
    "    \"\"\"\n",
    "    \n",
    "    def __init__(self,d_model, num_heads, **kwargs):\n",
    "        super(MultiHeadAttention, self).__init__( **kwargs)\n",
    "\n",
    "        \n",
    "\n",
    "        \n",
    "        self.num_heads= num_heads\n",
    "        self.scaledDotProductAttention = ScaledDotProductAttention(d_model, num_heads)\n",
    "        \n",
    "        self.W_Qs = []       # List of Query Weights matrices\n",
    "        self.W_Ks = []       # List of Key Weights matrices\n",
    "        self.W_Vs = []       # List of Values Weights matrices\n",
    "        \n",
    "        d_k = int(d_model/num_heads) # Projected key dimension\n",
    "        d_v = d_k                    # Projected value dimension\n",
    "        \n",
    "        for i in range(num_heads): \n",
    "            self.W_Qs.append(Dense(units = d_k, use_bias=False))\n",
    "            self.W_Ks.append(Dense(units = d_k, use_bias=False))\n",
    "            self.W_Vs.append(Dense(units = d_v, use_bias=False))\n",
    "\n",
    "        self.W_O =  Dense(units = d_model, use_bias=False) \n",
    "\n",
    "    def call(self, Q,K,V, causal_mask=None):\n",
    "        attentionHeads = []\n",
    "        for i in range(self.num_heads):\n",
    "\n",
    "            # Project Querys, Keys and Values\n",
    "            Q_i = self.W_Qs[i](Q) # Queries' Projection for the ith head\n",
    "            K_i = self.W_Ks[i](K) # Keys' Projection for the ith head\n",
    "            V_i = self.W_Vs[i](V) # Values' Projection for the ith head\n",
    "            \n",
    "\n",
    "            attentionHeads.append(self.scaledDotProductAttention(Q_i,K_i,V_i,causal_mask,mask=Q_i._keras_mask))\n",
    "\n",
    "        # Concatenate all the attention heads on the last (feature) axis\n",
    "        concat_heads = tf.concat(attentionHeads,axis=-1)\n",
    "\n",
    "        # Final linear layer\n",
    "        return self.W_O(concat_heads)\n",
    "\n"
   ]
  },
  {
   "cell_type": "markdown",
   "id": "44540dbe",
   "metadata": {
    "papermill": {
     "duration": 0.027032,
     "end_time": "2024-08-06T17:47:19.763650",
     "exception": false,
     "start_time": "2024-08-06T17:47:19.736618",
     "status": "completed"
    },
    "tags": []
   },
   "source": [
    "### FFN\n",
    "- Refer to section 3.3 of the paper."
   ]
  },
  {
   "cell_type": "code",
   "execution_count": 18,
   "id": "806afb5a",
   "metadata": {
    "execution": {
     "iopub.execute_input": "2024-08-06T17:47:19.821188Z",
     "iopub.status.busy": "2024-08-06T17:47:19.820749Z",
     "iopub.status.idle": "2024-08-06T17:47:19.827683Z",
     "shell.execute_reply": "2024-08-06T17:47:19.826583Z"
    },
    "papermill": {
     "duration": 0.037733,
     "end_time": "2024-08-06T17:47:19.830084",
     "exception": false,
     "start_time": "2024-08-06T17:47:19.792351",
     "status": "completed"
    },
    "tags": []
   },
   "outputs": [],
   "source": [
    "class FFN(Layer):\n",
    "    \n",
    "    def __init__(self,dff, **kwargs):\n",
    "        super(FFN, self).__init__()\n",
    "        self.dense1 =  Dense(units=dff, activation='relu')\n",
    "        self.dense2 =  Dense(units = d_model)\n",
    "\n",
    "    \n",
    "    def call(self, inputs):\n",
    "        x = self.dense1(inputs)\n",
    "        x = self.dense2(x)\n",
    "        return x"
   ]
  },
  {
   "cell_type": "markdown",
   "id": "90381a09",
   "metadata": {
    "papermill": {
     "duration": 0.027174,
     "end_time": "2024-08-06T17:47:19.884661",
     "exception": false,
     "start_time": "2024-08-06T17:47:19.857487",
     "status": "completed"
    },
    "tags": []
   },
   "source": [
    "### Residual/Skip connections + Layer Norm\n",
    "- Refer to Fig 1 and 3.1."
   ]
  },
  {
   "cell_type": "code",
   "execution_count": 19,
   "id": "ee4aab12",
   "metadata": {
    "execution": {
     "iopub.execute_input": "2024-08-06T17:47:19.941077Z",
     "iopub.status.busy": "2024-08-06T17:47:19.940670Z",
     "iopub.status.idle": "2024-08-06T17:47:19.948216Z",
     "shell.execute_reply": "2024-08-06T17:47:19.947102Z"
    },
    "papermill": {
     "duration": 0.038735,
     "end_time": "2024-08-06T17:47:19.950593",
     "exception": false,
     "start_time": "2024-08-06T17:47:19.911858",
     "status": "completed"
    },
    "tags": []
   },
   "outputs": [],
   "source": [
    "class ResidualBlock(Layer):\n",
    "    def __init__(self, **kwargs):\n",
    "        super(ResidualBlock, self).__init__(**kwargs)\n",
    "        self.layerNorm = LayerNormalization()\n",
    "        \n",
    "    def call(self, sublayer_in, sub_layer_out, mask=None,):\n",
    "        # masking input before addition. Remember pad values have non-zero vectors\n",
    "        numeric_mask = tf.cast(mask[...,None],tf.float32)\n",
    "        masked_in = sublayer_in*numeric_mask\n",
    "        \n",
    "        x = tf.add(sub_layer_out, masked_in) \n",
    "        x = self.layerNorm(x)\n",
    "        return x\n",
    "\n",
    "    "
   ]
  },
  {
   "cell_type": "markdown",
   "id": "b3c41954",
   "metadata": {
    "papermill": {
     "duration": 0.027183,
     "end_time": "2024-08-06T17:47:20.005063",
     "exception": false,
     "start_time": "2024-08-06T17:47:19.977880",
     "status": "completed"
    },
    "tags": []
   },
   "source": [
    "### Sublayer 1 & 2\n",
    "- Refer to fig 1 and section 3.1."
   ]
  },
  {
   "cell_type": "code",
   "execution_count": 20,
   "id": "69dc533d",
   "metadata": {
    "execution": {
     "iopub.execute_input": "2024-08-06T17:47:20.063204Z",
     "iopub.status.busy": "2024-08-06T17:47:20.062338Z",
     "iopub.status.idle": "2024-08-06T17:47:20.070376Z",
     "shell.execute_reply": "2024-08-06T17:47:20.069220Z"
    },
    "papermill": {
     "duration": 0.039829,
     "end_time": "2024-08-06T17:47:20.072716",
     "exception": false,
     "start_time": "2024-08-06T17:47:20.032887",
     "status": "completed"
    },
    "tags": []
   },
   "outputs": [],
   "source": [
    "class SubLayer1(Layer):\n",
    "    \n",
    "    def __init__(self, d_model, num_heads, p_drop, **kwargs):\n",
    "        super(SubLayer1, self).__init__(**kwargs)\n",
    "\n",
    "        self.supports_masking = True # Because SubLayer2 needs masking     \n",
    "        self.mha = MultiHeadAttention(d_model, num_heads)\n",
    "        self.dropout = Dropout(rate=p_drop)\n",
    "        self.resid = ResidualBlock()\n",
    "\n",
    "    def call(self, Q,K,V,X, training=False, causal_mask=None, mask=None):\n",
    "        \n",
    "        x = self.mha(Q,K,V,causal_mask)\n",
    "        x = self.dropout(x,training=training)\n",
    "\n",
    "        x = self.resid(X,x,mask=mask)\n",
    "        return x\n",
    "         \n"
   ]
  },
  {
   "cell_type": "code",
   "execution_count": 21,
   "id": "ff20d80f",
   "metadata": {
    "execution": {
     "iopub.execute_input": "2024-08-06T17:47:20.130305Z",
     "iopub.status.busy": "2024-08-06T17:47:20.129239Z",
     "iopub.status.idle": "2024-08-06T17:47:20.137861Z",
     "shell.execute_reply": "2024-08-06T17:47:20.136714Z"
    },
    "papermill": {
     "duration": 0.040564,
     "end_time": "2024-08-06T17:47:20.140543",
     "exception": false,
     "start_time": "2024-08-06T17:47:20.099979",
     "status": "completed"
    },
    "tags": []
   },
   "outputs": [],
   "source": [
    "class SubLayer2(Layer):\n",
    "    def __init__(self,dff,p_drop, **kwargs):\n",
    "        super(SubLayer2, self).__init__(**kwargs)\n",
    "    \n",
    "        self.ffn = FFN(dff)\n",
    "        self.dropout = Dropout(rate=p_drop)\n",
    "        self.resid = ResidualBlock()\n",
    "        \n",
    "    def call(self, X, training=False, mask=None ):\n",
    "        \n",
    "        x = self.ffn(X)\n",
    "        x = self.dropout(x, training=training)\n",
    "\n",
    "        x = self.resid(X,x,mask=mask)\n",
    "        return x"
   ]
  },
  {
   "cell_type": "markdown",
   "id": "356d9109",
   "metadata": {
    "papermill": {
     "duration": 0.027253,
     "end_time": "2024-08-06T17:47:20.195136",
     "exception": false,
     "start_time": "2024-08-06T17:47:20.167883",
     "status": "completed"
    },
    "tags": []
   },
   "source": [
    "### Encoder Layer\n",
    "- Refer to fig 1."
   ]
  },
  {
   "cell_type": "code",
   "execution_count": 22,
   "id": "39fe6d51",
   "metadata": {
    "execution": {
     "iopub.execute_input": "2024-08-06T17:47:20.252325Z",
     "iopub.status.busy": "2024-08-06T17:47:20.251605Z",
     "iopub.status.idle": "2024-08-06T17:47:20.260391Z",
     "shell.execute_reply": "2024-08-06T17:47:20.259128Z"
    },
    "papermill": {
     "duration": 0.040286,
     "end_time": "2024-08-06T17:47:20.263048",
     "exception": false,
     "start_time": "2024-08-06T17:47:20.222762",
     "status": "completed"
    },
    "tags": []
   },
   "outputs": [],
   "source": [
    "#### Encoder layer, not encoder\n",
    "class EncoderLayer(Layer):\n",
    "\n",
    "    \n",
    "    def __init__(self, d_model, num_heads, dff, p_drop, **kwargs):\n",
    "        super(EncoderLayer, self).__init__()\n",
    "        self.supports_masking = True # for propogation\n",
    "                        \n",
    "        self.self_attention = SubLayer1(d_model, num_heads, p_drop)\n",
    "        self.position_wise = SubLayer2(dff, p_drop)\n",
    "\n",
    "    def call(self, encoder_input, mask=None, training=False):\n",
    "        \n",
    "        #print(\"encoder layer: \" ,mask is not None)\n",
    "        x = encoder_input\n",
    "        x = self.self_attention(x,x,x,x,training=training, mask=mask)\n",
    "        x = self.position_wise(x,training=training, mask=mask)\n",
    "        return x\n",
    "    \n",
    "\n",
    "     "
   ]
  },
  {
   "cell_type": "markdown",
   "id": "31ea3ceb",
   "metadata": {
    "papermill": {
     "duration": 0.027619,
     "end_time": "2024-08-06T17:47:20.318812",
     "exception": false,
     "start_time": "2024-08-06T17:47:20.291193",
     "status": "completed"
    },
    "tags": []
   },
   "source": [
    "### Positional Embedding\n",
    "- Refer to section 3.5."
   ]
  },
  {
   "cell_type": "code",
   "execution_count": 23,
   "id": "bf8db9c1",
   "metadata": {
    "execution": {
     "iopub.execute_input": "2024-08-06T17:47:20.375859Z",
     "iopub.status.busy": "2024-08-06T17:47:20.375450Z",
     "iopub.status.idle": "2024-08-06T17:47:20.384395Z",
     "shell.execute_reply": "2024-08-06T17:47:20.383226Z"
    },
    "papermill": {
     "duration": 0.040284,
     "end_time": "2024-08-06T17:47:20.386874",
     "exception": false,
     "start_time": "2024-08-06T17:47:20.346590",
     "status": "completed"
    },
    "tags": []
   },
   "outputs": [],
   "source": [
    "def getPositionalEmbedding(seq_length=256, feature_dimension=None):\n",
    "\n",
    "\n",
    "    # Returns featrure_dimension dimensional positional encodings for each position in a sequence of length seq_length.\n",
    "    # return shape (sequ_length, feature_dimension)\n",
    "    dimensions = tf.range(feature_dimension, dtype=tf.float32)\n",
    "    positions = tf.range(seq_length, dtype=tf.float32)[...,None] # add additional dimension at the end for broadcasting\n",
    "    even_dimensions = dimensions[::2]\n",
    "    odd_dimensions   =  dimensions[1::2]\n",
    "\n",
    "    feature_dimension = tf.cast(feature_dimension, tf.float32)\n",
    "    even = tf.sin( positions/tf.pow(10000.,even_dimensions/feature_dimension)  )\n",
    "    odd  = tf.cos( positions/tf.pow(10000.,odd_dimensions/feature_dimension) )\n",
    "\n",
    "    # Since for a given position, concatenating the even and odd dimension is functinonally\n",
    "    # equivalent to interleaving the even and odd dimensions, we will just stack them as follows. (I will later try interleave as well and check the time it takes) \n",
    "\n",
    "    sequence_position_embeddings = tf.concat([even,odd], axis=-1)\n",
    " \n",
    "    return sequence_position_embeddings\n"
   ]
  },
  {
   "cell_type": "code",
   "execution_count": 24,
   "id": "e90e2266",
   "metadata": {
    "execution": {
     "iopub.execute_input": "2024-08-06T17:47:20.444342Z",
     "iopub.status.busy": "2024-08-06T17:47:20.443901Z",
     "iopub.status.idle": "2024-08-06T17:47:20.452258Z",
     "shell.execute_reply": "2024-08-06T17:47:20.451044Z"
    },
    "papermill": {
     "duration": 0.039754,
     "end_time": "2024-08-06T17:47:20.454769",
     "exception": false,
     "start_time": "2024-08-06T17:47:20.415015",
     "status": "completed"
    },
    "tags": []
   },
   "outputs": [],
   "source": [
    "class PositionalEncoding(Layer):\n",
    "    \"\"\"\n",
    "    This layer takes ouput from the embedding layer. Embedding layer must have output shape of (batch, seq-len, features(d_model))\n",
    "    \"\"\"\n",
    "\n",
    "    def __init__(self, **kwargs):\n",
    "        super(PositionalEncoding, self).__init__(**kwargs)\n",
    "        self.supports_masking=True\n",
    "\n",
    "    def call(self, inputs):\n",
    "        \n",
    "        # inputs shape should be (batch, seq-len, features(d_model))\n",
    "        shape= tf.shape(inputs)\n",
    "        seq_len, features = shape[1],shape[2]\n",
    "\n",
    "        positionalEncodings = getPositionalEmbedding(seq_len, features)\n",
    "        positionalEncodings = positionalEncodings[None,...] # add batch dimension along which to broadcast\n",
    "\n",
    "        x = tf.add(inputs,positionalEncodings)  # This is equivalent to inputs+positionalEncodings[None]. \n",
    "                                                # Here, I explicitly added a batch dimension for broadcasting, but its not needed.\n",
    "                                                # You can confirm as follows:  print(tf.math.reduce_all((inputs+positionalEncodings[None])==x))\n",
    "        return x\n",
    "\n",
    "        \n"
   ]
  },
  {
   "cell_type": "markdown",
   "id": "3f75ca6c",
   "metadata": {
    "papermill": {
     "duration": 0.027177,
     "end_time": "2024-08-06T17:47:20.509506",
     "exception": false,
     "start_time": "2024-08-06T17:47:20.482329",
     "status": "completed"
    },
    "tags": []
   },
   "source": [
    "### Decoder Layer \n",
    "- Refer to fig 1 and section 3.1."
   ]
  },
  {
   "cell_type": "code",
   "execution_count": 25,
   "id": "ab878f42",
   "metadata": {
    "execution": {
     "iopub.execute_input": "2024-08-06T17:47:20.567083Z",
     "iopub.status.busy": "2024-08-06T17:47:20.566657Z",
     "iopub.status.idle": "2024-08-06T17:47:20.576525Z",
     "shell.execute_reply": "2024-08-06T17:47:20.575372Z"
    },
    "papermill": {
     "duration": 0.042223,
     "end_time": "2024-08-06T17:47:20.579195",
     "exception": false,
     "start_time": "2024-08-06T17:47:20.536972",
     "status": "completed"
    },
    "tags": []
   },
   "outputs": [],
   "source": [
    "class DecoderLayer(Layer):\n",
    "    def __init__(self,d_model, num_heads,dff,p_drop, **kwargs):\n",
    "        super(DecoderLayer, self).__init__()\n",
    "        \n",
    "        self.supports_masking=True # Ensures padding mask's propogation to the next decoder layer.\n",
    "        self.masked_self_attention = SubLayer1(d_model, num_heads, p_drop) \n",
    "        self.encoder_decoder_attention = SubLayer1(d_model, num_heads, p_drop)\n",
    "        self.position_wise = SubLayer2(dff, p_drop) # Position-wise feed forward\n",
    "\n",
    "    # Important note: First are should be the tensor whose padding mask needs to be propagated because I chose the easiest way for now.\n",
    "    def call(self,  decoder_input, encoder_output, causal_mask, mask=None, training=False):\n",
    "        # tokenEmbeddings: Embeddings of tokens in a sentence\n",
    "        #self attention, so Q, K, V are all same\n",
    "        x = decoder_input\n",
    "        x = self.masked_self_attention(x, x, x, x, causal_mask=causal_mask, mask=mask, training=training)\n",
    "        x = self.encoder_decoder_attention(x,encoder_output,encoder_output,x, training=training, mask=mask)\n",
    "        x = self.position_wise(x,training=training, mask=mask)\n",
    "        return x\n",
    "     "
   ]
  },
  {
   "cell_type": "markdown",
   "id": "27b4eb68",
   "metadata": {
    "papermill": {
     "duration": 0.026923,
     "end_time": "2024-08-06T17:47:20.633370",
     "exception": false,
     "start_time": "2024-08-06T17:47:20.606447",
     "status": "completed"
    },
    "tags": []
   },
   "source": [
    "### Encoder\n",
    "- Refer to figure 1 and section 3.1."
   ]
  },
  {
   "cell_type": "code",
   "execution_count": 26,
   "id": "5d62e376",
   "metadata": {
    "execution": {
     "iopub.execute_input": "2024-08-06T17:47:20.691229Z",
     "iopub.status.busy": "2024-08-06T17:47:20.690265Z",
     "iopub.status.idle": "2024-08-06T17:47:20.698674Z",
     "shell.execute_reply": "2024-08-06T17:47:20.697489Z"
    },
    "papermill": {
     "duration": 0.040468,
     "end_time": "2024-08-06T17:47:20.701260",
     "exception": false,
     "start_time": "2024-08-06T17:47:20.660792",
     "status": "completed"
    },
    "tags": []
   },
   "outputs": [],
   "source": [
    "class Encoder(Layer):\n",
    "    def __init__(self,N, d_model, num_heads,dff, p_drop, **kwargs):\n",
    "        super(Encoder, self).__init__(**kwargs)\n",
    "\n",
    "        self.encoder_layers = []\n",
    "        for n in range(N):\n",
    "            self.encoder_layers.append(EncoderLayer(d_model, num_heads,dff, p_drop))\n",
    "    \n",
    "    \n",
    "    def call(self, inputs, training=False):\n",
    "        x = inputs\n",
    "        for i,layer in enumerate(self.encoder_layers):\n",
    "            x = layer(x,training=training) # Each layer recieves masked tensor because the previous layer has self.supports_mask=True\n",
    "            \n",
    "        return x \n",
    "    \n"
   ]
  },
  {
   "cell_type": "markdown",
   "id": "133cd552",
   "metadata": {
    "papermill": {
     "duration": 0.027442,
     "end_time": "2024-08-06T17:47:20.756585",
     "exception": false,
     "start_time": "2024-08-06T17:47:20.729143",
     "status": "completed"
    },
    "tags": []
   },
   "source": [
    "### Decoder\n",
    "- Refer to Fig 1, section 3.1, 3.2.3.\n",
    "- Notice, how the causal mask, the one required for maintaing autoregressive property, is created in the constructor."
   ]
  },
  {
   "cell_type": "code",
   "execution_count": 27,
   "id": "7d6ec725",
   "metadata": {
    "execution": {
     "iopub.execute_input": "2024-08-06T17:47:20.814965Z",
     "iopub.status.busy": "2024-08-06T17:47:20.814506Z",
     "iopub.status.idle": "2024-08-06T17:47:20.824155Z",
     "shell.execute_reply": "2024-08-06T17:47:20.822814Z"
    },
    "papermill": {
     "duration": 0.042436,
     "end_time": "2024-08-06T17:47:20.826675",
     "exception": false,
     "start_time": "2024-08-06T17:47:20.784239",
     "status": "completed"
    },
    "tags": []
   },
   "outputs": [],
   "source": [
    "class Decoder(Layer):\n",
    "    \n",
    "    def __init__(self, N, d_model, num_heads, dff, seq_len, p_drop, **kwargs):\n",
    "        super(Decoder, self).__init__()\n",
    "        self.decoder_layers = []\n",
    "        self.causal_mask = tf.constant(np.triu(np.ones((seq_len,seq_len)),k=1 ), dtype=tf.bool)\n",
    "\n",
    "        for n in range(N):\n",
    "            self.decoder_layers.append(DecoderLayer(d_model, num_heads,dff, p_drop))\n",
    "\n",
    "    def call(self, enc_output,  dec_input, training=False):\n",
    "        #def call(self, encoder_output, decoder_input, mask):\n",
    "        x = dec_input\n",
    "        for layer in self.decoder_layers:\n",
    "            x= layer(x, enc_output,mask=x._keras_mask, causal_mask=self.causal_mask, training=training)\n",
    "        return x\n",
    "    "
   ]
  },
  {
   "cell_type": "markdown",
   "id": "d45a0585",
   "metadata": {
    "papermill": {
     "duration": 0.026793,
     "end_time": "2024-08-06T17:47:20.880761",
     "exception": false,
     "start_time": "2024-08-06T17:47:20.853968",
     "status": "completed"
    },
    "tags": []
   },
   "source": [
    "### Embedding scaling\n",
    "- Refer to section 3.4"
   ]
  },
  {
   "cell_type": "code",
   "execution_count": 28,
   "id": "b1880845",
   "metadata": {
    "execution": {
     "iopub.execute_input": "2024-08-06T17:47:20.937602Z",
     "iopub.status.busy": "2024-08-06T17:47:20.936355Z",
     "iopub.status.idle": "2024-08-06T17:47:20.943474Z",
     "shell.execute_reply": "2024-08-06T17:47:20.942245Z"
    },
    "papermill": {
     "duration": 0.038125,
     "end_time": "2024-08-06T17:47:20.946043",
     "exception": false,
     "start_time": "2024-08-06T17:47:20.907918",
     "status": "completed"
    },
    "tags": []
   },
   "outputs": [],
   "source": [
    "class Scaling(Layer):\n",
    "    # I created this layer, because simply doing a scalar multiplication with\n",
    "    # a tensor with _keras_mask property resulted in a tensor with no mask.\n",
    "    def __init__(self, scale, **kwargs):\n",
    "        super(Scaling,self).__init__(**kwargs)\n",
    "        self.supports_masking=True\n",
    "        self.scale=scale\n",
    "        \n",
    "    def call(self, inputs):\n",
    "        return inputs*self.scale\n",
    "        \n"
   ]
  },
  {
   "cell_type": "markdown",
   "id": "6c9a6ff2",
   "metadata": {
    "papermill": {
     "duration": 0.02697,
     "end_time": "2024-08-06T17:47:21.000155",
     "exception": false,
     "start_time": "2024-08-06T17:47:20.973185",
     "status": "completed"
    },
    "tags": []
   },
   "source": [
    "### Transformer\n",
    "- Refer to figure 1, section 3.4, section 5.4 and table 3.\n",
    "- The important concept here is of weight sharing, or weight tying. The weights of embedding matrix are shared between source, target, and also at the output of the decoder just before the softmax. It is a three-way sharing (or three-way weight tying) of the same weights."
   ]
  },
  {
   "cell_type": "code",
   "execution_count": 29,
   "id": "2c3281d9",
   "metadata": {
    "execution": {
     "iopub.execute_input": "2024-08-06T17:47:21.056608Z",
     "iopub.status.busy": "2024-08-06T17:47:21.056153Z",
     "iopub.status.idle": "2024-08-06T17:47:21.069365Z",
     "shell.execute_reply": "2024-08-06T17:47:21.068154Z"
    },
    "papermill": {
     "duration": 0.044519,
     "end_time": "2024-08-06T17:47:21.072077",
     "exception": false,
     "start_time": "2024-08-06T17:47:21.027558",
     "status": "completed"
    },
    "tags": []
   },
   "outputs": [],
   "source": [
    "class Transformer(Model):\n",
    "    def __init__(self, N, d_model, num_heads,dff,seq_len, vocab_size, p_drop, **kwargs):\n",
    "        super(Transformer,self).__init__(**kwargs)\n",
    "        self.shared_embedding = Embedding(vocab_size+1,d_model,mask_zero=True) # be becasue word indexes staart from 1, but embedding layer's embedding indexes start from 0.0 index is left for padding\n",
    "        self.positional_encoding = PositionalEncoding()\n",
    "        self.encoder = Encoder(N, d_model, num_heads,dff, p_drop)\n",
    "        self.decoder =  Decoder(N, d_model, num_heads,dff,seq_len, p_drop)\n",
    "        self.dropout1 = Dropout(p_drop)\n",
    "        self.dropout2 = Dropout(p_drop)\n",
    "        self.scale_embed =  Scaling(d_model**.5)\n",
    "\n",
    "    def call(self, input, training=False):\n",
    "        \"\"\"\n",
    "        enc_inputs : tokenized sequence of shape (batch, enc_seq_len)\n",
    "        dec_inputs : tokenized sequence of shape (batch, dec_seq_len)\n",
    "        \"\"\"\n",
    "\n",
    "        enc_inputs, dec_inputs = input\n",
    "        \n",
    "        enc_inputs = self.shared_embedding(enc_inputs)\n",
    "        enc_inputs = self.scale_embed(enc_inputs)\n",
    "        enc_inputs = self.positional_encoding(enc_inputs)  \n",
    "        enc_inputs = self.dropout1(enc_inputs, training=training)\n",
    "        \n",
    "        dec_inputs = self.shared_embedding(dec_inputs)\n",
    "        dec_inputs = self.scale_embed(dec_inputs)\n",
    "        dec_inputs = self.positional_encoding(dec_inputs)\n",
    "        dec_inputs = self.dropout2(dec_inputs, training=training)\n",
    "        \n",
    "        enc_output = self.encoder(enc_inputs, training=training)\n",
    "        decoder_output = self.decoder(enc_output , dec_inputs,training=training) # has shape(batch, dec_input, d_model)\n",
    "\n",
    "        # Final linear operation. Weight tying\n",
    "        embed_weights = self.shared_embedding.weights[0] # has shape (vocab_size,d_model)\n",
    "        embed_weights_scaled = self.scale_embed(embed_weights)\n",
    "\n",
    "        logits = tf.matmul(decoder_output,embed_weights_scaled,transpose_b=True)\n",
    "\n",
    "        return logits"
   ]
  },
  {
   "cell_type": "markdown",
   "id": "c2b3ab6c",
   "metadata": {
    "papermill": {
     "duration": 0.027241,
     "end_time": "2024-08-06T17:47:21.126884",
     "exception": false,
     "start_time": "2024-08-06T17:47:21.099643",
     "status": "completed"
    },
    "tags": []
   },
   "source": [
    "## Loss\n",
    "- Refer to section 5.4 of the paper. The label smoothing part.."
   ]
  },
  {
   "cell_type": "code",
   "execution_count": 30,
   "id": "e69e1164",
   "metadata": {
    "execution": {
     "iopub.execute_input": "2024-08-06T17:47:21.184431Z",
     "iopub.status.busy": "2024-08-06T17:47:21.183972Z",
     "iopub.status.idle": "2024-08-06T17:47:21.194297Z",
     "shell.execute_reply": "2024-08-06T17:47:21.193084Z"
    },
    "papermill": {
     "duration": 0.042024,
     "end_time": "2024-08-06T17:47:21.196724",
     "exception": false,
     "start_time": "2024-08-06T17:47:21.154700",
     "status": "completed"
    },
    "tags": []
   },
   "outputs": [],
   "source": [
    "loss_obj= tf.keras.losses.CategoricalCrossentropy(label_smoothing=0.1, reduction='none', from_logits=True)\n",
    "mask_layer = Masking()\n",
    "\n",
    "def loss_func(y_true, y_pred):\n",
    "    \n",
    "    lab_masked = mask_layer(y_true) # create mask from labels. Read documentation if needed. Basically, if a particular token in a sequence has only zeros in the feature dimension, that token is masked as padding token.\n",
    "    mask = tf.cast(lab_masked._keras_mask, tf.float32)\n",
    "    loss = loss_obj(lab_masked[:,:,1:],y_pred[:,:,1:]) # The zeroth index of logits correspond to padding, so ignore it\n",
    "    masked_loss = loss * mask # zero out the loss values corresponding to padding token vectors.\n",
    "    \n",
    "    return tf.reduce_sum(masked_loss)"
   ]
  },
  {
   "cell_type": "markdown",
   "id": "204f372a",
   "metadata": {
    "papermill": {
     "duration": 0.027326,
     "end_time": "2024-08-06T17:47:21.251538",
     "exception": false,
     "start_time": "2024-08-06T17:47:21.224212",
     "status": "completed"
    },
    "tags": []
   },
   "source": [
    "### Learning rate schedule\n",
    "- Refer to section 5.3 of the paper."
   ]
  },
  {
   "cell_type": "code",
   "execution_count": 31,
   "id": "13335a20",
   "metadata": {
    "execution": {
     "iopub.execute_input": "2024-08-06T17:47:21.308215Z",
     "iopub.status.busy": "2024-08-06T17:47:21.307688Z",
     "iopub.status.idle": "2024-08-06T17:47:21.316385Z",
     "shell.execute_reply": "2024-08-06T17:47:21.315226Z"
    },
    "papermill": {
     "duration": 0.04005,
     "end_time": "2024-08-06T17:47:21.319075",
     "exception": false,
     "start_time": "2024-08-06T17:47:21.279025",
     "status": "completed"
    },
    "tags": []
   },
   "outputs": [],
   "source": [
    "class MyLRSchedule(tf.keras.optimizers.schedules.LearningRateSchedule):\n",
    "\n",
    "    def __init__(self, warmup_steps=4000, d_model=512):\n",
    "        super(MyLRSchedule,self).__init__()\n",
    "        self.d_model = d_model#tf.cast(d_model, tf.float32)\n",
    "        self.warmup_steps=warmup_steps\n",
    "\n",
    "    def __call__(self, step):\n",
    "        step = tf.cast(step, tf.float32)\n",
    "        lrate = self.d_model**-.5 * tf.minimum(step**-0.5, step*self.warmup_steps**-1.5)\n",
    "        return lrate\n",
    "\n",
    "    \n",
    "    \n",
    "    def get_config(self):\n",
    "        config = {\n",
    "            'warmup_steps':self.warmup_steps,\n",
    "            'd_model':self.d_model,\n",
    "        }\n",
    "        return config\n"
   ]
  },
  {
   "cell_type": "code",
   "execution_count": 32,
   "id": "a66e7e6c",
   "metadata": {
    "execution": {
     "iopub.execute_input": "2024-08-06T17:47:21.376144Z",
     "iopub.status.busy": "2024-08-06T17:47:21.375326Z",
     "iopub.status.idle": "2024-08-06T17:47:22.410750Z",
     "shell.execute_reply": "2024-08-06T17:47:22.409556Z"
    },
    "papermill": {
     "duration": 1.067439,
     "end_time": "2024-08-06T17:47:22.414021",
     "exception": false,
     "start_time": "2024-08-06T17:47:21.346582",
     "status": "completed"
    },
    "tags": []
   },
   "outputs": [],
   "source": [
    "transformer = Transformer(N, d_model, h,dff,max_seq_len, vocab_size, p_drop)"
   ]
  },
  {
   "cell_type": "markdown",
   "id": "22d4a952",
   "metadata": {
    "papermill": {
     "duration": 0.027331,
     "end_time": "2024-08-06T17:47:22.468932",
     "exception": false,
     "start_time": "2024-08-06T17:47:22.441601",
     "status": "completed"
    },
    "tags": []
   },
   "source": [
    "__Optimizer__\n",
    "- Refer to section 5.3."
   ]
  },
  {
   "cell_type": "code",
   "execution_count": 33,
   "id": "85e9966e",
   "metadata": {
    "execution": {
     "iopub.execute_input": "2024-08-06T17:47:22.525808Z",
     "iopub.status.busy": "2024-08-06T17:47:22.525409Z",
     "iopub.status.idle": "2024-08-06T17:47:22.542995Z",
     "shell.execute_reply": "2024-08-06T17:47:22.541834Z"
    },
    "papermill": {
     "duration": 0.049985,
     "end_time": "2024-08-06T17:47:22.546189",
     "exception": false,
     "start_time": "2024-08-06T17:47:22.496204",
     "status": "completed"
    },
    "tags": []
   },
   "outputs": [],
   "source": [
    "optimizer = tf.keras.optimizers.Adam(beta_1=.9,beta_2=.98,epsilon=10e-9, learning_rate=MyLRSchedule())\n",
    "transformer.compile(optimizer=optimizer,loss=loss_func)"
   ]
  },
  {
   "cell_type": "code",
   "execution_count": 34,
   "id": "40890321",
   "metadata": {
    "execution": {
     "iopub.execute_input": "2024-08-06T17:47:22.658229Z",
     "iopub.status.busy": "2024-08-06T17:47:22.657811Z",
     "iopub.status.idle": "2024-08-06T17:47:22.673849Z",
     "shell.execute_reply": "2024-08-06T17:47:22.672760Z"
    },
    "papermill": {
     "duration": 0.047678,
     "end_time": "2024-08-06T17:47:22.676506",
     "exception": false,
     "start_time": "2024-08-06T17:47:22.628828",
     "status": "completed"
    },
    "tags": []
   },
   "outputs": [],
   "source": [
    "\n",
    "steps = 7200\n",
    "epoch='epoch0/'# Change this each epoch\n",
    "out_path='/kaggle/working/exp2/'+epoch\n",
    "os.makedirs(out_path)\n",
    "class CustomCallback(Callback):\n",
    "    \n",
    "    \n",
    "    def on_batch_end(self,batch,logs):\n",
    "\n",
    "        # Write batch number as well incase we want to resume from where we left of\n",
    "        path = out_path+\"batch.txt\"\n",
    "        f = open(path, \"w\")\n",
    "        f.write(str(batch)) \n",
    "        f.write(\"\\n\")\n",
    "        f.close()\n",
    "        \n",
    "        # Save model\n",
    "        if (batch+1)%steps==0:# +1 because zero (zeroth) batch is multiple of every number\n",
    "            #training loss\n",
    "            path = out_path+'train_loss.txt'\n",
    "            f = open(path, \"a\")\n",
    "            f.write(str(logs[\"loss\"]))\n",
    "            f.write(\"\\n\")\n",
    "            f.close()\n",
    "\n",
    "            \n",
    "            # validation loss\n",
    "            path = out_path+'val_loss.txt'\n",
    "            f = open(path, \"a\")\n",
    "            val_loss = self.model.evaluate(val)\n",
    "            f.write(str(val_loss))\n",
    "            f.write(\"\\n\")\n",
    "            f.close()\n",
    "\n",
    "            # time\n",
    "            path = out_path+'time.txt'\n",
    "            f = open(path, \"a\")\n",
    "            f.write(time.strftime(\"%x %X\"))\n",
    "            f.write(\"\\n\")\n",
    "            f.close()\n",
    "\n",
    "            # Save model\n",
    "            self.model.save_weights(root+'model_e_'+ str(round(val_loss,3))+'_.weights.h5')\n",
    "\n",
    "            \n",
    "            \n",
    "\n",
    "    # Since the dataset is not exactly a multiple of steps, we need to consider the loss values when the epoch ends\n",
    "    def on_epoch_end(self, epochs,logs):\n",
    "        #training loss\n",
    "        # validation loss\n",
    "            path = out_path+'val_loss.txt'\n",
    "            f = open(path, \"a\")\n",
    "            val_loss = self.model.evaluate(val)\n",
    "            f.write(str(val_loss))\n",
    "            f.write(\"\\n\")\n",
    "            f.close()\n",
    "\n",
    "            # time\n",
    "            path = out_path+'time.txt'\n",
    "            f = open(path, \"a\")\n",
    "            f.write(time.strftime(\"%x %X\"))\n",
    "            f.write(\"\\n\")\n",
    "            f.close()\n",
    "\n",
    "            # Save model\n",
    "            self.model.save_weights(root+'model_e_'+ str(round(val_loss,3))+'_.weights.h5')\n"
   ]
  },
  {
   "cell_type": "code",
   "execution_count": 35,
   "id": "2f81d94b",
   "metadata": {
    "execution": {
     "iopub.execute_input": "2024-08-06T17:47:22.734350Z",
     "iopub.status.busy": "2024-08-06T17:47:22.733943Z",
     "iopub.status.idle": "2024-08-06T17:47:23.509091Z",
     "shell.execute_reply": "2024-08-06T17:47:23.507942Z"
    },
    "papermill": {
     "duration": 0.807927,
     "end_time": "2024-08-06T17:47:23.511997",
     "exception": false,
     "start_time": "2024-08-06T17:47:22.704070",
     "status": "completed"
    },
    "tags": []
   },
   "outputs": [],
   "source": [
    "transformer = Transformer(N, d_model, h,dff,max_seq_len, vocab_size, p_drop)\n",
    "optimizer = tf.keras.optimizers.Adam(beta_1=.9,beta_2=.98,epsilon=10e-9, learning_rate=MyLRSchedule())\n",
    "transformer.compile(optimizer=optimizer,loss=loss_func)"
   ]
  },
  {
   "cell_type": "code",
   "execution_count": 36,
   "id": "f9af8282",
   "metadata": {
    "execution": {
     "iopub.execute_input": "2024-08-06T17:47:23.568876Z",
     "iopub.status.busy": "2024-08-06T17:47:23.568463Z",
     "iopub.status.idle": "2024-08-06T17:47:23.573479Z",
     "shell.execute_reply": "2024-08-06T17:47:23.572258Z"
    },
    "papermill": {
     "duration": 0.036043,
     "end_time": "2024-08-06T17:47:23.575882",
     "exception": false,
     "start_time": "2024-08-06T17:47:23.539839",
     "status": "completed"
    },
    "tags": []
   },
   "outputs": [],
   "source": [
    "# uncomment to continue training\n",
    "#history = transformer.fit(train,callbacks=[CustomCallback()])"
   ]
  },
  {
   "cell_type": "markdown",
   "id": "24c78ac2",
   "metadata": {
    "papermill": {
     "duration": 0.027242,
     "end_time": "2024-08-06T17:47:23.630581",
     "exception": false,
     "start_time": "2024-08-06T17:47:23.603339",
     "status": "completed"
    },
    "tags": []
   },
   "source": [
    "#### continue training\n",
    "- epochs 2,3,4,...\n",
    "- change the epoch folder in the callback each time"
   ]
  },
  {
   "cell_type": "code",
   "execution_count": 37,
   "id": "1b31efe5",
   "metadata": {
    "execution": {
     "iopub.execute_input": "2024-08-06T17:47:23.688062Z",
     "iopub.status.busy": "2024-08-06T17:47:23.687253Z",
     "iopub.status.idle": "2024-08-06T17:47:24.467535Z",
     "shell.execute_reply": "2024-08-06T17:47:24.466511Z"
    },
    "papermill": {
     "duration": 0.812727,
     "end_time": "2024-08-06T17:47:24.470608",
     "exception": false,
     "start_time": "2024-08-06T17:47:23.657881",
     "status": "completed"
    },
    "tags": []
   },
   "outputs": [],
   "source": [
    "transformer = Transformer(N, d_model, h,dff,max_seq_len, vocab_size, p_drop)\n",
    "optimizer = tf.keras.optimizers.Adam(beta_1=.9,beta_2=.98,epsilon=10e-9, learning_rate=MyLRSchedule())\n",
    "transformer.compile(optimizer=optimizer,loss=loss_func)\n",
    "\n",
    "# Uncomment the beloe code to compile and model weights and optimizer's state \n",
    "\n",
    "#transformer.fit(train.take(1))# This veryy important!!, otherwise the optimizer;s state is not loaded. The schedule depends on optimizer's state. very important!!\n",
    "#weights_path = \"/kaggle/working/exp2/epoch3/model_e3_20093.691_.weights.h5\" # latest weights from the last epoch. Change as per your environment\n",
    "#transformer.load_weights(weights_path)"
   ]
  },
  {
   "cell_type": "code",
   "execution_count": 38,
   "id": "d5d71cb9",
   "metadata": {
    "execution": {
     "iopub.execute_input": "2024-08-06T17:47:24.527333Z",
     "iopub.status.busy": "2024-08-06T17:47:24.526887Z",
     "iopub.status.idle": "2024-08-06T17:47:24.537246Z",
     "shell.execute_reply": "2024-08-06T17:47:24.536053Z"
    },
    "papermill": {
     "duration": 0.041811,
     "end_time": "2024-08-06T17:47:24.539723",
     "exception": false,
     "start_time": "2024-08-06T17:47:24.497912",
     "status": "completed"
    },
    "tags": []
   },
   "outputs": [
    {
     "data": {
      "text/plain": [
       "0"
      ]
     },
     "execution_count": 38,
     "metadata": {},
     "output_type": "execute_result"
    }
   ],
   "source": [
    "transformer.optimizer.iterations.numpy()# Double check if the optimizer's state is loaded correctly. This total number steps the optimizer has taken. Important for schedule"
   ]
  },
  {
   "cell_type": "markdown",
   "id": "717013dd",
   "metadata": {
    "papermill": {
     "duration": 0.027159,
     "end_time": "2024-08-06T17:47:24.594379",
     "exception": false,
     "start_time": "2024-08-06T17:47:24.567220",
     "status": "completed"
    },
    "tags": []
   },
   "source": [
    "- Make sure to update callback code as mentioned above before running the following cell."
   ]
  },
  {
   "cell_type": "code",
   "execution_count": 39,
   "id": "1b0d94ba",
   "metadata": {
    "execution": {
     "iopub.execute_input": "2024-08-06T17:47:24.651275Z",
     "iopub.status.busy": "2024-08-06T17:47:24.650821Z",
     "iopub.status.idle": "2024-08-06T17:47:24.655880Z",
     "shell.execute_reply": "2024-08-06T17:47:24.654728Z"
    },
    "papermill": {
     "duration": 0.0365,
     "end_time": "2024-08-06T17:47:24.658361",
     "exception": false,
     "start_time": "2024-08-06T17:47:24.621861",
     "status": "completed"
    },
    "tags": []
   },
   "outputs": [],
   "source": [
    "# Uncomment to continue training\n",
    "#history = transformer.fit(train,callbacks=[CustomCallback()])"
   ]
  },
  {
   "cell_type": "code",
   "execution_count": null,
   "id": "b622e7d4",
   "metadata": {
    "papermill": {
     "duration": 0.028213,
     "end_time": "2024-08-06T17:47:24.714002",
     "exception": false,
     "start_time": "2024-08-06T17:47:24.685789",
     "status": "completed"
    },
    "tags": []
   },
   "outputs": [],
   "source": []
  },
  {
   "cell_type": "code",
   "execution_count": 40,
   "id": "312c9aca",
   "metadata": {
    "execution": {
     "iopub.execute_input": "2024-08-06T17:47:24.829026Z",
     "iopub.status.busy": "2024-08-06T17:47:24.828607Z",
     "iopub.status.idle": "2024-08-06T17:47:25.889455Z",
     "shell.execute_reply": "2024-08-06T17:47:25.888339Z"
    },
    "papermill": {
     "duration": 1.094665,
     "end_time": "2024-08-06T17:47:25.892231",
     "exception": false,
     "start_time": "2024-08-06T17:47:24.797566",
     "status": "completed"
    },
    "tags": []
   },
   "outputs": [],
   "source": [
    "transformer = Transformer(N, d_model, h,dff,max_seq_len, vocab_size, p_drop)\n",
    "optimizer = tf.keras.optimizers.Adam(beta_1=.9,beta_2=.98,epsilon=10e-9, learning_rate=MyLRSchedule())\n",
    "transformer.compile(optimizer=optimizer,loss=loss_func)\n",
    "\n",
    "# uncomment the below code to load model weights and optimizer's state\n",
    "#transformer.fit(train.take(1))\n",
    "#weights_path = \"/kaggle/working/model_e3_20364.22\"\n",
    "#transformer.load_weights(weights_path)"
   ]
  },
  {
   "cell_type": "code",
   "execution_count": 41,
   "id": "ddbf6e2e",
   "metadata": {
    "execution": {
     "iopub.execute_input": "2024-08-06T17:47:25.950275Z",
     "iopub.status.busy": "2024-08-06T17:47:25.949828Z",
     "iopub.status.idle": "2024-08-06T17:47:25.958506Z",
     "shell.execute_reply": "2024-08-06T17:47:25.957253Z"
    },
    "papermill": {
     "duration": 0.040967,
     "end_time": "2024-08-06T17:47:25.961221",
     "exception": false,
     "start_time": "2024-08-06T17:47:25.920254",
     "status": "completed"
    },
    "tags": []
   },
   "outputs": [
    {
     "data": {
      "text/plain": [
       "0"
      ]
     },
     "execution_count": 41,
     "metadata": {},
     "output_type": "execute_result"
    }
   ],
   "source": [
    "transformer.optimizer.iterations.numpy()"
   ]
  },
  {
   "cell_type": "code",
   "execution_count": 42,
   "id": "958cd494",
   "metadata": {
    "execution": {
     "iopub.execute_input": "2024-08-06T17:47:26.019143Z",
     "iopub.status.busy": "2024-08-06T17:47:26.018730Z",
     "iopub.status.idle": "2024-08-06T17:47:26.047400Z",
     "shell.execute_reply": "2024-08-06T17:47:26.046255Z"
    },
    "papermill": {
     "duration": 0.060134,
     "end_time": "2024-08-06T17:47:26.049828",
     "exception": false,
     "start_time": "2024-08-06T17:47:25.989694",
     "status": "completed"
    },
    "tags": []
   },
   "outputs": [
    {
     "data": {
      "text/html": [
       "<pre style=\"white-space:pre;overflow-x:auto;line-height:normal;font-family:Menlo,'DejaVu Sans Mono',consolas,'Courier New',monospace\"><span style=\"font-weight: bold\">Model: \"transformer_3\"</span>\n",
       "</pre>\n"
      ],
      "text/plain": [
       "\u001b[1mModel: \"transformer_3\"\u001b[0m\n"
      ]
     },
     "metadata": {},
     "output_type": "display_data"
    },
    {
     "data": {
      "text/html": [
       "<pre style=\"white-space:pre;overflow-x:auto;line-height:normal;font-family:Menlo,'DejaVu Sans Mono',consolas,'Courier New',monospace\">┏━━━━━━━━━━━━━━━━━━━━━━━━━━━━━━━━━┳━━━━━━━━━━━━━━━━━━━━━━━━┳━━━━━━━━━━━━━━━┓\n",
       "┃<span style=\"font-weight: bold\"> Layer (type)                    </span>┃<span style=\"font-weight: bold\"> Output Shape           </span>┃<span style=\"font-weight: bold\">       Param # </span>┃\n",
       "┡━━━━━━━━━━━━━━━━━━━━━━━━━━━━━━━━━╇━━━━━━━━━━━━━━━━━━━━━━━━╇━━━━━━━━━━━━━━━┩\n",
       "│ embedding_3 (<span style=\"color: #0087ff; text-decoration-color: #0087ff\">Embedding</span>)         │ ?                      │   <span style=\"color: #00af00; text-decoration-color: #00af00\">0</span> (unbuilt) │\n",
       "├─────────────────────────────────┼────────────────────────┼───────────────┤\n",
       "│ positional_encoding_3           │ ?                      │   <span style=\"color: #00af00; text-decoration-color: #00af00\">0</span> (unbuilt) │\n",
       "│ (<span style=\"color: #0087ff; text-decoration-color: #0087ff\">PositionalEncoding</span>)            │                        │               │\n",
       "├─────────────────────────────────┼────────────────────────┼───────────────┤\n",
       "│ encoder_3 (<span style=\"color: #0087ff; text-decoration-color: #0087ff\">Encoder</span>)             │ ?                      │   <span style=\"color: #00af00; text-decoration-color: #00af00\">0</span> (unbuilt) │\n",
       "├─────────────────────────────────┼────────────────────────┼───────────────┤\n",
       "│ decoder_3 (<span style=\"color: #0087ff; text-decoration-color: #0087ff\">Decoder</span>)             │ ?                      │   <span style=\"color: #00af00; text-decoration-color: #00af00\">0</span> (unbuilt) │\n",
       "├─────────────────────────────────┼────────────────────────┼───────────────┤\n",
       "│ dropout_126 (<span style=\"color: #0087ff; text-decoration-color: #0087ff\">Dropout</span>)           │ ?                      │   <span style=\"color: #00af00; text-decoration-color: #00af00\">0</span> (unbuilt) │\n",
       "├─────────────────────────────────┼────────────────────────┼───────────────┤\n",
       "│ dropout_127 (<span style=\"color: #0087ff; text-decoration-color: #0087ff\">Dropout</span>)           │ ?                      │   <span style=\"color: #00af00; text-decoration-color: #00af00\">0</span> (unbuilt) │\n",
       "├─────────────────────────────────┼────────────────────────┼───────────────┤\n",
       "│ scaling_3 (<span style=\"color: #0087ff; text-decoration-color: #0087ff\">Scaling</span>)             │ ?                      │   <span style=\"color: #00af00; text-decoration-color: #00af00\">0</span> (unbuilt) │\n",
       "└─────────────────────────────────┴────────────────────────┴───────────────┘\n",
       "</pre>\n"
      ],
      "text/plain": [
       "┏━━━━━━━━━━━━━━━━━━━━━━━━━━━━━━━━━┳━━━━━━━━━━━━━━━━━━━━━━━━┳━━━━━━━━━━━━━━━┓\n",
       "┃\u001b[1m \u001b[0m\u001b[1mLayer (type)                   \u001b[0m\u001b[1m \u001b[0m┃\u001b[1m \u001b[0m\u001b[1mOutput Shape          \u001b[0m\u001b[1m \u001b[0m┃\u001b[1m \u001b[0m\u001b[1m      Param #\u001b[0m\u001b[1m \u001b[0m┃\n",
       "┡━━━━━━━━━━━━━━━━━━━━━━━━━━━━━━━━━╇━━━━━━━━━━━━━━━━━━━━━━━━╇━━━━━━━━━━━━━━━┩\n",
       "│ embedding_3 (\u001b[38;5;33mEmbedding\u001b[0m)         │ ?                      │   \u001b[38;5;34m0\u001b[0m (unbuilt) │\n",
       "├─────────────────────────────────┼────────────────────────┼───────────────┤\n",
       "│ positional_encoding_3           │ ?                      │   \u001b[38;5;34m0\u001b[0m (unbuilt) │\n",
       "│ (\u001b[38;5;33mPositionalEncoding\u001b[0m)            │                        │               │\n",
       "├─────────────────────────────────┼────────────────────────┼───────────────┤\n",
       "│ encoder_3 (\u001b[38;5;33mEncoder\u001b[0m)             │ ?                      │   \u001b[38;5;34m0\u001b[0m (unbuilt) │\n",
       "├─────────────────────────────────┼────────────────────────┼───────────────┤\n",
       "│ decoder_3 (\u001b[38;5;33mDecoder\u001b[0m)             │ ?                      │   \u001b[38;5;34m0\u001b[0m (unbuilt) │\n",
       "├─────────────────────────────────┼────────────────────────┼───────────────┤\n",
       "│ dropout_126 (\u001b[38;5;33mDropout\u001b[0m)           │ ?                      │   \u001b[38;5;34m0\u001b[0m (unbuilt) │\n",
       "├─────────────────────────────────┼────────────────────────┼───────────────┤\n",
       "│ dropout_127 (\u001b[38;5;33mDropout\u001b[0m)           │ ?                      │   \u001b[38;5;34m0\u001b[0m (unbuilt) │\n",
       "├─────────────────────────────────┼────────────────────────┼───────────────┤\n",
       "│ scaling_3 (\u001b[38;5;33mScaling\u001b[0m)             │ ?                      │   \u001b[38;5;34m0\u001b[0m (unbuilt) │\n",
       "└─────────────────────────────────┴────────────────────────┴───────────────┘\n"
      ]
     },
     "metadata": {},
     "output_type": "display_data"
    },
    {
     "data": {
      "text/html": [
       "<pre style=\"white-space:pre;overflow-x:auto;line-height:normal;font-family:Menlo,'DejaVu Sans Mono',consolas,'Courier New',monospace\"><span style=\"font-weight: bold\"> Total params: </span><span style=\"color: #00af00; text-decoration-color: #00af00\">0</span> (0.00 B)\n",
       "</pre>\n"
      ],
      "text/plain": [
       "\u001b[1m Total params: \u001b[0m\u001b[38;5;34m0\u001b[0m (0.00 B)\n"
      ]
     },
     "metadata": {},
     "output_type": "display_data"
    },
    {
     "data": {
      "text/html": [
       "<pre style=\"white-space:pre;overflow-x:auto;line-height:normal;font-family:Menlo,'DejaVu Sans Mono',consolas,'Courier New',monospace\"><span style=\"font-weight: bold\"> Trainable params: </span><span style=\"color: #00af00; text-decoration-color: #00af00\">0</span> (0.00 B)\n",
       "</pre>\n"
      ],
      "text/plain": [
       "\u001b[1m Trainable params: \u001b[0m\u001b[38;5;34m0\u001b[0m (0.00 B)\n"
      ]
     },
     "metadata": {},
     "output_type": "display_data"
    },
    {
     "data": {
      "text/html": [
       "<pre style=\"white-space:pre;overflow-x:auto;line-height:normal;font-family:Menlo,'DejaVu Sans Mono',consolas,'Courier New',monospace\"><span style=\"font-weight: bold\"> Non-trainable params: </span><span style=\"color: #00af00; text-decoration-color: #00af00\">0</span> (0.00 B)\n",
       "</pre>\n"
      ],
      "text/plain": [
       "\u001b[1m Non-trainable params: \u001b[0m\u001b[38;5;34m0\u001b[0m (0.00 B)\n"
      ]
     },
     "metadata": {},
     "output_type": "display_data"
    }
   ],
   "source": [
    "transformer.summary()"
   ]
  },
  {
   "cell_type": "code",
   "execution_count": 43,
   "id": "644bdf25",
   "metadata": {
    "execution": {
     "iopub.execute_input": "2024-08-06T17:47:26.110424Z",
     "iopub.status.busy": "2024-08-06T17:47:26.109964Z",
     "iopub.status.idle": "2024-08-06T17:47:26.115445Z",
     "shell.execute_reply": "2024-08-06T17:47:26.114220Z"
    },
    "papermill": {
     "duration": 0.038867,
     "end_time": "2024-08-06T17:47:26.118189",
     "exception": false,
     "start_time": "2024-08-06T17:47:26.079322",
     "status": "completed"
    },
    "tags": []
   },
   "outputs": [],
   "source": [
    "#!rm /kaggle/working/model_e3_21717.719_.weights.h5"
   ]
  },
  {
   "cell_type": "markdown",
   "id": "cdaa8676",
   "metadata": {
    "papermill": {
     "duration": 0.029354,
     "end_time": "2024-08-06T17:47:26.177807",
     "exception": false,
     "start_time": "2024-08-06T17:47:26.148453",
     "status": "completed"
    },
    "tags": []
   },
   "source": [
    "__Training example output__"
   ]
  },
  {
   "cell_type": "code",
   "execution_count": 44,
   "id": "f237f73a",
   "metadata": {
    "execution": {
     "iopub.execute_input": "2024-08-06T17:47:26.238957Z",
     "iopub.status.busy": "2024-08-06T17:47:26.238494Z",
     "iopub.status.idle": "2024-08-06T17:47:26.262354Z",
     "shell.execute_reply": "2024-08-06T17:47:26.260698Z"
    },
    "papermill": {
     "duration": 0.058249,
     "end_time": "2024-08-06T17:47:26.265107",
     "exception": false,
     "start_time": "2024-08-06T17:47:26.206858",
     "status": "completed"
    },
    "tags": []
   },
   "outputs": [
    {
     "name": "stdout",
     "output_type": "stream",
     "text": [
      "Res@@ um@@ ption of the session\n",
      "\n",
      "Wiederaufnahme der Sitzungsperiode\n",
      "\n"
     ]
    }
   ],
   "source": [
    "sentence_idx = 1\n",
    "root = \"/kaggle/input/transformer-en-de-nmt-wmt14-bpe/\"\n",
    "\n",
    "with open(root+\"train.tok.clean.bpe.32000.en\",mode=\"r\",encoding=\"utf8\") as f:\n",
    "    #test_sentence = f.readline()\n",
    "    #print(f.readline())\n",
    "    for i in range(sentence_idx):\n",
    "        test_sentence = f.readline()\n",
    "    print(test_sentence)\n",
    "    \n",
    "with open(root+\"train.tok.clean.bpe.32000.de\",mode=\"r\",encoding=\"utf8\") as f:\n",
    "    for i in range(sentence_idx):\n",
    "        out = f.readline()\n",
    "    print(out)"
   ]
  },
  {
   "cell_type": "markdown",
   "id": "984be079",
   "metadata": {
    "papermill": {
     "duration": 0.029011,
     "end_time": "2024-08-06T17:47:26.324258",
     "exception": false,
     "start_time": "2024-08-06T17:47:26.295247",
     "status": "completed"
    },
    "tags": []
   },
   "source": [
    "#### Preprocessing"
   ]
  },
  {
   "cell_type": "code",
   "execution_count": 45,
   "id": "6583186d",
   "metadata": {
    "execution": {
     "iopub.execute_input": "2024-08-06T17:47:26.385120Z",
     "iopub.status.busy": "2024-08-06T17:47:26.384673Z",
     "iopub.status.idle": "2024-08-06T17:47:26.452347Z",
     "shell.execute_reply": "2024-08-06T17:47:26.451087Z"
    },
    "papermill": {
     "duration": 0.100975,
     "end_time": "2024-08-06T17:47:26.454955",
     "exception": false,
     "start_time": "2024-08-06T17:47:26.353980",
     "status": "completed"
    },
    "tags": []
   },
   "outputs": [
    {
     "data": {
      "text/plain": [
       "<tf.Tensor: shape=(8,), dtype=string, numpy=\n",
       "array([b'<StartOfSequence>', b'Res@@', b'um@@', b'ption', b'of', b'the',\n",
       "       b'session', b'<EndOfSequence>'], dtype=object)>"
      ]
     },
     "execution_count": 45,
     "metadata": {},
     "output_type": "execute_result"
    }
   ],
   "source": [
    "start = \"<StartOfSequence>\"\n",
    "end   = \"<EndOfSequence>\"\n",
    "\n",
    "test_sentence = tf.strings.split(tf.strings.join([start,test_sentence,end],separator=' '))\n",
    "test_sentence"
   ]
  },
  {
   "cell_type": "markdown",
   "id": "c9597015",
   "metadata": {
    "papermill": {
     "duration": 0.029602,
     "end_time": "2024-08-06T17:47:26.513925",
     "exception": false,
     "start_time": "2024-08-06T17:47:26.484323",
     "status": "completed"
    },
    "tags": []
   },
   "source": [
    "- Tokenisation"
   ]
  },
  {
   "cell_type": "code",
   "execution_count": 46,
   "id": "6fafeaa1",
   "metadata": {
    "execution": {
     "iopub.execute_input": "2024-08-06T17:47:26.575384Z",
     "iopub.status.busy": "2024-08-06T17:47:26.574892Z",
     "iopub.status.idle": "2024-08-06T17:47:26.583616Z",
     "shell.execute_reply": "2024-08-06T17:47:26.582423Z"
    },
    "papermill": {
     "duration": 0.042445,
     "end_time": "2024-08-06T17:47:26.586361",
     "exception": false,
     "start_time": "2024-08-06T17:47:26.543916",
     "status": "completed"
    },
    "tags": []
   },
   "outputs": [
    {
     "data": {
      "text/plain": [
       "<tf.Tensor: shape=(8,), dtype=int32, numpy=\n",
       "array([36710,  5095,   466, 16678,     5,     3,  5152, 36711],\n",
       "      dtype=int32)>"
      ]
     },
     "execution_count": 46,
     "metadata": {},
     "output_type": "execute_result"
    }
   ],
   "source": [
    "test_sentence =  words_idx.lookup(test_sentence)\n",
    "test_sentence"
   ]
  },
  {
   "cell_type": "markdown",
   "id": "00a4f495",
   "metadata": {
    "papermill": {
     "duration": 0.030314,
     "end_time": "2024-08-06T17:47:26.646367",
     "exception": false,
     "start_time": "2024-08-06T17:47:26.616053",
     "status": "completed"
    },
    "tags": []
   },
   "source": [
    "- Padding"
   ]
  },
  {
   "cell_type": "code",
   "execution_count": 47,
   "id": "ff84e6c0",
   "metadata": {
    "execution": {
     "iopub.execute_input": "2024-08-06T17:47:26.709223Z",
     "iopub.status.busy": "2024-08-06T17:47:26.708734Z",
     "iopub.status.idle": "2024-08-06T17:47:26.721805Z",
     "shell.execute_reply": "2024-08-06T17:47:26.720511Z"
    },
    "papermill": {
     "duration": 0.047707,
     "end_time": "2024-08-06T17:47:26.724386",
     "exception": false,
     "start_time": "2024-08-06T17:47:26.676679",
     "status": "completed"
    },
    "tags": []
   },
   "outputs": [
    {
     "data": {
      "text/plain": [
       "<tf.Tensor: shape=(64,), dtype=int32, numpy=\n",
       "array([36710,  5095,   466, 16678,     5,     3,  5152, 36711,     0,\n",
       "           0,     0,     0,     0,     0,     0,     0,     0,     0,\n",
       "           0,     0,     0,     0,     0,     0,     0,     0,     0,\n",
       "           0,     0,     0,     0,     0,     0,     0,     0,     0,\n",
       "           0,     0,     0,     0,     0,     0,     0,     0,     0,\n",
       "           0,     0,     0,     0,     0,     0,     0,     0,     0,\n",
       "           0,     0,     0,     0,     0,     0,     0,     0,     0,\n",
       "           0], dtype=int32)>"
      ]
     },
     "execution_count": 47,
     "metadata": {},
     "output_type": "execute_result"
    }
   ],
   "source": [
    "test_sentence = tf.concat([test_sentence, tf.zeros(max_seq_len-len(test_sentence), dtype=\"int32\")],axis=0)\n",
    "test_sentence"
   ]
  },
  {
   "cell_type": "code",
   "execution_count": 48,
   "id": "3d43f9bf",
   "metadata": {
    "execution": {
     "iopub.execute_input": "2024-08-06T17:47:26.785557Z",
     "iopub.status.busy": "2024-08-06T17:47:26.785119Z",
     "iopub.status.idle": "2024-08-06T17:49:31.485814Z",
     "shell.execute_reply": "2024-08-06T17:49:31.484507Z"
    },
    "papermill": {
     "duration": 124.768164,
     "end_time": "2024-08-06T17:49:31.522134",
     "exception": false,
     "start_time": "2024-08-06T17:47:26.753970",
     "status": "completed"
    },
    "tags": []
   },
   "outputs": [
    {
     "name": "stderr",
     "output_type": "stream",
     "text": [
      "/opt/conda/lib/python3.10/site-packages/keras/src/layers/layer.py:915: UserWarning: Layer 'multi_head_attention_54' (of type MultiHeadAttention) was passed an input with a mask attached to it. However, this layer does not support masking and will therefore destroy the mask information. Downstream layers will not see the mask.\n",
      "  warnings.warn(\n",
      "/opt/conda/lib/python3.10/site-packages/keras/src/layers/layer.py:915: UserWarning: Layer 'residual_block_90' (of type ResidualBlock) was passed an input with a mask attached to it. However, this layer does not support masking and will therefore destroy the mask information. Downstream layers will not see the mask.\n",
      "  warnings.warn(\n",
      "/opt/conda/lib/python3.10/site-packages/keras/src/layers/layer.py:915: UserWarning: Layer 'ffn_36' (of type FFN) was passed an input with a mask attached to it. However, this layer does not support masking and will therefore destroy the mask information. Downstream layers will not see the mask.\n",
      "  warnings.warn(\n",
      "/opt/conda/lib/python3.10/site-packages/keras/src/layers/layer.py:915: UserWarning: Layer 'residual_block_91' (of type ResidualBlock) was passed an input with a mask attached to it. However, this layer does not support masking and will therefore destroy the mask information. Downstream layers will not see the mask.\n",
      "  warnings.warn(\n",
      "/opt/conda/lib/python3.10/site-packages/keras/src/layers/layer.py:915: UserWarning: Layer 'sub_layer2_36' (of type SubLayer2) was passed an input with a mask attached to it. However, this layer does not support masking and will therefore destroy the mask information. Downstream layers will not see the mask.\n",
      "  warnings.warn(\n",
      "/opt/conda/lib/python3.10/site-packages/keras/src/layers/layer.py:915: UserWarning: Layer 'multi_head_attention_55' (of type MultiHeadAttention) was passed an input with a mask attached to it. However, this layer does not support masking and will therefore destroy the mask information. Downstream layers will not see the mask.\n",
      "  warnings.warn(\n",
      "/opt/conda/lib/python3.10/site-packages/keras/src/layers/layer.py:915: UserWarning: Layer 'residual_block_92' (of type ResidualBlock) was passed an input with a mask attached to it. However, this layer does not support masking and will therefore destroy the mask information. Downstream layers will not see the mask.\n",
      "  warnings.warn(\n",
      "/opt/conda/lib/python3.10/site-packages/keras/src/layers/layer.py:915: UserWarning: Layer 'ffn_37' (of type FFN) was passed an input with a mask attached to it. However, this layer does not support masking and will therefore destroy the mask information. Downstream layers will not see the mask.\n",
      "  warnings.warn(\n",
      "/opt/conda/lib/python3.10/site-packages/keras/src/layers/layer.py:915: UserWarning: Layer 'residual_block_93' (of type ResidualBlock) was passed an input with a mask attached to it. However, this layer does not support masking and will therefore destroy the mask information. Downstream layers will not see the mask.\n",
      "  warnings.warn(\n",
      "/opt/conda/lib/python3.10/site-packages/keras/src/layers/layer.py:915: UserWarning: Layer 'sub_layer2_37' (of type SubLayer2) was passed an input with a mask attached to it. However, this layer does not support masking and will therefore destroy the mask information. Downstream layers will not see the mask.\n",
      "  warnings.warn(\n",
      "/opt/conda/lib/python3.10/site-packages/keras/src/layers/layer.py:915: UserWarning: Layer 'multi_head_attention_56' (of type MultiHeadAttention) was passed an input with a mask attached to it. However, this layer does not support masking and will therefore destroy the mask information. Downstream layers will not see the mask.\n",
      "  warnings.warn(\n",
      "/opt/conda/lib/python3.10/site-packages/keras/src/layers/layer.py:915: UserWarning: Layer 'residual_block_94' (of type ResidualBlock) was passed an input with a mask attached to it. However, this layer does not support masking and will therefore destroy the mask information. Downstream layers will not see the mask.\n",
      "  warnings.warn(\n",
      "/opt/conda/lib/python3.10/site-packages/keras/src/layers/layer.py:915: UserWarning: Layer 'ffn_38' (of type FFN) was passed an input with a mask attached to it. However, this layer does not support masking and will therefore destroy the mask information. Downstream layers will not see the mask.\n",
      "  warnings.warn(\n",
      "/opt/conda/lib/python3.10/site-packages/keras/src/layers/layer.py:915: UserWarning: Layer 'residual_block_95' (of type ResidualBlock) was passed an input with a mask attached to it. However, this layer does not support masking and will therefore destroy the mask information. Downstream layers will not see the mask.\n",
      "  warnings.warn(\n",
      "/opt/conda/lib/python3.10/site-packages/keras/src/layers/layer.py:915: UserWarning: Layer 'sub_layer2_38' (of type SubLayer2) was passed an input with a mask attached to it. However, this layer does not support masking and will therefore destroy the mask information. Downstream layers will not see the mask.\n",
      "  warnings.warn(\n",
      "/opt/conda/lib/python3.10/site-packages/keras/src/layers/layer.py:915: UserWarning: Layer 'multi_head_attention_57' (of type MultiHeadAttention) was passed an input with a mask attached to it. However, this layer does not support masking and will therefore destroy the mask information. Downstream layers will not see the mask.\n",
      "  warnings.warn(\n",
      "/opt/conda/lib/python3.10/site-packages/keras/src/layers/layer.py:915: UserWarning: Layer 'residual_block_96' (of type ResidualBlock) was passed an input with a mask attached to it. However, this layer does not support masking and will therefore destroy the mask information. Downstream layers will not see the mask.\n",
      "  warnings.warn(\n",
      "/opt/conda/lib/python3.10/site-packages/keras/src/layers/layer.py:915: UserWarning: Layer 'ffn_39' (of type FFN) was passed an input with a mask attached to it. However, this layer does not support masking and will therefore destroy the mask information. Downstream layers will not see the mask.\n",
      "  warnings.warn(\n",
      "/opt/conda/lib/python3.10/site-packages/keras/src/layers/layer.py:915: UserWarning: Layer 'residual_block_97' (of type ResidualBlock) was passed an input with a mask attached to it. However, this layer does not support masking and will therefore destroy the mask information. Downstream layers will not see the mask.\n",
      "  warnings.warn(\n",
      "/opt/conda/lib/python3.10/site-packages/keras/src/layers/layer.py:915: UserWarning: Layer 'sub_layer2_39' (of type SubLayer2) was passed an input with a mask attached to it. However, this layer does not support masking and will therefore destroy the mask information. Downstream layers will not see the mask.\n",
      "  warnings.warn(\n",
      "/opt/conda/lib/python3.10/site-packages/keras/src/layers/layer.py:915: UserWarning: Layer 'multi_head_attention_58' (of type MultiHeadAttention) was passed an input with a mask attached to it. However, this layer does not support masking and will therefore destroy the mask information. Downstream layers will not see the mask.\n",
      "  warnings.warn(\n",
      "/opt/conda/lib/python3.10/site-packages/keras/src/layers/layer.py:915: UserWarning: Layer 'residual_block_98' (of type ResidualBlock) was passed an input with a mask attached to it. However, this layer does not support masking and will therefore destroy the mask information. Downstream layers will not see the mask.\n",
      "  warnings.warn(\n",
      "/opt/conda/lib/python3.10/site-packages/keras/src/layers/layer.py:915: UserWarning: Layer 'ffn_40' (of type FFN) was passed an input with a mask attached to it. However, this layer does not support masking and will therefore destroy the mask information. Downstream layers will not see the mask.\n",
      "  warnings.warn(\n",
      "/opt/conda/lib/python3.10/site-packages/keras/src/layers/layer.py:915: UserWarning: Layer 'residual_block_99' (of type ResidualBlock) was passed an input with a mask attached to it. However, this layer does not support masking and will therefore destroy the mask information. Downstream layers will not see the mask.\n",
      "  warnings.warn(\n",
      "/opt/conda/lib/python3.10/site-packages/keras/src/layers/layer.py:915: UserWarning: Layer 'sub_layer2_40' (of type SubLayer2) was passed an input with a mask attached to it. However, this layer does not support masking and will therefore destroy the mask information. Downstream layers will not see the mask.\n",
      "  warnings.warn(\n",
      "/opt/conda/lib/python3.10/site-packages/keras/src/layers/layer.py:915: UserWarning: Layer 'multi_head_attention_59' (of type MultiHeadAttention) was passed an input with a mask attached to it. However, this layer does not support masking and will therefore destroy the mask information. Downstream layers will not see the mask.\n",
      "  warnings.warn(\n",
      "/opt/conda/lib/python3.10/site-packages/keras/src/layers/layer.py:915: UserWarning: Layer 'residual_block_100' (of type ResidualBlock) was passed an input with a mask attached to it. However, this layer does not support masking and will therefore destroy the mask information. Downstream layers will not see the mask.\n",
      "  warnings.warn(\n",
      "/opt/conda/lib/python3.10/site-packages/keras/src/layers/layer.py:915: UserWarning: Layer 'ffn_41' (of type FFN) was passed an input with a mask attached to it. However, this layer does not support masking and will therefore destroy the mask information. Downstream layers will not see the mask.\n",
      "  warnings.warn(\n",
      "/opt/conda/lib/python3.10/site-packages/keras/src/layers/layer.py:915: UserWarning: Layer 'residual_block_101' (of type ResidualBlock) was passed an input with a mask attached to it. However, this layer does not support masking and will therefore destroy the mask information. Downstream layers will not see the mask.\n",
      "  warnings.warn(\n",
      "/opt/conda/lib/python3.10/site-packages/keras/src/layers/layer.py:915: UserWarning: Layer 'sub_layer2_41' (of type SubLayer2) was passed an input with a mask attached to it. However, this layer does not support masking and will therefore destroy the mask information. Downstream layers will not see the mask.\n",
      "  warnings.warn(\n",
      "/opt/conda/lib/python3.10/site-packages/keras/src/layers/layer.py:915: UserWarning: Layer 'encoder_3' (of type Encoder) was passed an input with a mask attached to it. However, this layer does not support masking and will therefore destroy the mask information. Downstream layers will not see the mask.\n",
      "  warnings.warn(\n",
      "/opt/conda/lib/python3.10/site-packages/keras/src/layers/layer.py:915: UserWarning: Layer 'multi_head_attention_60' (of type MultiHeadAttention) was passed an input with a mask attached to it. However, this layer does not support masking and will therefore destroy the mask information. Downstream layers will not see the mask.\n",
      "  warnings.warn(\n",
      "/opt/conda/lib/python3.10/site-packages/keras/src/layers/layer.py:915: UserWarning: Layer 'residual_block_102' (of type ResidualBlock) was passed an input with a mask attached to it. However, this layer does not support masking and will therefore destroy the mask information. Downstream layers will not see the mask.\n",
      "  warnings.warn(\n",
      "/opt/conda/lib/python3.10/site-packages/keras/src/layers/layer.py:915: UserWarning: Layer 'multi_head_attention_61' (of type MultiHeadAttention) was passed an input with a mask attached to it. However, this layer does not support masking and will therefore destroy the mask information. Downstream layers will not see the mask.\n",
      "  warnings.warn(\n",
      "/opt/conda/lib/python3.10/site-packages/keras/src/layers/layer.py:915: UserWarning: Layer 'residual_block_103' (of type ResidualBlock) was passed an input with a mask attached to it. However, this layer does not support masking and will therefore destroy the mask information. Downstream layers will not see the mask.\n",
      "  warnings.warn(\n",
      "/opt/conda/lib/python3.10/site-packages/keras/src/layers/layer.py:915: UserWarning: Layer 'ffn_42' (of type FFN) was passed an input with a mask attached to it. However, this layer does not support masking and will therefore destroy the mask information. Downstream layers will not see the mask.\n",
      "  warnings.warn(\n",
      "/opt/conda/lib/python3.10/site-packages/keras/src/layers/layer.py:915: UserWarning: Layer 'residual_block_104' (of type ResidualBlock) was passed an input with a mask attached to it. However, this layer does not support masking and will therefore destroy the mask information. Downstream layers will not see the mask.\n",
      "  warnings.warn(\n",
      "/opt/conda/lib/python3.10/site-packages/keras/src/layers/layer.py:915: UserWarning: Layer 'sub_layer2_42' (of type SubLayer2) was passed an input with a mask attached to it. However, this layer does not support masking and will therefore destroy the mask information. Downstream layers will not see the mask.\n",
      "  warnings.warn(\n",
      "/opt/conda/lib/python3.10/site-packages/keras/src/layers/layer.py:915: UserWarning: Layer 'multi_head_attention_62' (of type MultiHeadAttention) was passed an input with a mask attached to it. However, this layer does not support masking and will therefore destroy the mask information. Downstream layers will not see the mask.\n",
      "  warnings.warn(\n",
      "/opt/conda/lib/python3.10/site-packages/keras/src/layers/layer.py:915: UserWarning: Layer 'residual_block_105' (of type ResidualBlock) was passed an input with a mask attached to it. However, this layer does not support masking and will therefore destroy the mask information. Downstream layers will not see the mask.\n",
      "  warnings.warn(\n",
      "/opt/conda/lib/python3.10/site-packages/keras/src/layers/layer.py:915: UserWarning: Layer 'multi_head_attention_63' (of type MultiHeadAttention) was passed an input with a mask attached to it. However, this layer does not support masking and will therefore destroy the mask information. Downstream layers will not see the mask.\n",
      "  warnings.warn(\n",
      "/opt/conda/lib/python3.10/site-packages/keras/src/layers/layer.py:915: UserWarning: Layer 'residual_block_106' (of type ResidualBlock) was passed an input with a mask attached to it. However, this layer does not support masking and will therefore destroy the mask information. Downstream layers will not see the mask.\n",
      "  warnings.warn(\n",
      "/opt/conda/lib/python3.10/site-packages/keras/src/layers/layer.py:915: UserWarning: Layer 'ffn_43' (of type FFN) was passed an input with a mask attached to it. However, this layer does not support masking and will therefore destroy the mask information. Downstream layers will not see the mask.\n",
      "  warnings.warn(\n",
      "/opt/conda/lib/python3.10/site-packages/keras/src/layers/layer.py:915: UserWarning: Layer 'residual_block_107' (of type ResidualBlock) was passed an input with a mask attached to it. However, this layer does not support masking and will therefore destroy the mask information. Downstream layers will not see the mask.\n",
      "  warnings.warn(\n",
      "/opt/conda/lib/python3.10/site-packages/keras/src/layers/layer.py:915: UserWarning: Layer 'sub_layer2_43' (of type SubLayer2) was passed an input with a mask attached to it. However, this layer does not support masking and will therefore destroy the mask information. Downstream layers will not see the mask.\n",
      "  warnings.warn(\n",
      "/opt/conda/lib/python3.10/site-packages/keras/src/layers/layer.py:915: UserWarning: Layer 'multi_head_attention_64' (of type MultiHeadAttention) was passed an input with a mask attached to it. However, this layer does not support masking and will therefore destroy the mask information. Downstream layers will not see the mask.\n",
      "  warnings.warn(\n",
      "/opt/conda/lib/python3.10/site-packages/keras/src/layers/layer.py:915: UserWarning: Layer 'residual_block_108' (of type ResidualBlock) was passed an input with a mask attached to it. However, this layer does not support masking and will therefore destroy the mask information. Downstream layers will not see the mask.\n",
      "  warnings.warn(\n",
      "/opt/conda/lib/python3.10/site-packages/keras/src/layers/layer.py:915: UserWarning: Layer 'multi_head_attention_65' (of type MultiHeadAttention) was passed an input with a mask attached to it. However, this layer does not support masking and will therefore destroy the mask information. Downstream layers will not see the mask.\n",
      "  warnings.warn(\n",
      "/opt/conda/lib/python3.10/site-packages/keras/src/layers/layer.py:915: UserWarning: Layer 'residual_block_109' (of type ResidualBlock) was passed an input with a mask attached to it. However, this layer does not support masking and will therefore destroy the mask information. Downstream layers will not see the mask.\n",
      "  warnings.warn(\n",
      "/opt/conda/lib/python3.10/site-packages/keras/src/layers/layer.py:915: UserWarning: Layer 'ffn_44' (of type FFN) was passed an input with a mask attached to it. However, this layer does not support masking and will therefore destroy the mask information. Downstream layers will not see the mask.\n",
      "  warnings.warn(\n",
      "/opt/conda/lib/python3.10/site-packages/keras/src/layers/layer.py:915: UserWarning: Layer 'residual_block_110' (of type ResidualBlock) was passed an input with a mask attached to it. However, this layer does not support masking and will therefore destroy the mask information. Downstream layers will not see the mask.\n",
      "  warnings.warn(\n",
      "/opt/conda/lib/python3.10/site-packages/keras/src/layers/layer.py:915: UserWarning: Layer 'sub_layer2_44' (of type SubLayer2) was passed an input with a mask attached to it. However, this layer does not support masking and will therefore destroy the mask information. Downstream layers will not see the mask.\n",
      "  warnings.warn(\n",
      "/opt/conda/lib/python3.10/site-packages/keras/src/layers/layer.py:915: UserWarning: Layer 'multi_head_attention_66' (of type MultiHeadAttention) was passed an input with a mask attached to it. However, this layer does not support masking and will therefore destroy the mask information. Downstream layers will not see the mask.\n",
      "  warnings.warn(\n",
      "/opt/conda/lib/python3.10/site-packages/keras/src/layers/layer.py:915: UserWarning: Layer 'residual_block_111' (of type ResidualBlock) was passed an input with a mask attached to it. However, this layer does not support masking and will therefore destroy the mask information. Downstream layers will not see the mask.\n",
      "  warnings.warn(\n",
      "/opt/conda/lib/python3.10/site-packages/keras/src/layers/layer.py:915: UserWarning: Layer 'multi_head_attention_67' (of type MultiHeadAttention) was passed an input with a mask attached to it. However, this layer does not support masking and will therefore destroy the mask information. Downstream layers will not see the mask.\n",
      "  warnings.warn(\n",
      "/opt/conda/lib/python3.10/site-packages/keras/src/layers/layer.py:915: UserWarning: Layer 'residual_block_112' (of type ResidualBlock) was passed an input with a mask attached to it. However, this layer does not support masking and will therefore destroy the mask information. Downstream layers will not see the mask.\n",
      "  warnings.warn(\n",
      "/opt/conda/lib/python3.10/site-packages/keras/src/layers/layer.py:915: UserWarning: Layer 'ffn_45' (of type FFN) was passed an input with a mask attached to it. However, this layer does not support masking and will therefore destroy the mask information. Downstream layers will not see the mask.\n",
      "  warnings.warn(\n",
      "/opt/conda/lib/python3.10/site-packages/keras/src/layers/layer.py:915: UserWarning: Layer 'residual_block_113' (of type ResidualBlock) was passed an input with a mask attached to it. However, this layer does not support masking and will therefore destroy the mask information. Downstream layers will not see the mask.\n",
      "  warnings.warn(\n",
      "/opt/conda/lib/python3.10/site-packages/keras/src/layers/layer.py:915: UserWarning: Layer 'sub_layer2_45' (of type SubLayer2) was passed an input with a mask attached to it. However, this layer does not support masking and will therefore destroy the mask information. Downstream layers will not see the mask.\n",
      "  warnings.warn(\n",
      "/opt/conda/lib/python3.10/site-packages/keras/src/layers/layer.py:915: UserWarning: Layer 'multi_head_attention_68' (of type MultiHeadAttention) was passed an input with a mask attached to it. However, this layer does not support masking and will therefore destroy the mask information. Downstream layers will not see the mask.\n",
      "  warnings.warn(\n",
      "/opt/conda/lib/python3.10/site-packages/keras/src/layers/layer.py:915: UserWarning: Layer 'residual_block_114' (of type ResidualBlock) was passed an input with a mask attached to it. However, this layer does not support masking and will therefore destroy the mask information. Downstream layers will not see the mask.\n",
      "  warnings.warn(\n",
      "/opt/conda/lib/python3.10/site-packages/keras/src/layers/layer.py:915: UserWarning: Layer 'multi_head_attention_69' (of type MultiHeadAttention) was passed an input with a mask attached to it. However, this layer does not support masking and will therefore destroy the mask information. Downstream layers will not see the mask.\n",
      "  warnings.warn(\n",
      "/opt/conda/lib/python3.10/site-packages/keras/src/layers/layer.py:915: UserWarning: Layer 'residual_block_115' (of type ResidualBlock) was passed an input with a mask attached to it. However, this layer does not support masking and will therefore destroy the mask information. Downstream layers will not see the mask.\n",
      "  warnings.warn(\n",
      "/opt/conda/lib/python3.10/site-packages/keras/src/layers/layer.py:915: UserWarning: Layer 'ffn_46' (of type FFN) was passed an input with a mask attached to it. However, this layer does not support masking and will therefore destroy the mask information. Downstream layers will not see the mask.\n",
      "  warnings.warn(\n",
      "/opt/conda/lib/python3.10/site-packages/keras/src/layers/layer.py:915: UserWarning: Layer 'residual_block_116' (of type ResidualBlock) was passed an input with a mask attached to it. However, this layer does not support masking and will therefore destroy the mask information. Downstream layers will not see the mask.\n",
      "  warnings.warn(\n",
      "/opt/conda/lib/python3.10/site-packages/keras/src/layers/layer.py:915: UserWarning: Layer 'sub_layer2_46' (of type SubLayer2) was passed an input with a mask attached to it. However, this layer does not support masking and will therefore destroy the mask information. Downstream layers will not see the mask.\n",
      "  warnings.warn(\n",
      "/opt/conda/lib/python3.10/site-packages/keras/src/layers/layer.py:915: UserWarning: Layer 'multi_head_attention_70' (of type MultiHeadAttention) was passed an input with a mask attached to it. However, this layer does not support masking and will therefore destroy the mask information. Downstream layers will not see the mask.\n",
      "  warnings.warn(\n",
      "/opt/conda/lib/python3.10/site-packages/keras/src/layers/layer.py:915: UserWarning: Layer 'residual_block_117' (of type ResidualBlock) was passed an input with a mask attached to it. However, this layer does not support masking and will therefore destroy the mask information. Downstream layers will not see the mask.\n",
      "  warnings.warn(\n",
      "/opt/conda/lib/python3.10/site-packages/keras/src/layers/layer.py:915: UserWarning: Layer 'multi_head_attention_71' (of type MultiHeadAttention) was passed an input with a mask attached to it. However, this layer does not support masking and will therefore destroy the mask information. Downstream layers will not see the mask.\n",
      "  warnings.warn(\n",
      "/opt/conda/lib/python3.10/site-packages/keras/src/layers/layer.py:915: UserWarning: Layer 'residual_block_118' (of type ResidualBlock) was passed an input with a mask attached to it. However, this layer does not support masking and will therefore destroy the mask information. Downstream layers will not see the mask.\n",
      "  warnings.warn(\n",
      "/opt/conda/lib/python3.10/site-packages/keras/src/layers/layer.py:915: UserWarning: Layer 'ffn_47' (of type FFN) was passed an input with a mask attached to it. However, this layer does not support masking and will therefore destroy the mask information. Downstream layers will not see the mask.\n",
      "  warnings.warn(\n",
      "/opt/conda/lib/python3.10/site-packages/keras/src/layers/layer.py:915: UserWarning: Layer 'residual_block_119' (of type ResidualBlock) was passed an input with a mask attached to it. However, this layer does not support masking and will therefore destroy the mask information. Downstream layers will not see the mask.\n",
      "  warnings.warn(\n",
      "/opt/conda/lib/python3.10/site-packages/keras/src/layers/layer.py:915: UserWarning: Layer 'sub_layer2_47' (of type SubLayer2) was passed an input with a mask attached to it. However, this layer does not support masking and will therefore destroy the mask information. Downstream layers will not see the mask.\n",
      "  warnings.warn(\n",
      "/opt/conda/lib/python3.10/site-packages/keras/src/layers/layer.py:915: UserWarning: Layer 'decoder_3' (of type Decoder) was passed an input with a mask attached to it. However, this layer does not support masking and will therefore destroy the mask information. Downstream layers will not see the mask.\n",
      "  warnings.warn(\n"
     ]
    },
    {
     "data": {
      "text/plain": [
       "'<StartOfSequence> Salvador Salvador Salvador Salvador Salvador Salvador Salvador Salvador Salvador Salvador Salvador Salvador Salvador Salvador Salvador Salvador Salvador Salvador Salvador Salvador Salvador Salvador Salvador Salvador Salvador Salvador Salvador Salvador Salvador Salvador Salvador Salvador Salvador Salvador Salvador Salvador Salvador Salvador Salvador Salvador Salvador Salvador Salvador Salvador Salvador Salvador Salvador Salvador Salvador Salvador Salvador Salvador Salvador Salvador Salvador Salvador Salvador Salvador Salvador Salvador Salvador Salvador Salvador Salvador'"
      ]
     },
     "execution_count": 48,
     "metadata": {},
     "output_type": "execute_result"
    }
   ],
   "source": [
    "### Get output\n",
    "text= \"<StartOfSequence>\"\n",
    "for i in range(max_seq_len):\n",
    "    # Get padded decoder input\n",
    "\n",
    "    dec_in = text\n",
    "    dec_in = tf.strings.split(tf.strings.join([dec_in],separator=' '))\n",
    "    dec_in =  words_idx.lookup(dec_in)\n",
    "    dec_in = tf.concat([dec_in, tf.zeros(max_seq_len-len(dec_in), dtype=\"int32\")],axis=0)\n",
    "\n",
    "\n",
    "    logit = transformer((test_sentence[None],dec_in[None]), training=False)\n",
    "\n",
    "    word = idx_words.lookup(tf.argmax(tf.nn.softmax(logit[0,i,1:]), output_type=\"int32\")+1).numpy().decode('utf-8')\n",
    "\n",
    "    text += \" \" + word\n",
    "    if word==end:\n",
    "        break\n",
    "    \n",
    "\n",
    "    \n",
    "    \n",
    "text     "
   ]
  },
  {
   "cell_type": "code",
   "execution_count": 49,
   "id": "2daec458",
   "metadata": {
    "execution": {
     "iopub.execute_input": "2024-08-06T17:49:31.592578Z",
     "iopub.status.busy": "2024-08-06T17:49:31.592151Z",
     "iopub.status.idle": "2024-08-06T17:49:31.599918Z",
     "shell.execute_reply": "2024-08-06T17:49:31.598652Z"
    },
    "papermill": {
     "duration": 0.046408,
     "end_time": "2024-08-06T17:49:31.602959",
     "exception": false,
     "start_time": "2024-08-06T17:49:31.556551",
     "status": "completed"
    },
    "tags": []
   },
   "outputs": [
    {
     "data": {
      "text/plain": [
       "'<StartOfSequence> Salvador Salvador Salvador Salvador Salvador Salvador Salvador Salvador Salvador Salvador Salvador Salvador Salvador Salvador Salvador Salvador Salvador Salvador Salvador Salvador Salvador Salvador Salvador Salvador Salvador Salvador Salvador Salvador Salvador Salvador Salvador Salvador Salvador Salvador Salvador Salvador Salvador Salvador Salvador Salvador Salvador Salvador Salvador Salvador Salvador Salvador Salvador Salvador Salvador Salvador Salvador Salvador Salvador Salvador Salvador Salvador Salvador Salvador Salvador Salvador Salvador Salvador Salvador Salvador'"
      ]
     },
     "execution_count": 49,
     "metadata": {},
     "output_type": "execute_result"
    }
   ],
   "source": [
    "text.replace(\"@@ \",\"\") # Checkout rsennrich repo for details"
   ]
  },
  {
   "cell_type": "code",
   "execution_count": 50,
   "id": "057bf956",
   "metadata": {
    "execution": {
     "iopub.execute_input": "2024-08-06T17:49:31.673160Z",
     "iopub.status.busy": "2024-08-06T17:49:31.672739Z",
     "iopub.status.idle": "2024-08-06T17:57:00.834974Z",
     "shell.execute_reply": "2024-08-06T17:57:00.833518Z"
    },
    "papermill": {
     "duration": 449.200702,
     "end_time": "2024-08-06T17:57:00.837647",
     "exception": false,
     "start_time": "2024-08-06T17:49:31.636945",
     "status": "completed"
    },
    "tags": []
   },
   "outputs": [
    {
     "name": "stdout",
     "output_type": "stream",
     "text": [
      "\u001b[1m24/24\u001b[0m \u001b[32m━━━━━━━━━━━━━━━━━━━━\u001b[0m\u001b[37m\u001b[0m \u001b[1m449s\u001b[0m 18s/step - loss: 254079.9219\n"
     ]
    },
    {
     "name": "stderr",
     "output_type": "stream",
     "text": [
      "/opt/conda/lib/python3.10/contextlib.py:153: UserWarning: Your input ran out of data; interrupting training. Make sure that your dataset or generator can generate at least `steps_per_epoch * epochs` batches. You may need to use the `.repeat()` function when building your dataset.\n",
      "  self.gen.throw(typ, value, traceback)\n"
     ]
    },
    {
     "data": {
      "text/plain": [
       "270372.8125"
      ]
     },
     "execution_count": 50,
     "metadata": {},
     "output_type": "execute_result"
    }
   ],
   "source": [
    "transformer.evaluate(test)"
   ]
  },
  {
   "cell_type": "code",
   "execution_count": 51,
   "id": "f3a5624e",
   "metadata": {
    "execution": {
     "iopub.execute_input": "2024-08-06T17:57:00.984850Z",
     "iopub.status.busy": "2024-08-06T17:57:00.984405Z",
     "iopub.status.idle": "2024-08-06T17:57:00.992016Z",
     "shell.execute_reply": "2024-08-06T17:57:00.990824Z"
    },
    "papermill": {
     "duration": 0.048035,
     "end_time": "2024-08-06T17:57:00.994615",
     "exception": false,
     "start_time": "2024-08-06T17:57:00.946580",
     "status": "completed"
    },
    "tags": []
   },
   "outputs": [
    {
     "data": {
      "text/plain": [
       "8192"
      ]
     },
     "execution_count": 51,
     "metadata": {},
     "output_type": "execute_result"
    }
   ],
   "source": [
    "128*64"
   ]
  },
  {
   "cell_type": "code",
   "execution_count": 52,
   "id": "c16f4088",
   "metadata": {
    "execution": {
     "iopub.execute_input": "2024-08-06T17:57:01.071914Z",
     "iopub.status.busy": "2024-08-06T17:57:01.070477Z",
     "iopub.status.idle": "2024-08-06T17:57:01.078212Z",
     "shell.execute_reply": "2024-08-06T17:57:01.077019Z"
    },
    "papermill": {
     "duration": 0.049463,
     "end_time": "2024-08-06T17:57:01.080705",
     "exception": false,
     "start_time": "2024-08-06T17:57:01.031242",
     "status": "completed"
    },
    "tags": []
   },
   "outputs": [
    {
     "data": {
      "text/plain": [
       "3.0517578125"
      ]
     },
     "execution_count": 52,
     "metadata": {},
     "output_type": "execute_result"
    }
   ],
   "source": [
    "25000/(128*64)"
   ]
  },
  {
   "cell_type": "code",
   "execution_count": null,
   "id": "8e80ed0f",
   "metadata": {
    "papermill": {
     "duration": 0.036635,
     "end_time": "2024-08-06T17:57:01.154096",
     "exception": false,
     "start_time": "2024-08-06T17:57:01.117461",
     "status": "completed"
    },
    "tags": []
   },
   "outputs": [],
   "source": []
  }
 ],
 "metadata": {
  "kaggle": {
   "accelerator": "none",
   "dataSources": [
    {
     "datasetId": 5501699,
     "sourceId": 9114994,
     "sourceType": "datasetVersion"
    }
   ],
   "dockerImageVersionId": 30746,
   "isGpuEnabled": false,
   "isInternetEnabled": true,
   "language": "python",
   "sourceType": "notebook"
  },
  "kernelspec": {
   "display_name": "Python 3 (ipykernel)",
   "language": "python",
   "name": "python3"
  },
  "language_info": {
   "codemirror_mode": {
    "name": "ipython",
    "version": 3
   },
   "file_extension": ".py",
   "mimetype": "text/x-python",
   "name": "python",
   "nbconvert_exporter": "python",
   "pygments_lexer": "ipython3",
   "version": "3.9.13"
  },
  "papermill": {
   "default_parameters": {},
   "duration": 605.545112,
   "end_time": "2024-08-06T17:57:03.784910",
   "environment_variables": {},
   "exception": null,
   "input_path": "__notebook__.ipynb",
   "output_path": "__notebook__.ipynb",
   "parameters": {},
   "start_time": "2024-08-06T17:46:58.239798",
   "version": "2.5.0"
  }
 },
 "nbformat": 4,
 "nbformat_minor": 5
}
